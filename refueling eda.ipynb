{
 "cells": [
  {
   "cell_type": "markdown",
   "metadata": {
    "collapsed": true,
    "pycharm": {
     "name": "#%% md\n"
    }
   },
   "source": [
    "## Подготовка данных и раздведовательный анализ"
   ]
  },
  {
   "cell_type": "code",
   "execution_count": 45,
   "metadata": {
    "pycharm": {
     "name": "#%%\n"
    }
   },
   "outputs": [],
   "source": [
    "# imports\n",
    "import pandas as pd\n",
    "import numpy as np"
   ]
  },
  {
   "cell_type": "markdown",
   "metadata": {
    "pycharm": {
     "name": "#%% md\n"
    }
   },
   "source": [
    "#### Константы\n",
    "- путь к данным\n",
    "- признаки, описывающие состояние ТС"
   ]
  },
  {
   "cell_type": "code",
   "execution_count": 46,
   "metadata": {
    "pycharm": {
     "name": "#%%\n"
    }
   },
   "outputs": [],
   "source": [
    "DATA_PATH = 'data/vehicle_dataset_public/'\n",
    "\n",
    "TAGS = ['fuelLevel', 'ingection', 'refueling2',\n",
    "        'speedAndHeight', 'tachometer']"
   ]
  },
  {
   "cell_type": "code",
   "execution_count": 47,
   "metadata": {
    "pycharm": {
     "name": "#%%\n"
    }
   },
   "outputs": [],
   "source": [
    "def dict_df_vehicle_i(i):\n",
    "    dict_df_vehicle = {}\n",
    "    for tag in TAGS:\n",
    "        dict_df_vehicle[tag] = pd.read_csv(DATA_PATH +\n",
    "                                            f'vehicle{i}_{tag}_public.csv', sep=';')\n",
    "    return dict_df_vehicle"
   ]
  },
  {
   "cell_type": "code",
   "execution_count": 48,
   "metadata": {
    "pycharm": {
     "name": "#%%\n"
    }
   },
   "outputs": [],
   "source": [
    "dict_df = dict_df_vehicle_i(1)"
   ]
  },
  {
   "cell_type": "code",
   "execution_count": 49,
   "metadata": {},
   "outputs": [
    {
     "data": {
      "text/plain": "dict_keys(['fuelLevel', 'ingection', 'refueling2', 'speedAndHeight', 'tachometer'])"
     },
     "execution_count": 49,
     "metadata": {},
     "output_type": "execute_result"
    }
   ],
   "source": [
    "dict_df.keys()"
   ]
  },
  {
   "cell_type": "code",
   "execution_count": 50,
   "metadata": {
    "pycharm": {
     "name": "#%%\n"
    }
   },
   "outputs": [],
   "source": [
    "ref_df = dict_df['refueling2'].copy()"
   ]
  },
  {
   "cell_type": "code",
   "execution_count": 51,
   "metadata": {},
   "outputs": [
    {
     "data": {
      "text/plain": "   TSID            STARTDATE              ENDDATE STARTLEVEL ENDLEVEL\n0     1  2020-01-16 11:02:40  2020-01-16 13:20:40       46,7     38,4\n1     1  2020-01-16 13:20:40  2020-01-16 13:25:46       38,4     56,7\n2     1  2020-01-17 09:05:49  2020-01-17 12:14:10       56,3       51\n3     1  2020-01-17 14:45:48  2020-01-17 16:12:27         51     43,9\n4     1  2020-01-20 09:44:03  2020-01-20 12:44:07       43,9     23,5",
      "text/html": "<div>\n<style scoped>\n    .dataframe tbody tr th:only-of-type {\n        vertical-align: middle;\n    }\n\n    .dataframe tbody tr th {\n        vertical-align: top;\n    }\n\n    .dataframe thead th {\n        text-align: right;\n    }\n</style>\n<table border=\"1\" class=\"dataframe\">\n  <thead>\n    <tr style=\"text-align: right;\">\n      <th></th>\n      <th>TSID</th>\n      <th>STARTDATE</th>\n      <th>ENDDATE</th>\n      <th>STARTLEVEL</th>\n      <th>ENDLEVEL</th>\n    </tr>\n  </thead>\n  <tbody>\n    <tr>\n      <th>0</th>\n      <td>1</td>\n      <td>2020-01-16 11:02:40</td>\n      <td>2020-01-16 13:20:40</td>\n      <td>46,7</td>\n      <td>38,4</td>\n    </tr>\n    <tr>\n      <th>1</th>\n      <td>1</td>\n      <td>2020-01-16 13:20:40</td>\n      <td>2020-01-16 13:25:46</td>\n      <td>38,4</td>\n      <td>56,7</td>\n    </tr>\n    <tr>\n      <th>2</th>\n      <td>1</td>\n      <td>2020-01-17 09:05:49</td>\n      <td>2020-01-17 12:14:10</td>\n      <td>56,3</td>\n      <td>51</td>\n    </tr>\n    <tr>\n      <th>3</th>\n      <td>1</td>\n      <td>2020-01-17 14:45:48</td>\n      <td>2020-01-17 16:12:27</td>\n      <td>51</td>\n      <td>43,9</td>\n    </tr>\n    <tr>\n      <th>4</th>\n      <td>1</td>\n      <td>2020-01-20 09:44:03</td>\n      <td>2020-01-20 12:44:07</td>\n      <td>43,9</td>\n      <td>23,5</td>\n    </tr>\n  </tbody>\n</table>\n</div>"
     },
     "execution_count": 51,
     "metadata": {},
     "output_type": "execute_result"
    }
   ],
   "source": [
    "ref_df.head()"
   ]
  },
  {
   "cell_type": "code",
   "execution_count": 52,
   "metadata": {},
   "outputs": [],
   "source": [
    "float_columns = ['STARTLEVEL', 'ENDLEVEL']\n",
    "\n",
    "for col in float_columns:\n",
    "    ref_df[col] = ref_df[col].str.replace(',', '.').astype(float)\n",
    "\n",
    "datetime_columns = ['STARTDATE', 'ENDDATE']\n",
    "\n",
    "for col in datetime_columns:\n",
    "    ref_df[col] = pd.to_datetime(ref_df[col])"
   ]
  },
  {
   "cell_type": "code",
   "execution_count": 53,
   "metadata": {},
   "outputs": [
    {
     "data": {
      "text/plain": "   TSID           STARTDATE             ENDDATE  STARTLEVEL  ENDLEVEL duration\n0     1 2020-01-16 11:02:40 2020-01-16 13:20:40        46.7      38.4 02:18:00\n1     1 2020-01-16 13:20:40 2020-01-16 13:25:46        38.4      56.7 00:05:06\n2     1 2020-01-17 09:05:49 2020-01-17 12:14:10        56.3      51.0 03:08:21\n3     1 2020-01-17 14:45:48 2020-01-17 16:12:27        51.0      43.9 01:26:39\n4     1 2020-01-20 09:44:03 2020-01-20 12:44:07        43.9      23.5 03:00:04",
      "text/html": "<div>\n<style scoped>\n    .dataframe tbody tr th:only-of-type {\n        vertical-align: middle;\n    }\n\n    .dataframe tbody tr th {\n        vertical-align: top;\n    }\n\n    .dataframe thead th {\n        text-align: right;\n    }\n</style>\n<table border=\"1\" class=\"dataframe\">\n  <thead>\n    <tr style=\"text-align: right;\">\n      <th></th>\n      <th>TSID</th>\n      <th>STARTDATE</th>\n      <th>ENDDATE</th>\n      <th>STARTLEVEL</th>\n      <th>ENDLEVEL</th>\n      <th>duration</th>\n    </tr>\n  </thead>\n  <tbody>\n    <tr>\n      <th>0</th>\n      <td>1</td>\n      <td>2020-01-16 11:02:40</td>\n      <td>2020-01-16 13:20:40</td>\n      <td>46.7</td>\n      <td>38.4</td>\n      <td>02:18:00</td>\n    </tr>\n    <tr>\n      <th>1</th>\n      <td>1</td>\n      <td>2020-01-16 13:20:40</td>\n      <td>2020-01-16 13:25:46</td>\n      <td>38.4</td>\n      <td>56.7</td>\n      <td>00:05:06</td>\n    </tr>\n    <tr>\n      <th>2</th>\n      <td>1</td>\n      <td>2020-01-17 09:05:49</td>\n      <td>2020-01-17 12:14:10</td>\n      <td>56.3</td>\n      <td>51.0</td>\n      <td>03:08:21</td>\n    </tr>\n    <tr>\n      <th>3</th>\n      <td>1</td>\n      <td>2020-01-17 14:45:48</td>\n      <td>2020-01-17 16:12:27</td>\n      <td>51.0</td>\n      <td>43.9</td>\n      <td>01:26:39</td>\n    </tr>\n    <tr>\n      <th>4</th>\n      <td>1</td>\n      <td>2020-01-20 09:44:03</td>\n      <td>2020-01-20 12:44:07</td>\n      <td>43.9</td>\n      <td>23.5</td>\n      <td>03:00:04</td>\n    </tr>\n  </tbody>\n</table>\n</div>"
     },
     "execution_count": 53,
     "metadata": {},
     "output_type": "execute_result"
    }
   ],
   "source": [
    "ref_df['duration'] = ref_df['ENDDATE'] - ref_df['STARTDATE']\n",
    "ref_df.head()"
   ]
  },
  {
   "cell_type": "code",
   "execution_count": 54,
   "metadata": {},
   "outputs": [
    {
     "data": {
      "text/plain": "count                       103\nmean     0 days 01:32:47.621359\nstd      0 days 01:12:55.148053\nmin             0 days 00:01:00\n25%      0 days 00:08:39.500000\n50%             0 days 01:40:27\n75%      0 days 02:32:39.500000\nmax             0 days 03:50:23\nName: duration, dtype: object"
     },
     "execution_count": 54,
     "metadata": {},
     "output_type": "execute_result"
    }
   ],
   "source": [
    "ref_df['duration'].describe()"
   ]
  },
  {
   "cell_type": "code",
   "execution_count": 55,
   "metadata": {},
   "outputs": [
    {
     "data": {
      "text/plain": "   hours  minutes  seconds\n0      2       18        0\n1      0        5        6\n2      3        8       21\n3      1       26       39\n4      3        0        4",
      "text/html": "<div>\n<style scoped>\n    .dataframe tbody tr th:only-of-type {\n        vertical-align: middle;\n    }\n\n    .dataframe tbody tr th {\n        vertical-align: top;\n    }\n\n    .dataframe thead th {\n        text-align: right;\n    }\n</style>\n<table border=\"1\" class=\"dataframe\">\n  <thead>\n    <tr style=\"text-align: right;\">\n      <th></th>\n      <th>hours</th>\n      <th>minutes</th>\n      <th>seconds</th>\n    </tr>\n  </thead>\n  <tbody>\n    <tr>\n      <th>0</th>\n      <td>2</td>\n      <td>18</td>\n      <td>0</td>\n    </tr>\n    <tr>\n      <th>1</th>\n      <td>0</td>\n      <td>5</td>\n      <td>6</td>\n    </tr>\n    <tr>\n      <th>2</th>\n      <td>3</td>\n      <td>8</td>\n      <td>21</td>\n    </tr>\n    <tr>\n      <th>3</th>\n      <td>1</td>\n      <td>26</td>\n      <td>39</td>\n    </tr>\n    <tr>\n      <th>4</th>\n      <td>3</td>\n      <td>0</td>\n      <td>4</td>\n    </tr>\n  </tbody>\n</table>\n</div>"
     },
     "execution_count": 55,
     "metadata": {},
     "output_type": "execute_result"
    }
   ],
   "source": [
    "duration_components = ref_df['duration'].dt.components[['hours', 'minutes', 'seconds']]\n",
    "duration_components.head()"
   ]
  },
  {
   "cell_type": "code",
   "execution_count": 56,
   "metadata": {},
   "outputs": [
    {
     "data": {
      "text/plain": "   TSID           STARTDATE             ENDDATE  STARTLEVEL  ENDLEVEL  \\\n0     1 2020-01-16 11:02:40 2020-01-16 13:20:40        46.7      38.4   \n1     1 2020-01-16 13:20:40 2020-01-16 13:25:46        38.4      56.7   \n2     1 2020-01-17 09:05:49 2020-01-17 12:14:10        56.3      51.0   \n3     1 2020-01-17 14:45:48 2020-01-17 16:12:27        51.0      43.9   \n4     1 2020-01-20 09:44:03 2020-01-20 12:44:07        43.9      23.5   \n\n  duration  duration_minutes  \n0 02:18:00        138.000000  \n1 00:05:06          5.100000  \n2 03:08:21        188.350000  \n3 01:26:39         86.650000  \n4 03:00:04        180.066667  ",
      "text/html": "<div>\n<style scoped>\n    .dataframe tbody tr th:only-of-type {\n        vertical-align: middle;\n    }\n\n    .dataframe tbody tr th {\n        vertical-align: top;\n    }\n\n    .dataframe thead th {\n        text-align: right;\n    }\n</style>\n<table border=\"1\" class=\"dataframe\">\n  <thead>\n    <tr style=\"text-align: right;\">\n      <th></th>\n      <th>TSID</th>\n      <th>STARTDATE</th>\n      <th>ENDDATE</th>\n      <th>STARTLEVEL</th>\n      <th>ENDLEVEL</th>\n      <th>duration</th>\n      <th>duration_minutes</th>\n    </tr>\n  </thead>\n  <tbody>\n    <tr>\n      <th>0</th>\n      <td>1</td>\n      <td>2020-01-16 11:02:40</td>\n      <td>2020-01-16 13:20:40</td>\n      <td>46.7</td>\n      <td>38.4</td>\n      <td>02:18:00</td>\n      <td>138.000000</td>\n    </tr>\n    <tr>\n      <th>1</th>\n      <td>1</td>\n      <td>2020-01-16 13:20:40</td>\n      <td>2020-01-16 13:25:46</td>\n      <td>38.4</td>\n      <td>56.7</td>\n      <td>00:05:06</td>\n      <td>5.100000</td>\n    </tr>\n    <tr>\n      <th>2</th>\n      <td>1</td>\n      <td>2020-01-17 09:05:49</td>\n      <td>2020-01-17 12:14:10</td>\n      <td>56.3</td>\n      <td>51.0</td>\n      <td>03:08:21</td>\n      <td>188.350000</td>\n    </tr>\n    <tr>\n      <th>3</th>\n      <td>1</td>\n      <td>2020-01-17 14:45:48</td>\n      <td>2020-01-17 16:12:27</td>\n      <td>51.0</td>\n      <td>43.9</td>\n      <td>01:26:39</td>\n      <td>86.650000</td>\n    </tr>\n    <tr>\n      <th>4</th>\n      <td>1</td>\n      <td>2020-01-20 09:44:03</td>\n      <td>2020-01-20 12:44:07</td>\n      <td>43.9</td>\n      <td>23.5</td>\n      <td>03:00:04</td>\n      <td>180.066667</td>\n    </tr>\n  </tbody>\n</table>\n</div>"
     },
     "execution_count": 56,
     "metadata": {},
     "output_type": "execute_result"
    }
   ],
   "source": [
    "# длительность в минутах\n",
    "ref_df['duration_minutes'] = np.dot(duration_components, [60, 1, 1/60])\n",
    "ref_df.head()"
   ]
  },
  {
   "cell_type": "code",
   "execution_count": 57,
   "metadata": {},
   "outputs": [
    {
     "data": {
      "text/plain": "   TSID           STARTDATE             ENDDATE  STARTLEVEL  ENDLEVEL  \\\n0     1 2020-01-16 11:02:40 2020-01-16 13:20:40        46.7      38.4   \n1     1 2020-01-16 13:20:40 2020-01-16 13:25:46        38.4      56.7   \n2     1 2020-01-17 09:05:49 2020-01-17 12:14:10        56.3      51.0   \n3     1 2020-01-17 14:45:48 2020-01-17 16:12:27        51.0      43.9   \n4     1 2020-01-20 09:44:03 2020-01-20 12:44:07        43.9      23.5   \n\n  duration  duration_minutes       LPM  \n0 02:18:00        138.000000 -0.060145  \n1 00:05:06          5.100000  3.588235  \n2 03:08:21        188.350000 -0.028139  \n3 01:26:39         86.650000 -0.081939  \n4 03:00:04        180.066667 -0.113291  ",
      "text/html": "<div>\n<style scoped>\n    .dataframe tbody tr th:only-of-type {\n        vertical-align: middle;\n    }\n\n    .dataframe tbody tr th {\n        vertical-align: top;\n    }\n\n    .dataframe thead th {\n        text-align: right;\n    }\n</style>\n<table border=\"1\" class=\"dataframe\">\n  <thead>\n    <tr style=\"text-align: right;\">\n      <th></th>\n      <th>TSID</th>\n      <th>STARTDATE</th>\n      <th>ENDDATE</th>\n      <th>STARTLEVEL</th>\n      <th>ENDLEVEL</th>\n      <th>duration</th>\n      <th>duration_minutes</th>\n      <th>LPM</th>\n    </tr>\n  </thead>\n  <tbody>\n    <tr>\n      <th>0</th>\n      <td>1</td>\n      <td>2020-01-16 11:02:40</td>\n      <td>2020-01-16 13:20:40</td>\n      <td>46.7</td>\n      <td>38.4</td>\n      <td>02:18:00</td>\n      <td>138.000000</td>\n      <td>-0.060145</td>\n    </tr>\n    <tr>\n      <th>1</th>\n      <td>1</td>\n      <td>2020-01-16 13:20:40</td>\n      <td>2020-01-16 13:25:46</td>\n      <td>38.4</td>\n      <td>56.7</td>\n      <td>00:05:06</td>\n      <td>5.100000</td>\n      <td>3.588235</td>\n    </tr>\n    <tr>\n      <th>2</th>\n      <td>1</td>\n      <td>2020-01-17 09:05:49</td>\n      <td>2020-01-17 12:14:10</td>\n      <td>56.3</td>\n      <td>51.0</td>\n      <td>03:08:21</td>\n      <td>188.350000</td>\n      <td>-0.028139</td>\n    </tr>\n    <tr>\n      <th>3</th>\n      <td>1</td>\n      <td>2020-01-17 14:45:48</td>\n      <td>2020-01-17 16:12:27</td>\n      <td>51.0</td>\n      <td>43.9</td>\n      <td>01:26:39</td>\n      <td>86.650000</td>\n      <td>-0.081939</td>\n    </tr>\n    <tr>\n      <th>4</th>\n      <td>1</td>\n      <td>2020-01-20 09:44:03</td>\n      <td>2020-01-20 12:44:07</td>\n      <td>43.9</td>\n      <td>23.5</td>\n      <td>03:00:04</td>\n      <td>180.066667</td>\n      <td>-0.113291</td>\n    </tr>\n  </tbody>\n</table>\n</div>"
     },
     "execution_count": 57,
     "metadata": {},
     "output_type": "execute_result"
    }
   ],
   "source": [
    "# скорость изменения объема топлива\n",
    "ref_df['LPM'] = (ref_df['ENDLEVEL'] - ref_df['STARTLEVEL']) / ref_df['duration_minutes'] # liters per minute\n",
    "ref_df.head()"
   ]
  },
  {
   "cell_type": "code",
   "execution_count": 58,
   "metadata": {},
   "outputs": [
    {
     "data": {
      "text/plain": "count    103.000000\nmean       2.709313\nstd        6.103922\nmin       -0.201195\n25%       -0.084062\n50%       -0.060791\n75%        3.628202\nmax       38.100000\nName: LPM, dtype: float64"
     },
     "execution_count": 58,
     "metadata": {},
     "output_type": "execute_result"
    }
   ],
   "source": [
    "ref_df['LPM'].describe()"
   ]
  },
  {
   "cell_type": "code",
   "execution_count": 59,
   "metadata": {},
   "outputs": [],
   "source": [
    "import seaborn as sns"
   ]
  },
  {
   "cell_type": "code",
   "execution_count": 60,
   "metadata": {},
   "outputs": [
    {
     "data": {
      "text/plain": "<matplotlib.axes._subplots.AxesSubplot at 0x3a676543a0>"
     },
     "execution_count": 60,
     "metadata": {},
     "output_type": "execute_result"
    },
    {
     "data": {
      "text/plain": "<Figure size 432x288 with 1 Axes>",
      "image/png": "[encoded data removed]"
     },
     "metadata": {
      "needs_background": "light"
     },
     "output_type": "display_data"
    }
   ],
   "source": [
    "# Заправка/слив\n",
    "sns.countplot(ref_df['LPM'] > 0)"
   ]
  },
  {
   "cell_type": "code",
   "execution_count": 61,
   "metadata": {},
   "outputs": [
    {
     "data": {
      "text/plain": "<matplotlib.axes._subplots.AxesSubplot at 0x3a67121fa0>"
     },
     "execution_count": 61,
     "metadata": {},
     "output_type": "execute_result"
    },
    {
     "data": {
      "text/plain": "<Figure size 432x288 with 1 Axes>",
      "image/png": "[encoded data removed]"
     },
     "metadata": {
      "needs_background": "light"
     },
     "output_type": "display_data"
    }
   ],
   "source": [
    "# Это, как я понимаю, сливы\n",
    "# Интересно, с какой скоростью топливо расходуется при движении\n",
    "sns.distplot(ref_df.loc[ref_df['LPM'] < 0, 'LPM'])"
   ]
  },
  {
   "cell_type": "code",
   "execution_count": 62,
   "metadata": {},
   "outputs": [],
   "source": [
    "# Теперь для всех ТС"
   ]
  },
  {
   "cell_type": "code",
   "execution_count": 63,
   "metadata": {},
   "outputs": [],
   "source": [
    "def process_refueling_df(df):\n",
    "    ref_df = df.copy()\n",
    "    \n",
    "    float_columns = ['STARTLEVEL', 'ENDLEVEL']\n",
    "    \n",
    "    for col in float_columns:\n",
    "        if ref_df[col].dtype == 'object':\n",
    "            ref_df[col] = ref_df[col].str.replace(',', '.').astype(float)\n",
    "    \n",
    "    datetime_columns = ['STARTDATE', 'ENDDATE']\n",
    "\n",
    "    for col in datetime_columns:\n",
    "        ref_df[col] = pd.to_datetime(ref_df[col])\n",
    "    \n",
    "    ref_df['duration'] = ref_df['ENDDATE'] - ref_df['STARTDATE']\n",
    "    \n",
    "    duration_components = ref_df['duration'].dt.components[['hours', 'minutes', 'seconds']]\n",
    "    \n",
    "    ref_df['duration_seconds'] = np.dot(duration_components, [60, 1, 1/60])*60\n",
    "    \n",
    "    ref_df['LPM'] = (ref_df['ENDLEVEL'] - ref_df['STARTLEVEL']) / ref_df['duration_seconds']\n",
    "    \n",
    "    return ref_df"
   ]
  },
  {
   "cell_type": "code",
   "execution_count": 64,
   "metadata": {},
   "outputs": [],
   "source": [
    "vehicle_ids = [1, 3, 5, 19, 28]\n",
    "\n",
    "ref_dfs = {}\n",
    "\n",
    "for vehicle_id in vehicle_ids:\n",
    "    dict_df = dict_df_vehicle_i(vehicle_id)\n",
    "    \n",
    "    ref_df = dict_df['refueling2']\n",
    "    \n",
    "    ref_df = process_refueling_df(ref_df)\n",
    "    \n",
    "    ref_dfs[vehicle_id] = ref_df"
   ]
  },
  {
   "cell_type": "code",
   "execution_count": 65,
   "metadata": {},
   "outputs": [
    {
     "data": {
      "text/plain": "               1          3           5          19         28\ncount  103.000000  25.000000  144.000000  22.000000  69.000000\nmean     0.045155   0.047532    0.041923   0.012718   0.037276\nstd      0.101732   0.149256    0.106549   0.066184   0.060758\nmin     -0.003353  -0.195625   -0.125000  -0.085417  -0.002292\n25%     -0.001401  -0.002714   -0.002002  -0.001815  -0.001530\n50%     -0.001013  -0.002261   -0.001461  -0.000925  -0.001106\n75%      0.060470  -0.001343   -0.000867  -0.000527   0.087667\nmax      0.635000   0.387222    0.576667   0.185510   0.252500",
      "text/html": "<div>\n<style scoped>\n    .dataframe tbody tr th:only-of-type {\n        vertical-align: middle;\n    }\n\n    .dataframe tbody tr th {\n        vertical-align: top;\n    }\n\n    .dataframe thead th {\n        text-align: right;\n    }\n</style>\n<table border=\"1\" class=\"dataframe\">\n  <thead>\n    <tr style=\"text-align: right;\">\n      <th></th>\n      <th>1</th>\n      <th>3</th>\n      <th>5</th>\n      <th>19</th>\n      <th>28</th>\n    </tr>\n  </thead>\n  <tbody>\n    <tr>\n      <th>count</th>\n      <td>103.000000</td>\n      <td>25.000000</td>\n      <td>144.000000</td>\n      <td>22.000000</td>\n      <td>69.000000</td>\n    </tr>\n    <tr>\n      <th>mean</th>\n      <td>0.045155</td>\n      <td>0.047532</td>\n      <td>0.041923</td>\n      <td>0.012718</td>\n      <td>0.037276</td>\n    </tr>\n    <tr>\n      <th>std</th>\n      <td>0.101732</td>\n      <td>0.149256</td>\n      <td>0.106549</td>\n      <td>0.066184</td>\n      <td>0.060758</td>\n    </tr>\n    <tr>\n      <th>min</th>\n      <td>-0.003353</td>\n      <td>-0.195625</td>\n      <td>-0.125000</td>\n      <td>-0.085417</td>\n      <td>-0.002292</td>\n    </tr>\n    <tr>\n      <th>25%</th>\n      <td>-0.001401</td>\n      <td>-0.002714</td>\n      <td>-0.002002</td>\n      <td>-0.001815</td>\n      <td>-0.001530</td>\n    </tr>\n    <tr>\n      <th>50%</th>\n      <td>-0.001013</td>\n      <td>-0.002261</td>\n      <td>-0.001461</td>\n      <td>-0.000925</td>\n      <td>-0.001106</td>\n    </tr>\n    <tr>\n      <th>75%</th>\n      <td>0.060470</td>\n      <td>-0.001343</td>\n      <td>-0.000867</td>\n      <td>-0.000527</td>\n      <td>0.087667</td>\n    </tr>\n    <tr>\n      <th>max</th>\n      <td>0.635000</td>\n      <td>0.387222</td>\n      <td>0.576667</td>\n      <td>0.185510</td>\n      <td>0.252500</td>\n    </tr>\n  </tbody>\n</table>\n</div>"
     },
     "execution_count": 65,
     "metadata": {},
     "output_type": "execute_result"
    }
   ],
   "source": [
    "desc_series = [ref_dfs[vehicle_id]['LPM'].describe() for vehicle_id in ref_dfs]\n",
    "\n",
    "pd.DataFrame(np.transpose(desc_series), columns=vehicle_ids, index=desc_series[0].index)"
   ]
  },
  {
   "cell_type": "code",
   "execution_count": 66,
   "metadata": {},
   "outputs": [
    {
     "data": {
      "text/plain": "Empty DataFrame\nColumns: [TSID, STARTDATE, ENDDATE, STARTLEVEL, ENDLEVEL, duration, duration_seconds, LPM]\nIndex: []",
      "text/html": "<div>\n<style scoped>\n    .dataframe tbody tr th:only-of-type {\n        vertical-align: middle;\n    }\n\n    .dataframe tbody tr th {\n        vertical-align: top;\n    }\n\n    .dataframe thead th {\n        text-align: right;\n    }\n</style>\n<table border=\"1\" class=\"dataframe\">\n  <thead>\n    <tr style=\"text-align: right;\">\n      <th></th>\n      <th>TSID</th>\n      <th>STARTDATE</th>\n      <th>ENDDATE</th>\n      <th>STARTLEVEL</th>\n      <th>ENDLEVEL</th>\n      <th>duration</th>\n      <th>duration_seconds</th>\n      <th>LPM</th>\n    </tr>\n  </thead>\n  <tbody>\n  </tbody>\n</table>\n</div>"
     },
     "execution_count": 66,
     "metadata": {},
     "output_type": "execute_result"
    }
   ],
   "source": [
    "# очевидных сливов очень мало\n",
    "# наверное, хитрецы сливают со скоростью расхода при движении\n",
    "# судя по всему, очень пригодится скорость из speedAndHeight\n",
    "pd.concat([ref_dfs[vehicle_id].loc[ref_dfs[vehicle_id]['LPM'] < -1] for vehicle_id in ref_dfs], axis=0)"
   ]
  },
  {
   "cell_type": "code",
   "execution_count": 66,
   "metadata": {},
   "outputs": [],
   "source": []
  },
  {
   "cell_type": "code",
   "execution_count": 66,
   "metadata": {},
   "outputs": [],
   "source": []
  }
 ],
 "metadata": {
  "kernelspec": {
   "display_name": "Python 3",
   "language": "python",
   "name": "python3"
  },
  "language_info": {
   "codemirror_mode": {
    "name": "ipython",
    "version": 3
   },
   "file_extension": ".py",
   "mimetype": "text/x-python",
   "name": "python",
   "nbconvert_exporter": "python",
   "pygments_lexer": "ipython3",
   "version": "3.6.10"
  }
 },
 "nbformat": 4,
 "nbformat_minor": 1
}
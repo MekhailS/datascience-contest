{
 "cells": [
  {
   "cell_type": "markdown",
   "metadata": {
    "collapsed": true,
    "pycharm": {
     "name": "#%% md\n"
    }
   },
   "source": [
    "## Подготовка данных и раздведовательный анализ"
   ]
  },
  {
   "cell_type": "code",
   "execution_count": 65,
   "metadata": {
    "pycharm": {
     "name": "#%%\n"
    }
   },
   "outputs": [],
   "source": [
    "# imports\n",
    "import pandas as pd\n",
    "import numpy as np"
   ]
  },
  {
   "cell_type": "markdown",
   "metadata": {
    "pycharm": {
     "name": "#%% md\n"
    }
   },
   "source": [
    "#### Константы\n",
    "- путь к данным\n",
    "- признаки, описывающие состояние ТС"
   ]
  },
  {
   "cell_type": "code",
   "execution_count": 3,
   "metadata": {
    "pycharm": {
     "name": "#%%\n"
    }
   },
   "outputs": [],
   "source": [
    "DATA_PATH = 'data/vehicle_dataset_public/'\n",
    "\n",
    "TAGS = ['fuelLevel', 'ingection', 'refueling2',\n",
    "        'speedAndHeight', 'tachometer']"
   ]
  },
  {
   "cell_type": "code",
   "execution_count": 169,
   "metadata": {
    "pycharm": {
     "name": "#%%\n"
    }
   },
   "outputs": [],
   "source": [
    "def dict_df_vehicle_i(i):\n",
    "    dict_df_vehicle = {}\n",
    "    for tag in TAGS:\n",
    "        dict_df_vehicle[tag] = pd.read_csv(DATA_PATH +\n",
    "                                            f'vehicle{i}_{tag}_public.csv', sep=';')\n",
    "    return dict_df_vehicle"
   ]
  },
  {
   "cell_type": "code",
   "execution_count": 170,
   "metadata": {
    "pycharm": {
     "name": "#%%\n"
    }
   },
   "outputs": [],
   "source": [
    "dict_df = dict_df_vehicle_i(1)"
   ]
  },
  {
   "cell_type": "code",
   "execution_count": 171,
   "metadata": {},
   "outputs": [
    {
     "data": {
      "text/plain": [
       "dict_keys(['fuelLevel', 'ingection', 'refueling2', 'speedAndHeight', 'tachometer'])"
      ]
     },
     "execution_count": 171,
     "metadata": {},
     "output_type": "execute_result"
    }
   ],
   "source": [
    "dict_df.keys()"
   ]
  },
  {
   "cell_type": "code",
   "execution_count": 172,
   "metadata": {
    "pycharm": {
     "name": "#%%\n"
    }
   },
   "outputs": [],
   "source": [
    "ref_df = dict_df['refueling2'].copy()"
   ]
  },
  {
   "cell_type": "code",
   "execution_count": 173,
   "metadata": {},
   "outputs": [
    {
     "data": {
      "text/html": [
       "<div>\n",
       "<style scoped>\n",
       "    .dataframe tbody tr th:only-of-type {\n",
       "        vertical-align: middle;\n",
       "    }\n",
       "\n",
       "    .dataframe tbody tr th {\n",
       "        vertical-align: top;\n",
       "    }\n",
       "\n",
       "    .dataframe thead th {\n",
       "        text-align: right;\n",
       "    }\n",
       "</style>\n",
       "<table border=\"1\" class=\"dataframe\">\n",
       "  <thead>\n",
       "    <tr style=\"text-align: right;\">\n",
       "      <th></th>\n",
       "      <th>TSID</th>\n",
       "      <th>STARTDATE</th>\n",
       "      <th>ENDDATE</th>\n",
       "      <th>STARTLEVEL</th>\n",
       "      <th>ENDLEVEL</th>\n",
       "    </tr>\n",
       "  </thead>\n",
       "  <tbody>\n",
       "    <tr>\n",
       "      <th>0</th>\n",
       "      <td>1</td>\n",
       "      <td>2020-01-16 11:02:40</td>\n",
       "      <td>2020-01-16 13:20:40</td>\n",
       "      <td>46,7</td>\n",
       "      <td>38,4</td>\n",
       "    </tr>\n",
       "    <tr>\n",
       "      <th>1</th>\n",
       "      <td>1</td>\n",
       "      <td>2020-01-16 13:20:40</td>\n",
       "      <td>2020-01-16 13:25:46</td>\n",
       "      <td>38,4</td>\n",
       "      <td>56,7</td>\n",
       "    </tr>\n",
       "    <tr>\n",
       "      <th>2</th>\n",
       "      <td>1</td>\n",
       "      <td>2020-01-17 09:05:49</td>\n",
       "      <td>2020-01-17 12:14:10</td>\n",
       "      <td>56,3</td>\n",
       "      <td>51</td>\n",
       "    </tr>\n",
       "    <tr>\n",
       "      <th>3</th>\n",
       "      <td>1</td>\n",
       "      <td>2020-01-17 14:45:48</td>\n",
       "      <td>2020-01-17 16:12:27</td>\n",
       "      <td>51</td>\n",
       "      <td>43,9</td>\n",
       "    </tr>\n",
       "    <tr>\n",
       "      <th>4</th>\n",
       "      <td>1</td>\n",
       "      <td>2020-01-20 09:44:03</td>\n",
       "      <td>2020-01-20 12:44:07</td>\n",
       "      <td>43,9</td>\n",
       "      <td>23,5</td>\n",
       "    </tr>\n",
       "  </tbody>\n",
       "</table>\n",
       "</div>"
      ],
      "text/plain": [
       "   TSID            STARTDATE              ENDDATE STARTLEVEL ENDLEVEL\n",
       "0     1  2020-01-16 11:02:40  2020-01-16 13:20:40       46,7     38,4\n",
       "1     1  2020-01-16 13:20:40  2020-01-16 13:25:46       38,4     56,7\n",
       "2     1  2020-01-17 09:05:49  2020-01-17 12:14:10       56,3       51\n",
       "3     1  2020-01-17 14:45:48  2020-01-17 16:12:27         51     43,9\n",
       "4     1  2020-01-20 09:44:03  2020-01-20 12:44:07       43,9     23,5"
      ]
     },
     "execution_count": 173,
     "metadata": {},
     "output_type": "execute_result"
    }
   ],
   "source": [
    "ref_df.head()"
   ]
  },
  {
   "cell_type": "code",
   "execution_count": 174,
   "metadata": {},
   "outputs": [],
   "source": [
    "float_columns = ['STARTLEVEL', 'ENDLEVEL']\n",
    "\n",
    "for col in float_columns:\n",
    "    ref_df[col] = ref_df[col].str.replace(',', '.').astype(float)\n",
    "\n",
    "datetime_columns = ['STARTDATE', 'ENDDATE']\n",
    "\n",
    "for col in datetime_columns:\n",
    "    ref_df[col] = pd.to_datetime(ref_df[col])"
   ]
  },
  {
   "cell_type": "code",
   "execution_count": 175,
   "metadata": {},
   "outputs": [
    {
     "data": {
      "text/html": [
       "<div>\n",
       "<style scoped>\n",
       "    .dataframe tbody tr th:only-of-type {\n",
       "        vertical-align: middle;\n",
       "    }\n",
       "\n",
       "    .dataframe tbody tr th {\n",
       "        vertical-align: top;\n",
       "    }\n",
       "\n",
       "    .dataframe thead th {\n",
       "        text-align: right;\n",
       "    }\n",
       "</style>\n",
       "<table border=\"1\" class=\"dataframe\">\n",
       "  <thead>\n",
       "    <tr style=\"text-align: right;\">\n",
       "      <th></th>\n",
       "      <th>TSID</th>\n",
       "      <th>STARTDATE</th>\n",
       "      <th>ENDDATE</th>\n",
       "      <th>STARTLEVEL</th>\n",
       "      <th>ENDLEVEL</th>\n",
       "      <th>duration</th>\n",
       "    </tr>\n",
       "  </thead>\n",
       "  <tbody>\n",
       "    <tr>\n",
       "      <th>0</th>\n",
       "      <td>1</td>\n",
       "      <td>2020-01-16 11:02:40</td>\n",
       "      <td>2020-01-16 13:20:40</td>\n",
       "      <td>46.7</td>\n",
       "      <td>38.4</td>\n",
       "      <td>02:18:00</td>\n",
       "    </tr>\n",
       "    <tr>\n",
       "      <th>1</th>\n",
       "      <td>1</td>\n",
       "      <td>2020-01-16 13:20:40</td>\n",
       "      <td>2020-01-16 13:25:46</td>\n",
       "      <td>38.4</td>\n",
       "      <td>56.7</td>\n",
       "      <td>00:05:06</td>\n",
       "    </tr>\n",
       "    <tr>\n",
       "      <th>2</th>\n",
       "      <td>1</td>\n",
       "      <td>2020-01-17 09:05:49</td>\n",
       "      <td>2020-01-17 12:14:10</td>\n",
       "      <td>56.3</td>\n",
       "      <td>51.0</td>\n",
       "      <td>03:08:21</td>\n",
       "    </tr>\n",
       "    <tr>\n",
       "      <th>3</th>\n",
       "      <td>1</td>\n",
       "      <td>2020-01-17 14:45:48</td>\n",
       "      <td>2020-01-17 16:12:27</td>\n",
       "      <td>51.0</td>\n",
       "      <td>43.9</td>\n",
       "      <td>01:26:39</td>\n",
       "    </tr>\n",
       "    <tr>\n",
       "      <th>4</th>\n",
       "      <td>1</td>\n",
       "      <td>2020-01-20 09:44:03</td>\n",
       "      <td>2020-01-20 12:44:07</td>\n",
       "      <td>43.9</td>\n",
       "      <td>23.5</td>\n",
       "      <td>03:00:04</td>\n",
       "    </tr>\n",
       "  </tbody>\n",
       "</table>\n",
       "</div>"
      ],
      "text/plain": [
       "   TSID           STARTDATE             ENDDATE  STARTLEVEL  ENDLEVEL duration\n",
       "0     1 2020-01-16 11:02:40 2020-01-16 13:20:40        46.7      38.4 02:18:00\n",
       "1     1 2020-01-16 13:20:40 2020-01-16 13:25:46        38.4      56.7 00:05:06\n",
       "2     1 2020-01-17 09:05:49 2020-01-17 12:14:10        56.3      51.0 03:08:21\n",
       "3     1 2020-01-17 14:45:48 2020-01-17 16:12:27        51.0      43.9 01:26:39\n",
       "4     1 2020-01-20 09:44:03 2020-01-20 12:44:07        43.9      23.5 03:00:04"
      ]
     },
     "execution_count": 175,
     "metadata": {},
     "output_type": "execute_result"
    }
   ],
   "source": [
    "ref_df['duration'] = ref_df['ENDDATE'] - ref_df['STARTDATE']\n",
    "ref_df.head()"
   ]
  },
  {
   "cell_type": "code",
   "execution_count": 176,
   "metadata": {},
   "outputs": [
    {
     "data": {
      "text/plain": [
       "count                       103\n",
       "mean     0 days 01:32:47.621359\n",
       "std      0 days 01:12:55.148053\n",
       "min             0 days 00:01:00\n",
       "25%      0 days 00:08:39.500000\n",
       "50%             0 days 01:40:27\n",
       "75%      0 days 02:32:39.500000\n",
       "max             0 days 03:50:23\n",
       "Name: duration, dtype: object"
      ]
     },
     "execution_count": 176,
     "metadata": {},
     "output_type": "execute_result"
    }
   ],
   "source": [
    "ref_df['duration'].describe()"
   ]
  },
  {
   "cell_type": "code",
   "execution_count": 177,
   "metadata": {},
   "outputs": [
    {
     "data": {
      "text/html": [
       "<div>\n",
       "<style scoped>\n",
       "    .dataframe tbody tr th:only-of-type {\n",
       "        vertical-align: middle;\n",
       "    }\n",
       "\n",
       "    .dataframe tbody tr th {\n",
       "        vertical-align: top;\n",
       "    }\n",
       "\n",
       "    .dataframe thead th {\n",
       "        text-align: right;\n",
       "    }\n",
       "</style>\n",
       "<table border=\"1\" class=\"dataframe\">\n",
       "  <thead>\n",
       "    <tr style=\"text-align: right;\">\n",
       "      <th></th>\n",
       "      <th>hours</th>\n",
       "      <th>minutes</th>\n",
       "      <th>seconds</th>\n",
       "    </tr>\n",
       "  </thead>\n",
       "  <tbody>\n",
       "    <tr>\n",
       "      <th>0</th>\n",
       "      <td>2</td>\n",
       "      <td>18</td>\n",
       "      <td>0</td>\n",
       "    </tr>\n",
       "    <tr>\n",
       "      <th>1</th>\n",
       "      <td>0</td>\n",
       "      <td>5</td>\n",
       "      <td>6</td>\n",
       "    </tr>\n",
       "    <tr>\n",
       "      <th>2</th>\n",
       "      <td>3</td>\n",
       "      <td>8</td>\n",
       "      <td>21</td>\n",
       "    </tr>\n",
       "    <tr>\n",
       "      <th>3</th>\n",
       "      <td>1</td>\n",
       "      <td>26</td>\n",
       "      <td>39</td>\n",
       "    </tr>\n",
       "    <tr>\n",
       "      <th>4</th>\n",
       "      <td>3</td>\n",
       "      <td>0</td>\n",
       "      <td>4</td>\n",
       "    </tr>\n",
       "  </tbody>\n",
       "</table>\n",
       "</div>"
      ],
      "text/plain": [
       "   hours  minutes  seconds\n",
       "0      2       18        0\n",
       "1      0        5        6\n",
       "2      3        8       21\n",
       "3      1       26       39\n",
       "4      3        0        4"
      ]
     },
     "execution_count": 177,
     "metadata": {},
     "output_type": "execute_result"
    }
   ],
   "source": [
    "duration_components = ref_df['duration'].dt.components[['hours', 'minutes', 'seconds']]\n",
    "duration_components.head()"
   ]
  },
  {
   "cell_type": "code",
   "execution_count": 178,
   "metadata": {},
   "outputs": [
    {
     "data": {
      "text/html": [
       "<div>\n",
       "<style scoped>\n",
       "    .dataframe tbody tr th:only-of-type {\n",
       "        vertical-align: middle;\n",
       "    }\n",
       "\n",
       "    .dataframe tbody tr th {\n",
       "        vertical-align: top;\n",
       "    }\n",
       "\n",
       "    .dataframe thead th {\n",
       "        text-align: right;\n",
       "    }\n",
       "</style>\n",
       "<table border=\"1\" class=\"dataframe\">\n",
       "  <thead>\n",
       "    <tr style=\"text-align: right;\">\n",
       "      <th></th>\n",
       "      <th>TSID</th>\n",
       "      <th>STARTDATE</th>\n",
       "      <th>ENDDATE</th>\n",
       "      <th>STARTLEVEL</th>\n",
       "      <th>ENDLEVEL</th>\n",
       "      <th>duration</th>\n",
       "      <th>duration_minutes</th>\n",
       "    </tr>\n",
       "  </thead>\n",
       "  <tbody>\n",
       "    <tr>\n",
       "      <th>0</th>\n",
       "      <td>1</td>\n",
       "      <td>2020-01-16 11:02:40</td>\n",
       "      <td>2020-01-16 13:20:40</td>\n",
       "      <td>46.7</td>\n",
       "      <td>38.4</td>\n",
       "      <td>02:18:00</td>\n",
       "      <td>138.000000</td>\n",
       "    </tr>\n",
       "    <tr>\n",
       "      <th>1</th>\n",
       "      <td>1</td>\n",
       "      <td>2020-01-16 13:20:40</td>\n",
       "      <td>2020-01-16 13:25:46</td>\n",
       "      <td>38.4</td>\n",
       "      <td>56.7</td>\n",
       "      <td>00:05:06</td>\n",
       "      <td>5.100000</td>\n",
       "    </tr>\n",
       "    <tr>\n",
       "      <th>2</th>\n",
       "      <td>1</td>\n",
       "      <td>2020-01-17 09:05:49</td>\n",
       "      <td>2020-01-17 12:14:10</td>\n",
       "      <td>56.3</td>\n",
       "      <td>51.0</td>\n",
       "      <td>03:08:21</td>\n",
       "      <td>188.350000</td>\n",
       "    </tr>\n",
       "    <tr>\n",
       "      <th>3</th>\n",
       "      <td>1</td>\n",
       "      <td>2020-01-17 14:45:48</td>\n",
       "      <td>2020-01-17 16:12:27</td>\n",
       "      <td>51.0</td>\n",
       "      <td>43.9</td>\n",
       "      <td>01:26:39</td>\n",
       "      <td>86.650000</td>\n",
       "    </tr>\n",
       "    <tr>\n",
       "      <th>4</th>\n",
       "      <td>1</td>\n",
       "      <td>2020-01-20 09:44:03</td>\n",
       "      <td>2020-01-20 12:44:07</td>\n",
       "      <td>43.9</td>\n",
       "      <td>23.5</td>\n",
       "      <td>03:00:04</td>\n",
       "      <td>180.066667</td>\n",
       "    </tr>\n",
       "  </tbody>\n",
       "</table>\n",
       "</div>"
      ],
      "text/plain": [
       "   TSID           STARTDATE             ENDDATE  STARTLEVEL  ENDLEVEL  \\\n",
       "0     1 2020-01-16 11:02:40 2020-01-16 13:20:40        46.7      38.4   \n",
       "1     1 2020-01-16 13:20:40 2020-01-16 13:25:46        38.4      56.7   \n",
       "2     1 2020-01-17 09:05:49 2020-01-17 12:14:10        56.3      51.0   \n",
       "3     1 2020-01-17 14:45:48 2020-01-17 16:12:27        51.0      43.9   \n",
       "4     1 2020-01-20 09:44:03 2020-01-20 12:44:07        43.9      23.5   \n",
       "\n",
       "  duration  duration_minutes  \n",
       "0 02:18:00        138.000000  \n",
       "1 00:05:06          5.100000  \n",
       "2 03:08:21        188.350000  \n",
       "3 01:26:39         86.650000  \n",
       "4 03:00:04        180.066667  "
      ]
     },
     "execution_count": 178,
     "metadata": {},
     "output_type": "execute_result"
    }
   ],
   "source": [
    "# длительность в минутах\n",
    "ref_df['duration_minutes'] = np.dot(duration_components, [60, 1, 1/60])\n",
    "ref_df.head()"
   ]
  },
  {
   "cell_type": "code",
   "execution_count": 179,
   "metadata": {},
   "outputs": [
    {
     "data": {
      "text/html": [
       "<div>\n",
       "<style scoped>\n",
       "    .dataframe tbody tr th:only-of-type {\n",
       "        vertical-align: middle;\n",
       "    }\n",
       "\n",
       "    .dataframe tbody tr th {\n",
       "        vertical-align: top;\n",
       "    }\n",
       "\n",
       "    .dataframe thead th {\n",
       "        text-align: right;\n",
       "    }\n",
       "</style>\n",
       "<table border=\"1\" class=\"dataframe\">\n",
       "  <thead>\n",
       "    <tr style=\"text-align: right;\">\n",
       "      <th></th>\n",
       "      <th>TSID</th>\n",
       "      <th>STARTDATE</th>\n",
       "      <th>ENDDATE</th>\n",
       "      <th>STARTLEVEL</th>\n",
       "      <th>ENDLEVEL</th>\n",
       "      <th>duration</th>\n",
       "      <th>duration_minutes</th>\n",
       "      <th>LPM</th>\n",
       "    </tr>\n",
       "  </thead>\n",
       "  <tbody>\n",
       "    <tr>\n",
       "      <th>0</th>\n",
       "      <td>1</td>\n",
       "      <td>2020-01-16 11:02:40</td>\n",
       "      <td>2020-01-16 13:20:40</td>\n",
       "      <td>46.7</td>\n",
       "      <td>38.4</td>\n",
       "      <td>02:18:00</td>\n",
       "      <td>138.000000</td>\n",
       "      <td>-0.060145</td>\n",
       "    </tr>\n",
       "    <tr>\n",
       "      <th>1</th>\n",
       "      <td>1</td>\n",
       "      <td>2020-01-16 13:20:40</td>\n",
       "      <td>2020-01-16 13:25:46</td>\n",
       "      <td>38.4</td>\n",
       "      <td>56.7</td>\n",
       "      <td>00:05:06</td>\n",
       "      <td>5.100000</td>\n",
       "      <td>3.588235</td>\n",
       "    </tr>\n",
       "    <tr>\n",
       "      <th>2</th>\n",
       "      <td>1</td>\n",
       "      <td>2020-01-17 09:05:49</td>\n",
       "      <td>2020-01-17 12:14:10</td>\n",
       "      <td>56.3</td>\n",
       "      <td>51.0</td>\n",
       "      <td>03:08:21</td>\n",
       "      <td>188.350000</td>\n",
       "      <td>-0.028139</td>\n",
       "    </tr>\n",
       "    <tr>\n",
       "      <th>3</th>\n",
       "      <td>1</td>\n",
       "      <td>2020-01-17 14:45:48</td>\n",
       "      <td>2020-01-17 16:12:27</td>\n",
       "      <td>51.0</td>\n",
       "      <td>43.9</td>\n",
       "      <td>01:26:39</td>\n",
       "      <td>86.650000</td>\n",
       "      <td>-0.081939</td>\n",
       "    </tr>\n",
       "    <tr>\n",
       "      <th>4</th>\n",
       "      <td>1</td>\n",
       "      <td>2020-01-20 09:44:03</td>\n",
       "      <td>2020-01-20 12:44:07</td>\n",
       "      <td>43.9</td>\n",
       "      <td>23.5</td>\n",
       "      <td>03:00:04</td>\n",
       "      <td>180.066667</td>\n",
       "      <td>-0.113291</td>\n",
       "    </tr>\n",
       "  </tbody>\n",
       "</table>\n",
       "</div>"
      ],
      "text/plain": [
       "   TSID           STARTDATE             ENDDATE  STARTLEVEL  ENDLEVEL  \\\n",
       "0     1 2020-01-16 11:02:40 2020-01-16 13:20:40        46.7      38.4   \n",
       "1     1 2020-01-16 13:20:40 2020-01-16 13:25:46        38.4      56.7   \n",
       "2     1 2020-01-17 09:05:49 2020-01-17 12:14:10        56.3      51.0   \n",
       "3     1 2020-01-17 14:45:48 2020-01-17 16:12:27        51.0      43.9   \n",
       "4     1 2020-01-20 09:44:03 2020-01-20 12:44:07        43.9      23.5   \n",
       "\n",
       "  duration  duration_minutes       LPM  \n",
       "0 02:18:00        138.000000 -0.060145  \n",
       "1 00:05:06          5.100000  3.588235  \n",
       "2 03:08:21        188.350000 -0.028139  \n",
       "3 01:26:39         86.650000 -0.081939  \n",
       "4 03:00:04        180.066667 -0.113291  "
      ]
     },
     "execution_count": 179,
     "metadata": {},
     "output_type": "execute_result"
    }
   ],
   "source": [
    "# скорость изменения объема топлива\n",
    "ref_df['LPM'] = (ref_df['ENDLEVEL'] - ref_df['STARTLEVEL']) / ref_df['duration_minutes'] # liters per minute\n",
    "ref_df.head()"
   ]
  },
  {
   "cell_type": "code",
   "execution_count": 180,
   "metadata": {},
   "outputs": [
    {
     "data": {
      "text/plain": [
       "count    103.000000\n",
       "mean       2.709313\n",
       "std        6.103922\n",
       "min       -0.201195\n",
       "25%       -0.084062\n",
       "50%       -0.060791\n",
       "75%        3.628202\n",
       "max       38.100000\n",
       "Name: LPM, dtype: float64"
      ]
     },
     "execution_count": 180,
     "metadata": {},
     "output_type": "execute_result"
    }
   ],
   "source": [
    "ref_df['LPM'].describe()"
   ]
  },
  {
   "cell_type": "code",
   "execution_count": 181,
   "metadata": {},
   "outputs": [],
   "source": [
    "import seaborn as sns"
   ]
  },
  {
   "cell_type": "code",
   "execution_count": 182,
   "metadata": {},
   "outputs": [
    {
     "data": {
      "text/plain": [
       "<matplotlib.axes._subplots.AxesSubplot at 0x28664b5a9b0>"
      ]
     },
     "execution_count": 182,
     "metadata": {},
     "output_type": "execute_result"
    },
    {
     "data": {
      "image/png": "[encoded data removed]",
      "text/plain": [
       "<Figure size 432x288 with 1 Axes>"
      ]
     },
     "metadata": {
      "needs_background": "light"
     },
     "output_type": "display_data"
    }
   ],
   "source": [
    "# Заправка/слив\n",
    "sns.countplot(ref_df['LPM'] > 0)"
   ]
  },
  {
   "cell_type": "code",
   "execution_count": 183,
   "metadata": {},
   "outputs": [
    {
     "data": {
      "text/plain": [
       "<matplotlib.axes._subplots.AxesSubplot at 0x286675cf7b8>"
      ]
     },
     "execution_count": 183,
     "metadata": {},
     "output_type": "execute_result"
    },
    {
     "data": {
      "image/png": "[encoded data removed]",
      "text/plain": [
       "<Figure size 432x288 with 1 Axes>"
      ]
     },
     "metadata": {
      "needs_background": "light"
     },
     "output_type": "display_data"
    }
   ],
   "source": [
    "# Это, как я понимаю, сливы\n",
    "# Интересно, с какой скоростью топливо расходуется при движении\n",
    "sns.distplot(ref_df.loc[ref_df['LPM'] < 0, 'LPM'])"
   ]
  },
  {
   "cell_type": "code",
   "execution_count": 184,
   "metadata": {},
   "outputs": [],
   "source": [
    "# Теперь для всех ТС"
   ]
  },
  {
   "cell_type": "code",
   "execution_count": 185,
   "metadata": {},
   "outputs": [],
   "source": [
    "def process_refueling_df(df):\n",
    "    ref_df = df.copy()\n",
    "    \n",
    "    float_columns = ['STARTLEVEL', 'ENDLEVEL']\n",
    "    \n",
    "    for col in float_columns:\n",
    "        if ref_df[col].dtype == 'object':\n",
    "            ref_df[col] = ref_df[col].str.replace(',', '.').astype(float)\n",
    "    \n",
    "    datetime_columns = ['STARTDATE', 'ENDDATE']\n",
    "\n",
    "    for col in datetime_columns:\n",
    "        ref_df[col] = pd.to_datetime(ref_df[col])\n",
    "    \n",
    "    ref_df['duration'] = ref_df['ENDDATE'] - ref_df['STARTDATE']\n",
    "    \n",
    "    duration_components = ref_df['duration'].dt.components[['hours', 'minutes', 'seconds']]\n",
    "    \n",
    "    ref_df['duration_minutes'] = np.dot(duration_components, [60, 1, 1/60])\n",
    "    \n",
    "    ref_df['LPM'] = (ref_df['ENDLEVEL'] - ref_df['STARTLEVEL']) / ref_df['duration_minutes']\n",
    "    \n",
    "    return ref_df"
   ]
  },
  {
   "cell_type": "code",
   "execution_count": 195,
   "metadata": {},
   "outputs": [],
   "source": [
    "vehicle_ids = [1, 3, 5, 19, 28]\n",
    "\n",
    "ref_dfs = {}\n",
    "\n",
    "for vehicle_id in vehicle_ids:\n",
    "    dict_df = dict_df_vehicle_i(vehicle_id)\n",
    "    \n",
    "    ref_df = dict_df['refueling2']\n",
    "    \n",
    "    ref_df = process_refueling_df(ref_df)\n",
    "    \n",
    "    ref_dfs[vehicle_id] = ref_df"
   ]
  },
  {
   "cell_type": "code",
   "execution_count": 196,
   "metadata": {},
   "outputs": [
    {
     "data": {
      "text/html": [
       "<div>\n",
       "<style scoped>\n",
       "    .dataframe tbody tr th:only-of-type {\n",
       "        vertical-align: middle;\n",
       "    }\n",
       "\n",
       "    .dataframe tbody tr th {\n",
       "        vertical-align: top;\n",
       "    }\n",
       "\n",
       "    .dataframe thead th {\n",
       "        text-align: right;\n",
       "    }\n",
       "</style>\n",
       "<table border=\"1\" class=\"dataframe\">\n",
       "  <thead>\n",
       "    <tr style=\"text-align: right;\">\n",
       "      <th></th>\n",
       "      <th>1</th>\n",
       "      <th>3</th>\n",
       "      <th>5</th>\n",
       "      <th>19</th>\n",
       "      <th>28</th>\n",
       "    </tr>\n",
       "  </thead>\n",
       "  <tbody>\n",
       "    <tr>\n",
       "      <th>count</th>\n",
       "      <td>103.000000</td>\n",
       "      <td>25.000000</td>\n",
       "      <td>144.000000</td>\n",
       "      <td>22.000000</td>\n",
       "      <td>69.000000</td>\n",
       "    </tr>\n",
       "    <tr>\n",
       "      <th>mean</th>\n",
       "      <td>2.709313</td>\n",
       "      <td>2.851894</td>\n",
       "      <td>2.515374</td>\n",
       "      <td>0.763053</td>\n",
       "      <td>2.236557</td>\n",
       "    </tr>\n",
       "    <tr>\n",
       "      <th>std</th>\n",
       "      <td>6.103922</td>\n",
       "      <td>8.955357</td>\n",
       "      <td>6.392958</td>\n",
       "      <td>3.971018</td>\n",
       "      <td>3.645483</td>\n",
       "    </tr>\n",
       "    <tr>\n",
       "      <th>min</th>\n",
       "      <td>-0.201195</td>\n",
       "      <td>-11.737500</td>\n",
       "      <td>-7.500000</td>\n",
       "      <td>-5.125000</td>\n",
       "      <td>-0.137500</td>\n",
       "    </tr>\n",
       "    <tr>\n",
       "      <th>25%</th>\n",
       "      <td>-0.084062</td>\n",
       "      <td>-0.162858</td>\n",
       "      <td>-0.120147</td>\n",
       "      <td>-0.108894</td>\n",
       "      <td>-0.091803</td>\n",
       "    </tr>\n",
       "    <tr>\n",
       "      <th>50%</th>\n",
       "      <td>-0.060791</td>\n",
       "      <td>-0.135645</td>\n",
       "      <td>-0.087655</td>\n",
       "      <td>-0.055493</td>\n",
       "      <td>-0.066364</td>\n",
       "    </tr>\n",
       "    <tr>\n",
       "      <th>75%</th>\n",
       "      <td>3.628202</td>\n",
       "      <td>-0.080605</td>\n",
       "      <td>-0.051993</td>\n",
       "      <td>-0.031630</td>\n",
       "      <td>5.260000</td>\n",
       "    </tr>\n",
       "    <tr>\n",
       "      <th>max</th>\n",
       "      <td>38.100000</td>\n",
       "      <td>23.233333</td>\n",
       "      <td>34.600000</td>\n",
       "      <td>11.130612</td>\n",
       "      <td>15.150000</td>\n",
       "    </tr>\n",
       "  </tbody>\n",
       "</table>\n",
       "</div>"
      ],
      "text/plain": [
       "               1          3           5          19         28\n",
       "count  103.000000  25.000000  144.000000  22.000000  69.000000\n",
       "mean     2.709313   2.851894    2.515374   0.763053   2.236557\n",
       "std      6.103922   8.955357    6.392958   3.971018   3.645483\n",
       "min     -0.201195 -11.737500   -7.500000  -5.125000  -0.137500\n",
       "25%     -0.084062  -0.162858   -0.120147  -0.108894  -0.091803\n",
       "50%     -0.060791  -0.135645   -0.087655  -0.055493  -0.066364\n",
       "75%      3.628202  -0.080605   -0.051993  -0.031630   5.260000\n",
       "max     38.100000  23.233333   34.600000  11.130612  15.150000"
      ]
     },
     "execution_count": 196,
     "metadata": {},
     "output_type": "execute_result"
    }
   ],
   "source": [
    "desc_series = [ref_dfs[vehicle_id]['LPM'].describe() for vehicle_id in ref_dfs]\n",
    "\n",
    "pd.DataFrame(np.transpose(desc_series), columns=vehicle_ids, index=desc_series[0].index)"
   ]
  },
  {
   "cell_type": "code",
   "execution_count": 212,
   "metadata": {},
   "outputs": [
    {
     "data": {
      "text/html": [
       "<div>\n",
       "<style scoped>\n",
       "    .dataframe tbody tr th:only-of-type {\n",
       "        vertical-align: middle;\n",
       "    }\n",
       "\n",
       "    .dataframe tbody tr th {\n",
       "        vertical-align: top;\n",
       "    }\n",
       "\n",
       "    .dataframe thead th {\n",
       "        text-align: right;\n",
       "    }\n",
       "</style>\n",
       "<table border=\"1\" class=\"dataframe\">\n",
       "  <thead>\n",
       "    <tr style=\"text-align: right;\">\n",
       "      <th></th>\n",
       "      <th>TSID</th>\n",
       "      <th>STARTDATE</th>\n",
       "      <th>ENDDATE</th>\n",
       "      <th>STARTLEVEL</th>\n",
       "      <th>ENDLEVEL</th>\n",
       "      <th>duration</th>\n",
       "      <th>duration_minutes</th>\n",
       "      <th>LPM</th>\n",
       "    </tr>\n",
       "  </thead>\n",
       "  <tbody>\n",
       "    <tr>\n",
       "      <th>11</th>\n",
       "      <td>3</td>\n",
       "      <td>2020-03-03 10:24:06</td>\n",
       "      <td>2020-03-03 10:33:06</td>\n",
       "      <td>230.0</td>\n",
       "      <td>140.1</td>\n",
       "      <td>00:09:00</td>\n",
       "      <td>9.0</td>\n",
       "      <td>-9.988889</td>\n",
       "    </tr>\n",
       "    <tr>\n",
       "      <th>17</th>\n",
       "      <td>3</td>\n",
       "      <td>2020-03-25 06:38:57</td>\n",
       "      <td>2020-03-25 06:46:57</td>\n",
       "      <td>210.9</td>\n",
       "      <td>117.0</td>\n",
       "      <td>00:08:00</td>\n",
       "      <td>8.0</td>\n",
       "      <td>-11.737500</td>\n",
       "    </tr>\n",
       "    <tr>\n",
       "      <th>49</th>\n",
       "      <td>5</td>\n",
       "      <td>2020-02-20 09:13:13</td>\n",
       "      <td>2020-02-20 09:18:13</td>\n",
       "      <td>53.4</td>\n",
       "      <td>47.0</td>\n",
       "      <td>00:05:00</td>\n",
       "      <td>5.0</td>\n",
       "      <td>-1.280000</td>\n",
       "    </tr>\n",
       "    <tr>\n",
       "      <th>121</th>\n",
       "      <td>5</td>\n",
       "      <td>2020-06-16 09:59:06</td>\n",
       "      <td>2020-06-16 10:00:06</td>\n",
       "      <td>37.4</td>\n",
       "      <td>29.9</td>\n",
       "      <td>00:01:00</td>\n",
       "      <td>1.0</td>\n",
       "      <td>-7.500000</td>\n",
       "    </tr>\n",
       "    <tr>\n",
       "      <th>10</th>\n",
       "      <td>19</td>\n",
       "      <td>2020-03-03 13:39:55</td>\n",
       "      <td>2020-03-03 13:43:55</td>\n",
       "      <td>89.2</td>\n",
       "      <td>70.6</td>\n",
       "      <td>00:04:00</td>\n",
       "      <td>4.0</td>\n",
       "      <td>-4.650000</td>\n",
       "    </tr>\n",
       "    <tr>\n",
       "      <th>11</th>\n",
       "      <td>19</td>\n",
       "      <td>2020-03-05 07:49:46</td>\n",
       "      <td>2020-03-05 07:52:46</td>\n",
       "      <td>64.8</td>\n",
       "      <td>53.4</td>\n",
       "      <td>00:03:00</td>\n",
       "      <td>3.0</td>\n",
       "      <td>-3.800000</td>\n",
       "    </tr>\n",
       "    <tr>\n",
       "      <th>17</th>\n",
       "      <td>19</td>\n",
       "      <td>2020-03-26 09:34:00</td>\n",
       "      <td>2020-03-26 09:38:00</td>\n",
       "      <td>89.8</td>\n",
       "      <td>69.3</td>\n",
       "      <td>00:04:00</td>\n",
       "      <td>4.0</td>\n",
       "      <td>-5.125000</td>\n",
       "    </tr>\n",
       "  </tbody>\n",
       "</table>\n",
       "</div>"
      ],
      "text/plain": [
       "     TSID           STARTDATE             ENDDATE  STARTLEVEL  ENDLEVEL  \\\n",
       "11      3 2020-03-03 10:24:06 2020-03-03 10:33:06       230.0     140.1   \n",
       "17      3 2020-03-25 06:38:57 2020-03-25 06:46:57       210.9     117.0   \n",
       "49      5 2020-02-20 09:13:13 2020-02-20 09:18:13        53.4      47.0   \n",
       "121     5 2020-06-16 09:59:06 2020-06-16 10:00:06        37.4      29.9   \n",
       "10     19 2020-03-03 13:39:55 2020-03-03 13:43:55        89.2      70.6   \n",
       "11     19 2020-03-05 07:49:46 2020-03-05 07:52:46        64.8      53.4   \n",
       "17     19 2020-03-26 09:34:00 2020-03-26 09:38:00        89.8      69.3   \n",
       "\n",
       "    duration  duration_minutes        LPM  \n",
       "11  00:09:00               9.0  -9.988889  \n",
       "17  00:08:00               8.0 -11.737500  \n",
       "49  00:05:00               5.0  -1.280000  \n",
       "121 00:01:00               1.0  -7.500000  \n",
       "10  00:04:00               4.0  -4.650000  \n",
       "11  00:03:00               3.0  -3.800000  \n",
       "17  00:04:00               4.0  -5.125000  "
      ]
     },
     "execution_count": 212,
     "metadata": {},
     "output_type": "execute_result"
    }
   ],
   "source": [
    "# очевидных сливов очень мало\n",
    "# наверное хитрецы сливают со скоростью расхода при движении\n",
    "# судя по всему, очень пригодится скорость из speedAndHeight\n",
    "pd.concat([ref_dfs[vehicle_id].loc[ref_dfs[vehicle_id]['LPM'] < -1] for vehicle_id in ref_dfs], axis=0)"
   ]
  },
  {
   "cell_type": "code",
   "execution_count": null,
   "metadata": {},
   "outputs": [],
   "source": []
  }
 ],
 "metadata": {
  "kernelspec": {
   "display_name": "Python 3",
   "language": "python",
   "name": "python3"
  },
  "language_info": {
   "codemirror_mode": {
    "name": "ipython",
    "version": 3
   },
   "file_extension": ".py",
   "mimetype": "text/x-python",
   "name": "python",
   "nbconvert_exporter": "python",
   "pygments_lexer": "ipython3",
   "version": "3.6.10"
  }
 },
 "nbformat": 4,
 "nbformat_minor": 1
}

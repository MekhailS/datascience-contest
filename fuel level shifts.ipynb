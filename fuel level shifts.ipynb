{
 "cells": [
  {
   "cell_type": "markdown",
   "metadata": {
    "collapsed": true,
    "pycharm": {
     "name": "#%% md\n"
    }
   },
   "source": [
    "## Анализ событий изменения уровня топлива"
   ]
  },
  {
   "cell_type": "code",
   "execution_count": 14,
   "metadata": {
    "pycharm": {
     "name": "#%%\n"
    }
   },
   "outputs": [],
   "source": [
    "# imports\n",
    "import pandas as pd\n",
    "from functools import reduce\n",
    "import numpy as np"
   ]
  },
  {
   "cell_type": "markdown",
   "metadata": {
    "pycharm": {
     "name": "#%% md\n"
    }
   },
   "source": [
    "#### Константы\n",
    "- пути к данным\n",
    "- признаки, описывающие данные\n",
    "- типы \"столбцов\", или \"подпризнаков\"\n",
    "- ID ТС"
   ]
  },
  {
   "cell_type": "code",
   "execution_count": 15,
   "metadata": {
    "pycharm": {
     "name": "#%%\n"
    }
   },
   "outputs": [],
   "source": [
    "DATA_PATH = 'data/vehicle_dataset_public/'\n",
    "DATA_PROC_PATH = 'data/vehicle_proccessed/'\n",
    "\n",
    "TAGS_FEATURES = ['fuelLevel', 'ingection', 'speedAndHeight', 'tachometer']\n",
    "TAGS_TARGET = ['refueling2']\n",
    "TAGS = TAGS_FEATURES + TAGS_TARGET\n",
    "\n",
    "TIME_COLUMNS = ['DTIME', 'STARTDATE', 'ENDDATE']\n",
    "FLOAT_COLUMNS = ['BEVALUE', 'SPEED', 'HEIGHT', 'STARTLEVEL', 'ENDLEVEL']\n",
    "\n",
    "VEHICLE_IDS = [1, 3, 5, 19, 28]"
   ]
  },
  {
   "cell_type": "code",
   "execution_count": 16,
   "metadata": {
    "pycharm": {
     "name": "#%%\n"
    }
   },
   "outputs": [],
   "source": [
    "# Словарь, состоящий из dataframe'ов для каждого признака\n",
    "def dict_df_vehicle_i(i):\n",
    "    dict_df_vehicle = {}\n",
    "    for tag in TAGS:\n",
    "        df = pd.read_csv(DATA_PATH +\n",
    "                         f'vehicle{i}_{tag}_public.csv', sep=';')\n",
    "        for col in FLOAT_COLUMNS:\n",
    "            if col in df.columns and df[col].dtype == 'object':\n",
    "                df[col] = df[col].str.replace(',','.').astype(float)\n",
    "        df.rename(columns={'BEVALUE': tag}, inplace=True)\n",
    "\n",
    "        for time_col in TIME_COLUMNS:\n",
    "            if time_col in df.columns:\n",
    "                df[time_col] = pd.to_datetime(df[time_col])\n",
    "\n",
    "        dict_df_vehicle[tag] = df\n",
    "\n",
    "    return dict_df_vehicle"
   ]
  },
  {
   "cell_type": "code",
   "execution_count": 17,
   "metadata": {},
   "outputs": [],
   "source": [
    "dict_df = dict_df_vehicle_i(1)"
   ]
  },
  {
   "cell_type": "code",
   "execution_count": 18,
   "metadata": {},
   "outputs": [],
   "source": [
    "def timeDeltaToMinutes(TimeDeltaToMinutes):\n",
    "    return np.dot(TimeDeltaToMinutes.dt.components, [24*60, 60, 1, 1/60, 1/(60**2), 1/(60**3), 1/(60**4)])"
   ]
  },
  {
   "cell_type": "code",
   "execution_count": 19,
   "metadata": {},
   "outputs": [
    {
     "name": "stdout",
     "output_type": "stream",
     "text": [
      "max refueling duration: 0 days 01:43:32\n"
     ]
    }
   ],
   "source": [
    "refuelingDF = dict_df['refueling2'].copy()\n",
    "\n",
    "positiveFuelLevelChange = (refuelingDF['ENDLEVEL'] - refuelingDF['STARTLEVEL']) > 0\n",
    "\n",
    "refuelingTime = refuelingDF.loc[positiveFuelLevelChange, 'ENDDATE'] - refuelingDF.loc[positiveFuelLevelChange, 'STARTDATE']\n",
    "print('max refueling duration:', refuelingTime.max())"
   ]
  },
  {
   "cell_type": "code",
   "execution_count": 20,
   "metadata": {},
   "outputs": [
    {
     "data": {
      "text/plain": "count                        33\nmean     0 days 00:09:24.606060\nstd      0 days 00:17:41.800532\nmin             0 days 00:01:00\n25%             0 days 00:03:08\n50%             0 days 00:05:18\n75%             0 days 00:07:54\nmax             0 days 01:43:32\ndtype: object"
     },
     "execution_count": 20,
     "metadata": {},
     "output_type": "execute_result"
    },
    {
     "data": {
      "text/plain": "<Figure size 432x288 with 1 Axes>",
      "image/png": "[encoded data removed]"
     },
     "metadata": {
      "needs_background": "light"
     },
     "output_type": "display_data"
    }
   ],
   "source": [
    "# Время заправки из refueling2\n",
    "\n",
    "import seaborn as sns\n",
    "\n",
    "sns.boxplot(timeDeltaToMinutes(refuelingTime))\n",
    "\n",
    "refuelingTime.describe()"
   ]
  },
  {
   "cell_type": "code",
   "execution_count": 21,
   "metadata": {},
   "outputs": [
    {
     "name": "stdout",
     "output_type": "stream",
     "text": [
      "3/33 refuelings took longer than 20 minutes\n"
     ]
    }
   ],
   "source": [
    "numLongerThen20Minutes = (refuelingTime > pd.to_timedelta('00:20:00')).sum()\n",
    "print(f'{numLongerThen20Minutes}/{len(refuelingTime)} refuelings took longer than 20 minutes')"
   ]
  },
  {
   "cell_type": "code",
   "execution_count": 22,
   "metadata": {},
   "outputs": [
    {
     "data": {
      "text/plain": "                DTIME  fuelLevel\n0 2020-01-08 21:16:02        0.0\n1 2020-01-08 21:17:04        0.0\n2 2020-01-08 21:18:04        0.0\n3 2020-01-09 10:05:26       49.7\n4 2020-01-09 10:06:27       49.9",
      "text/html": "<div>\n<style scoped>\n    .dataframe tbody tr th:only-of-type {\n        vertical-align: middle;\n    }\n\n    .dataframe tbody tr th {\n        vertical-align: top;\n    }\n\n    .dataframe thead th {\n        text-align: right;\n    }\n</style>\n<table border=\"1\" class=\"dataframe\">\n  <thead>\n    <tr style=\"text-align: right;\">\n      <th></th>\n      <th>DTIME</th>\n      <th>fuelLevel</th>\n    </tr>\n  </thead>\n  <tbody>\n    <tr>\n      <th>0</th>\n      <td>2020-01-08 21:16:02</td>\n      <td>0.0</td>\n    </tr>\n    <tr>\n      <th>1</th>\n      <td>2020-01-08 21:17:04</td>\n      <td>0.0</td>\n    </tr>\n    <tr>\n      <th>2</th>\n      <td>2020-01-08 21:18:04</td>\n      <td>0.0</td>\n    </tr>\n    <tr>\n      <th>3</th>\n      <td>2020-01-09 10:05:26</td>\n      <td>49.7</td>\n    </tr>\n    <tr>\n      <th>4</th>\n      <td>2020-01-09 10:06:27</td>\n      <td>49.9</td>\n    </tr>\n  </tbody>\n</table>\n</div>"
     },
     "execution_count": 22,
     "metadata": {},
     "output_type": "execute_result"
    }
   ],
   "source": [
    "fuelLevelDF = dict_df['fuelLevel'].copy()\n",
    "fuelLevelDF.head()"
   ]
  },
  {
   "cell_type": "code",
   "execution_count": 23,
   "metadata": {},
   "outputs": [
    {
     "data": {
      "text/plain": "                DTIME  fuelLevel timeShift  timeShiftMinutes  fuelLevelShift  \\\n0 2020-01-08 21:16:02        0.0       NaT               NaN             NaN   \n1 2020-01-08 21:17:04        0.0  00:01:02          1.033333             0.0   \n2 2020-01-08 21:18:04        0.0  00:01:00          1.000000             0.0   \n3 2020-01-09 10:05:26       49.7  12:47:22        767.366667            49.7   \n4 2020-01-09 10:06:27       49.9  00:01:01          1.016667             0.2   \n\n   fuelLevelShiftPct  \n0                NaN  \n1           0.000000  \n2           0.000000  \n3           0.828333  \n4           0.003333  ",
      "text/html": "<div>\n<style scoped>\n    .dataframe tbody tr th:only-of-type {\n        vertical-align: middle;\n    }\n\n    .dataframe tbody tr th {\n        vertical-align: top;\n    }\n\n    .dataframe thead th {\n        text-align: right;\n    }\n</style>\n<table border=\"1\" class=\"dataframe\">\n  <thead>\n    <tr style=\"text-align: right;\">\n      <th></th>\n      <th>DTIME</th>\n      <th>fuelLevel</th>\n      <th>timeShift</th>\n      <th>timeShiftMinutes</th>\n      <th>fuelLevelShift</th>\n      <th>fuelLevelShiftPct</th>\n    </tr>\n  </thead>\n  <tbody>\n    <tr>\n      <th>0</th>\n      <td>2020-01-08 21:16:02</td>\n      <td>0.0</td>\n      <td>NaT</td>\n      <td>NaN</td>\n      <td>NaN</td>\n      <td>NaN</td>\n    </tr>\n    <tr>\n      <th>1</th>\n      <td>2020-01-08 21:17:04</td>\n      <td>0.0</td>\n      <td>00:01:02</td>\n      <td>1.033333</td>\n      <td>0.0</td>\n      <td>0.000000</td>\n    </tr>\n    <tr>\n      <th>2</th>\n      <td>2020-01-08 21:18:04</td>\n      <td>0.0</td>\n      <td>00:01:00</td>\n      <td>1.000000</td>\n      <td>0.0</td>\n      <td>0.000000</td>\n    </tr>\n    <tr>\n      <th>3</th>\n      <td>2020-01-09 10:05:26</td>\n      <td>49.7</td>\n      <td>12:47:22</td>\n      <td>767.366667</td>\n      <td>49.7</td>\n      <td>0.828333</td>\n    </tr>\n    <tr>\n      <th>4</th>\n      <td>2020-01-09 10:06:27</td>\n      <td>49.9</td>\n      <td>00:01:01</td>\n      <td>1.016667</td>\n      <td>0.2</td>\n      <td>0.003333</td>\n    </tr>\n  </tbody>\n</table>\n</div>"
     },
     "execution_count": 23,
     "metadata": {},
     "output_type": "execute_result"
    }
   ],
   "source": [
    "fuelLevelDF.loc[1:, 'shifted_DTIME'] = fuelLevelDF['DTIME'].values[:-1]\n",
    "fuelLevelDF.loc[1:, 'shifted_fuelLevel'] = fuelLevelDF['fuelLevel'].values[:-1]\n",
    "\n",
    "# времени прошло после пред. измерения\n",
    "fuelLevelDF['timeShift'] = fuelLevelDF['DTIME'] - fuelLevelDF['shifted_DTIME']\n",
    "fuelLevelDF['timeShiftMinutes'] = timeDeltaToMinutes(fuelLevelDF['timeShift'])\n",
    "# изменение уровня топлива\n",
    "fuelLevelDF['fuelLevelShift'] = fuelLevelDF['fuelLevel'] - fuelLevelDF['shifted_fuelLevel']\n",
    "\n",
    "del fuelLevelDF['shifted_fuelLevel'], fuelLevelDF['shifted_DTIME']\n",
    "\n",
    "# в процентах от макс. уровня\n",
    "vehicleMaxFuelLevel = fuelLevelDF['fuelLevel'].max()\n",
    "fuelLevelDF['fuelLevelShiftPct'] = fuelLevelDF['fuelLevelShift'] / vehicleMaxFuelLevel\n",
    "\n",
    "fuelLevelDF.head()"
   ]
  },
  {
   "cell_type": "code",
   "execution_count": 24,
   "metadata": {},
   "outputs": [
    {
     "data": {
      "text/plain": "                    DTIME  fuelLevel timeShift  timeShiftMinutes  \\\n30    2020-01-14 09:56:57       49.7  00:01:00          1.000000   \n72    2020-01-14 10:41:03       51.5  00:02:00          2.000000   \n128   2020-01-16 11:02:40       46.8  00:01:00          1.000000   \n268   2020-01-16 13:25:46       56.4  00:04:06          4.100000   \n494   2020-01-17 15:02:48       50.1  00:01:00          1.000000   \n...                   ...        ...       ...               ...   \n18375 2020-06-25 16:03:18       32.4  00:07:34          7.566667   \n18509 2020-06-25 18:46:18       58.8  00:17:33         17.550000   \n18634 2020-06-26 17:13:03       49.2  00:01:03          1.050000   \n18740 2020-06-26 19:04:00       59.7  00:01:00          1.000000   \n19003 2020-06-27 00:22:37       57.0  00:10:21         10.350000   \n\n       fuelLevelShift  fuelLevelShiftPct  \n30               49.7           0.828333  \n72               51.5           0.858333  \n128              46.8           0.780000  \n268              56.4           0.940000  \n494              50.1           0.835000  \n...               ...                ...  \n18375            32.4           0.540000  \n18509            58.8           0.980000  \n18634            49.2           0.820000  \n18740            59.7           0.995000  \n19003            57.0           0.950000  \n\n[240 rows x 6 columns]",
      "text/html": "<div>\n<style scoped>\n    .dataframe tbody tr th:only-of-type {\n        vertical-align: middle;\n    }\n\n    .dataframe tbody tr th {\n        vertical-align: top;\n    }\n\n    .dataframe thead th {\n        text-align: right;\n    }\n</style>\n<table border=\"1\" class=\"dataframe\">\n  <thead>\n    <tr style=\"text-align: right;\">\n      <th></th>\n      <th>DTIME</th>\n      <th>fuelLevel</th>\n      <th>timeShift</th>\n      <th>timeShiftMinutes</th>\n      <th>fuelLevelShift</th>\n      <th>fuelLevelShiftPct</th>\n    </tr>\n  </thead>\n  <tbody>\n    <tr>\n      <th>30</th>\n      <td>2020-01-14 09:56:57</td>\n      <td>49.7</td>\n      <td>00:01:00</td>\n      <td>1.000000</td>\n      <td>49.7</td>\n      <td>0.828333</td>\n    </tr>\n    <tr>\n      <th>72</th>\n      <td>2020-01-14 10:41:03</td>\n      <td>51.5</td>\n      <td>00:02:00</td>\n      <td>2.000000</td>\n      <td>51.5</td>\n      <td>0.858333</td>\n    </tr>\n    <tr>\n      <th>128</th>\n      <td>2020-01-16 11:02:40</td>\n      <td>46.8</td>\n      <td>00:01:00</td>\n      <td>1.000000</td>\n      <td>46.8</td>\n      <td>0.780000</td>\n    </tr>\n    <tr>\n      <th>268</th>\n      <td>2020-01-16 13:25:46</td>\n      <td>56.4</td>\n      <td>00:04:06</td>\n      <td>4.100000</td>\n      <td>56.4</td>\n      <td>0.940000</td>\n    </tr>\n    <tr>\n      <th>494</th>\n      <td>2020-01-17 15:02:48</td>\n      <td>50.1</td>\n      <td>00:01:00</td>\n      <td>1.000000</td>\n      <td>50.1</td>\n      <td>0.835000</td>\n    </tr>\n    <tr>\n      <th>...</th>\n      <td>...</td>\n      <td>...</td>\n      <td>...</td>\n      <td>...</td>\n      <td>...</td>\n      <td>...</td>\n    </tr>\n    <tr>\n      <th>18375</th>\n      <td>2020-06-25 16:03:18</td>\n      <td>32.4</td>\n      <td>00:07:34</td>\n      <td>7.566667</td>\n      <td>32.4</td>\n      <td>0.540000</td>\n    </tr>\n    <tr>\n      <th>18509</th>\n      <td>2020-06-25 18:46:18</td>\n      <td>58.8</td>\n      <td>00:17:33</td>\n      <td>17.550000</td>\n      <td>58.8</td>\n      <td>0.980000</td>\n    </tr>\n    <tr>\n      <th>18634</th>\n      <td>2020-06-26 17:13:03</td>\n      <td>49.2</td>\n      <td>00:01:03</td>\n      <td>1.050000</td>\n      <td>49.2</td>\n      <td>0.820000</td>\n    </tr>\n    <tr>\n      <th>18740</th>\n      <td>2020-06-26 19:04:00</td>\n      <td>59.7</td>\n      <td>00:01:00</td>\n      <td>1.000000</td>\n      <td>59.7</td>\n      <td>0.995000</td>\n    </tr>\n    <tr>\n      <th>19003</th>\n      <td>2020-06-27 00:22:37</td>\n      <td>57.0</td>\n      <td>00:10:21</td>\n      <td>10.350000</td>\n      <td>57.0</td>\n      <td>0.950000</td>\n    </tr>\n  </tbody>\n</table>\n<p>240 rows × 6 columns</p>\n</div>"
     },
     "execution_count": 24,
     "metadata": {},
     "output_type": "execute_result"
    }
   ],
   "source": [
    "# максимум - 20-ти минутный интервал\n",
    "# изменение не менее 5%\n",
    "\n",
    "MAX_TIME_SHIFT_MINUTES = 20\n",
    "MIN_FUEL_LEVEL_SHIFT_PCT = 0.05\n",
    "\n",
    "fuelLevelIncreasedSignificantly = (fuelLevelDF['fuelLevelShiftPct'] >= MIN_FUEL_LEVEL_SHIFT_PCT)\n",
    "notTooLargeTimeShift = (fuelLevelDF['timeShiftMinutes'] <= MAX_TIME_SHIFT_MINUTES)\n",
    "\n",
    "fuelLevelDF.loc[fuelLevelIncreasedSignificantly & notTooLargeTimeShift]"
   ]
  },
  {
   "cell_type": "code",
   "execution_count": 25,
   "metadata": {},
   "outputs": [
    {
     "data": {
      "text/plain": "                    DTIME  fuelLevel timeShift  timeShiftMinutes  \\\n1470  2020-01-22 12:53:35       57.6  00:01:00          1.000000   \n1818  2020-01-23 12:08:05       55.2  00:03:08          3.133333   \n2500  2020-01-30 14:45:49       58.8  00:01:00          1.000000   \n3670  2020-02-13 15:49:21       54.0  00:06:11          6.183333   \n4397  2020-02-25 15:41:22       46.8  00:01:00          1.000000   \n5328  2020-03-05 10:18:44       57.4  00:02:00          2.000000   \n5864  2020-03-13 11:19:12       55.7  00:05:02          5.033333   \n9190  2020-04-27 16:07:50       52.1  00:08:03          8.050000   \n9635  2020-04-28 17:28:24       58.8  00:04:52          4.866667   \n10183 2020-04-29 17:57:59       59.2  00:02:00          2.000000   \n10641 2020-05-07 11:11:09       58.1  00:05:18          5.300000   \n10960 2020-05-19 10:15:06       58.0  00:02:00          2.000000   \n11611 2020-05-20 17:37:50       58.8  00:09:16          9.266667   \n12296 2020-05-22 14:12:31       56.4  00:07:07          7.116667   \n12873 2020-05-26 14:38:15       58.1  00:10:09         10.150000   \n13508 2020-05-28 09:22:58       60.0  00:04:58          4.966667   \n14213 2020-06-01 16:40:45       58.8  00:04:06          4.100000   \n16688 2020-06-16 16:24:48       59.3  00:03:06          3.100000   \n17423 2020-06-18 11:28:20       59.1  00:02:32          2.533333   \n18081 2020-06-19 14:46:16       57.6  00:05:49          5.816667   \n\n       fuelLevelShift  fuelLevelShiftPct  \n1470             22.8           0.380000  \n1818             29.6           0.493333  \n2500             39.7           0.661667  \n3670             39.1           0.651667  \n4397             26.1           0.435000  \n5328             34.4           0.573333  \n5864             28.1           0.468333  \n9190             30.0           0.500000  \n9635             37.2           0.620000  \n10183            39.6           0.660000  \n10641            19.4           0.323333  \n10960            21.5           0.358333  \n11611            38.3           0.638333  \n12296            29.9           0.498333  \n12873            39.3           0.655000  \n13508            37.7           0.628333  \n14213            39.5           0.658333  \n16688            23.2           0.386667  \n17423            45.3           0.755000  \n18081            44.4           0.740000  ",
      "text/html": "<div>\n<style scoped>\n    .dataframe tbody tr th:only-of-type {\n        vertical-align: middle;\n    }\n\n    .dataframe tbody tr th {\n        vertical-align: top;\n    }\n\n    .dataframe thead th {\n        text-align: right;\n    }\n</style>\n<table border=\"1\" class=\"dataframe\">\n  <thead>\n    <tr style=\"text-align: right;\">\n      <th></th>\n      <th>DTIME</th>\n      <th>fuelLevel</th>\n      <th>timeShift</th>\n      <th>timeShiftMinutes</th>\n      <th>fuelLevelShift</th>\n      <th>fuelLevelShiftPct</th>\n    </tr>\n  </thead>\n  <tbody>\n    <tr>\n      <th>1470</th>\n      <td>2020-01-22 12:53:35</td>\n      <td>57.6</td>\n      <td>00:01:00</td>\n      <td>1.000000</td>\n      <td>22.8</td>\n      <td>0.380000</td>\n    </tr>\n    <tr>\n      <th>1818</th>\n      <td>2020-01-23 12:08:05</td>\n      <td>55.2</td>\n      <td>00:03:08</td>\n      <td>3.133333</td>\n      <td>29.6</td>\n      <td>0.493333</td>\n    </tr>\n    <tr>\n      <th>2500</th>\n      <td>2020-01-30 14:45:49</td>\n      <td>58.8</td>\n      <td>00:01:00</td>\n      <td>1.000000</td>\n      <td>39.7</td>\n      <td>0.661667</td>\n    </tr>\n    <tr>\n      <th>3670</th>\n      <td>2020-02-13 15:49:21</td>\n      <td>54.0</td>\n      <td>00:06:11</td>\n      <td>6.183333</td>\n      <td>39.1</td>\n      <td>0.651667</td>\n    </tr>\n    <tr>\n      <th>4397</th>\n      <td>2020-02-25 15:41:22</td>\n      <td>46.8</td>\n      <td>00:01:00</td>\n      <td>1.000000</td>\n      <td>26.1</td>\n      <td>0.435000</td>\n    </tr>\n    <tr>\n      <th>5328</th>\n      <td>2020-03-05 10:18:44</td>\n      <td>57.4</td>\n      <td>00:02:00</td>\n      <td>2.000000</td>\n      <td>34.4</td>\n      <td>0.573333</td>\n    </tr>\n    <tr>\n      <th>5864</th>\n      <td>2020-03-13 11:19:12</td>\n      <td>55.7</td>\n      <td>00:05:02</td>\n      <td>5.033333</td>\n      <td>28.1</td>\n      <td>0.468333</td>\n    </tr>\n    <tr>\n      <th>9190</th>\n      <td>2020-04-27 16:07:50</td>\n      <td>52.1</td>\n      <td>00:08:03</td>\n      <td>8.050000</td>\n      <td>30.0</td>\n      <td>0.500000</td>\n    </tr>\n    <tr>\n      <th>9635</th>\n      <td>2020-04-28 17:28:24</td>\n      <td>58.8</td>\n      <td>00:04:52</td>\n      <td>4.866667</td>\n      <td>37.2</td>\n      <td>0.620000</td>\n    </tr>\n    <tr>\n      <th>10183</th>\n      <td>2020-04-29 17:57:59</td>\n      <td>59.2</td>\n      <td>00:02:00</td>\n      <td>2.000000</td>\n      <td>39.6</td>\n      <td>0.660000</td>\n    </tr>\n    <tr>\n      <th>10641</th>\n      <td>2020-05-07 11:11:09</td>\n      <td>58.1</td>\n      <td>00:05:18</td>\n      <td>5.300000</td>\n      <td>19.4</td>\n      <td>0.323333</td>\n    </tr>\n    <tr>\n      <th>10960</th>\n      <td>2020-05-19 10:15:06</td>\n      <td>58.0</td>\n      <td>00:02:00</td>\n      <td>2.000000</td>\n      <td>21.5</td>\n      <td>0.358333</td>\n    </tr>\n    <tr>\n      <th>11611</th>\n      <td>2020-05-20 17:37:50</td>\n      <td>58.8</td>\n      <td>00:09:16</td>\n      <td>9.266667</td>\n      <td>38.3</td>\n      <td>0.638333</td>\n    </tr>\n    <tr>\n      <th>12296</th>\n      <td>2020-05-22 14:12:31</td>\n      <td>56.4</td>\n      <td>00:07:07</td>\n      <td>7.116667</td>\n      <td>29.9</td>\n      <td>0.498333</td>\n    </tr>\n    <tr>\n      <th>12873</th>\n      <td>2020-05-26 14:38:15</td>\n      <td>58.1</td>\n      <td>00:10:09</td>\n      <td>10.150000</td>\n      <td>39.3</td>\n      <td>0.655000</td>\n    </tr>\n    <tr>\n      <th>13508</th>\n      <td>2020-05-28 09:22:58</td>\n      <td>60.0</td>\n      <td>00:04:58</td>\n      <td>4.966667</td>\n      <td>37.7</td>\n      <td>0.628333</td>\n    </tr>\n    <tr>\n      <th>14213</th>\n      <td>2020-06-01 16:40:45</td>\n      <td>58.8</td>\n      <td>00:04:06</td>\n      <td>4.100000</td>\n      <td>39.5</td>\n      <td>0.658333</td>\n    </tr>\n    <tr>\n      <th>16688</th>\n      <td>2020-06-16 16:24:48</td>\n      <td>59.3</td>\n      <td>00:03:06</td>\n      <td>3.100000</td>\n      <td>23.2</td>\n      <td>0.386667</td>\n    </tr>\n    <tr>\n      <th>17423</th>\n      <td>2020-06-18 11:28:20</td>\n      <td>59.1</td>\n      <td>00:02:32</td>\n      <td>2.533333</td>\n      <td>45.3</td>\n      <td>0.755000</td>\n    </tr>\n    <tr>\n      <th>18081</th>\n      <td>2020-06-19 14:46:16</td>\n      <td>57.6</td>\n      <td>00:05:49</td>\n      <td>5.816667</td>\n      <td>44.4</td>\n      <td>0.740000</td>\n    </tr>\n  </tbody>\n</table>\n</div>"
     },
     "execution_count": 25,
     "metadata": {},
     "output_type": "execute_result"
    }
   ],
   "source": [
    "# в большинстве случаев бак был изначально пустой\n",
    "\n",
    "fromNoneZero = fuelLevelDF['fuelLevel'] != fuelLevelDF['fuelLevelShift']\n",
    "\n",
    "fuelLevelDF.loc[fuelLevelIncreasedSignificantly & notTooLargeTimeShift & fromNoneZero]"
   ]
  },
  {
   "cell_type": "code",
   "execution_count": 26,
   "metadata": {},
   "outputs": [],
   "source": [
    "# но это только для одного ТС!"
   ]
  },
  {
   "cell_type": "code",
   "execution_count": 26,
   "metadata": {},
   "outputs": [],
   "source": []
  },
  {
   "cell_type": "code",
   "execution_count": 26,
   "metadata": {},
   "outputs": [],
   "source": []
  },
  {
   "cell_type": "code",
   "execution_count": 26,
   "metadata": {},
   "outputs": [],
   "source": []
  },
  {
   "cell_type": "code",
   "execution_count": 26,
   "metadata": {},
   "outputs": [],
   "source": []
  }
 ],
 "metadata": {
  "kernelspec": {
   "display_name": "Python 3",
   "language": "python",
   "name": "python3"
  },
  "language_info": {
   "codemirror_mode": {
    "name": "ipython",
    "version": 3
   },
   "file_extension": ".py",
   "mimetype": "text/x-python",
   "name": "python",
   "nbconvert_exporter": "python",
   "pygments_lexer": "ipython3",
   "version": "3.6.10"
  }
 },
 "nbformat": 4,
 "nbformat_minor": 1
}
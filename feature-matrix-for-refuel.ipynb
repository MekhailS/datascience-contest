{
 "cells": [
  {
   "cell_type": "markdown",
   "source": [
    "#### Подготовка матрицы объекты-признаки для классификации событий изменения уровня топлива:\n",
    "- сливы-заправки\n",
    "- штатный расход"
   ],
   "metadata": {
    "collapsed": false,
    "pycharm": {
     "name": "#%% md\n"
    }
   }
  },
  {
   "cell_type": "code",
   "execution_count": 173,
   "outputs": [],
   "source": [
    "# imports\n",
    "import pandas as pd\n",
    "import numpy as np\n",
    "\n",
    "pd.options.display.max_rows = 6"
   ],
   "metadata": {
    "collapsed": false,
    "pycharm": {
     "name": "#%%\n"
    }
   }
  },
  {
   "cell_type": "markdown",
   "metadata": {
    "collapsed": true,
    "pycharm": {
     "name": "#%% md\n"
    }
   },
   "source": [
    "#### Константы\n",
    "- пути к данным\n",
    "- признаки, описывающие данные\n",
    "- типы \"столбцов\", или \"подпризнаков\"\n",
    "- ID ТС"
   ]
  },
  {
   "cell_type": "code",
   "execution_count": 174,
   "outputs": [],
   "source": [
    "DATA_PATH = 'data/vehicle_dataset_public/'\n",
    "DATA_PROC_PATH = 'data/vehicle_proccessed/'\n",
    "\n",
    "TAGS_FEATURES = ['fuelLevel', 'ingection', 'speedAndHeight', 'tachometer']\n",
    "TAGS_TARGET = ['refueling2']\n",
    "TAGS = TAGS_FEATURES + TAGS_TARGET\n",
    "\n",
    "TIME_COLUMNS = ['DTIME', 'STARTDATE', 'ENDDATE']\n",
    "FLOAT_COLUMNS = ['BEVALUE', 'SPEED', 'HEIGHT', 'STARTLEVEL', 'ENDLEVEL']\n",
    "\n",
    "VEHICLE_IDS = [1, 3, 5, 19, 28]"
   ],
   "metadata": {
    "collapsed": false,
    "pycharm": {
     "name": "#%%\n"
    }
   }
  },
  {
   "cell_type": "code",
   "execution_count": 175,
   "outputs": [],
   "source": [
    "def timeDeltaToSeconds(TimeDeltaToMinutes):\n",
    "    return np.dot(TimeDeltaToMinutes.dt.components,\n",
    "                  [24*(60**2), 60**2, 60, 1, 1/60, 1/(60**2), 1/(60**3)])"
   ],
   "metadata": {
    "collapsed": false,
    "pycharm": {
     "name": "#%%\n"
    }
   }
  },
  {
   "cell_type": "code",
   "execution_count": 176,
   "outputs": [
    {
     "data": {
      "text/plain": "                    dtime  fuellevel  ingection  speed  height  tachometer\ni                                                                         \n0     2020-01-08 21:16:02        0.0          0      0   -22.9           0\n1     2020-01-08 21:17:04        0.0          0      0   -22.9           0\n2     2020-01-08 21:18:04        0.0          0      0   -22.9           0\n...                   ...        ...        ...    ...     ...         ...\n19029 2020-06-27 01:15:14       54.0          1     21   -64.8        1408\n19030 2020-06-27 01:16:14       54.2          1      6  -111.9         928\n19031 2020-06-27 01:17:14       54.4          1      6  -111.9         832\n\n[19032 rows x 6 columns]",
      "text/html": "<div>\n<style scoped>\n    .dataframe tbody tr th:only-of-type {\n        vertical-align: middle;\n    }\n\n    .dataframe tbody tr th {\n        vertical-align: top;\n    }\n\n    .dataframe thead th {\n        text-align: right;\n    }\n</style>\n<table border=\"1\" class=\"dataframe\">\n  <thead>\n    <tr style=\"text-align: right;\">\n      <th></th>\n      <th>dtime</th>\n      <th>fuellevel</th>\n      <th>ingection</th>\n      <th>speed</th>\n      <th>height</th>\n      <th>tachometer</th>\n    </tr>\n    <tr>\n      <th>i</th>\n      <th></th>\n      <th></th>\n      <th></th>\n      <th></th>\n      <th></th>\n      <th></th>\n    </tr>\n  </thead>\n  <tbody>\n    <tr>\n      <th>0</th>\n      <td>2020-01-08 21:16:02</td>\n      <td>0.0</td>\n      <td>0</td>\n      <td>0</td>\n      <td>-22.9</td>\n      <td>0</td>\n    </tr>\n    <tr>\n      <th>1</th>\n      <td>2020-01-08 21:17:04</td>\n      <td>0.0</td>\n      <td>0</td>\n      <td>0</td>\n      <td>-22.9</td>\n      <td>0</td>\n    </tr>\n    <tr>\n      <th>2</th>\n      <td>2020-01-08 21:18:04</td>\n      <td>0.0</td>\n      <td>0</td>\n      <td>0</td>\n      <td>-22.9</td>\n      <td>0</td>\n    </tr>\n    <tr>\n      <th>...</th>\n      <td>...</td>\n      <td>...</td>\n      <td>...</td>\n      <td>...</td>\n      <td>...</td>\n      <td>...</td>\n    </tr>\n    <tr>\n      <th>19029</th>\n      <td>2020-06-27 01:15:14</td>\n      <td>54.0</td>\n      <td>1</td>\n      <td>21</td>\n      <td>-64.8</td>\n      <td>1408</td>\n    </tr>\n    <tr>\n      <th>19030</th>\n      <td>2020-06-27 01:16:14</td>\n      <td>54.2</td>\n      <td>1</td>\n      <td>6</td>\n      <td>-111.9</td>\n      <td>928</td>\n    </tr>\n    <tr>\n      <th>19031</th>\n      <td>2020-06-27 01:17:14</td>\n      <td>54.4</td>\n      <td>1</td>\n      <td>6</td>\n      <td>-111.9</td>\n      <td>832</td>\n    </tr>\n  </tbody>\n</table>\n<p>19032 rows × 6 columns</p>\n</div>"
     },
     "execution_count": 176,
     "metadata": {},
     "output_type": "execute_result"
    }
   ],
   "source": [
    "df = pd.read_csv(DATA_PROC_PATH + 'vehicle1_summary.csv', index_col='i')\n",
    "df.dropna(inplace=True)\n",
    "df['dtime'] = pd.to_datetime(df['dtime'])\n",
    "\n",
    "df"
   ],
   "metadata": {
    "collapsed": false,
    "pycharm": {
     "name": "#%%\n"
    }
   }
  },
  {
   "cell_type": "code",
   "execution_count": 177,
   "outputs": [
    {
     "data": {
      "text/plain": "              dtime_start           dtime_end  delta_seconds  \\\n0     2020-01-08 21:16:02 2020-01-08 21:17:04           62.0   \n1     2020-01-08 21:17:04 2020-01-08 21:18:04           60.0   \n2     2020-01-08 21:18:04 2020-01-09 10:05:26        46042.0   \n...                   ...                 ...            ...   \n19028 2020-06-27 00:49:05 2020-06-27 01:15:14         1569.0   \n19029 2020-06-27 01:15:14 2020-06-27 01:16:14           60.0   \n19030 2020-06-27 01:16:14 2020-06-27 01:17:14           60.0   \n\n       delta_tachometer  delta_fuellevel_abs  delta_fuellevel_sign  \n0                     0                  0.0                   0.0  \n1                     0                  0.0                   0.0  \n2                  1248                 49.7                   1.0  \n...                 ...                  ...                   ...  \n19028               576                  0.2                  -1.0  \n19029              -480                  0.2                   1.0  \n19030               -96                  0.2                   1.0  \n\n[19031 rows x 6 columns]",
      "text/html": "<div>\n<style scoped>\n    .dataframe tbody tr th:only-of-type {\n        vertical-align: middle;\n    }\n\n    .dataframe tbody tr th {\n        vertical-align: top;\n    }\n\n    .dataframe thead th {\n        text-align: right;\n    }\n</style>\n<table border=\"1\" class=\"dataframe\">\n  <thead>\n    <tr style=\"text-align: right;\">\n      <th></th>\n      <th>dtime_start</th>\n      <th>dtime_end</th>\n      <th>delta_seconds</th>\n      <th>delta_tachometer</th>\n      <th>delta_fuellevel_abs</th>\n      <th>delta_fuellevel_sign</th>\n    </tr>\n  </thead>\n  <tbody>\n    <tr>\n      <th>0</th>\n      <td>2020-01-08 21:16:02</td>\n      <td>2020-01-08 21:17:04</td>\n      <td>62.0</td>\n      <td>0</td>\n      <td>0.0</td>\n      <td>0.0</td>\n    </tr>\n    <tr>\n      <th>1</th>\n      <td>2020-01-08 21:17:04</td>\n      <td>2020-01-08 21:18:04</td>\n      <td>60.0</td>\n      <td>0</td>\n      <td>0.0</td>\n      <td>0.0</td>\n    </tr>\n    <tr>\n      <th>2</th>\n      <td>2020-01-08 21:18:04</td>\n      <td>2020-01-09 10:05:26</td>\n      <td>46042.0</td>\n      <td>1248</td>\n      <td>49.7</td>\n      <td>1.0</td>\n    </tr>\n    <tr>\n      <th>...</th>\n      <td>...</td>\n      <td>...</td>\n      <td>...</td>\n      <td>...</td>\n      <td>...</td>\n      <td>...</td>\n    </tr>\n    <tr>\n      <th>19028</th>\n      <td>2020-06-27 00:49:05</td>\n      <td>2020-06-27 01:15:14</td>\n      <td>1569.0</td>\n      <td>576</td>\n      <td>0.2</td>\n      <td>-1.0</td>\n    </tr>\n    <tr>\n      <th>19029</th>\n      <td>2020-06-27 01:15:14</td>\n      <td>2020-06-27 01:16:14</td>\n      <td>60.0</td>\n      <td>-480</td>\n      <td>0.2</td>\n      <td>1.0</td>\n    </tr>\n    <tr>\n      <th>19030</th>\n      <td>2020-06-27 01:16:14</td>\n      <td>2020-06-27 01:17:14</td>\n      <td>60.0</td>\n      <td>-96</td>\n      <td>0.2</td>\n      <td>1.0</td>\n    </tr>\n  </tbody>\n</table>\n<p>19031 rows × 6 columns</p>\n</div>"
     },
     "execution_count": 177,
     "metadata": {},
     "output_type": "execute_result"
    }
   ],
   "source": [
    "df_fuel_change = pd.DataFrame()\n",
    "\n",
    "DELTA_FEATURES = ['dtime', 'fuellevel', 'tachometer']\n",
    "\n",
    "for feature_name in DELTA_FEATURES:\n",
    "    val_start = df[feature_name].iloc[:-1].to_numpy()\n",
    "    val_end = df[feature_name].iloc[1:].to_numpy()\n",
    "\n",
    "    delta_val = val_end - val_start\n",
    "\n",
    "    if feature_name == 'dtime':\n",
    "        df_fuel_change['dtime_start'] = val_start\n",
    "        df_fuel_change['dtime_end'] = val_end\n",
    "        delta_val = timeDeltaToSeconds(pd.DataFrame(delta_val, columns=['deltaDate'])['deltaDate'])\n",
    "\n",
    "    df_fuel_change['delta_' + feature_name] = delta_val\n",
    "\n",
    "df_fuel_change['delta_fuellevel_abs'] = np.abs(df_fuel_change['delta_fuellevel'])\n",
    "df_fuel_change['delta_fuellevel_sign'] = np.sign(df_fuel_change['delta_fuellevel'])\n",
    "df_fuel_change.drop(columns=['delta_fuellevel'], inplace=True)\n",
    "\n",
    "df_fuel_change.rename({'delta_dtime':'delta_seconds'}, axis='columns', inplace=True)\n",
    "\n",
    "df_fuel_change"
   ],
   "metadata": {
    "collapsed": false,
    "pycharm": {
     "name": "#%%\n"
    }
   }
  },
  {
   "cell_type": "code",
   "execution_count": 179,
   "outputs": [
    {
     "data": {
      "text/plain": "              dtime_start           dtime_end  delta_seconds  \\\n0     2020-01-08 21:16:02 2020-01-08 21:17:04           62.0   \n1     2020-01-08 21:17:04 2020-01-08 21:18:04           60.0   \n2     2020-01-08 21:18:04 2020-01-09 10:05:26        46042.0   \n...                   ...                 ...            ...   \n19028 2020-06-27 00:49:05 2020-06-27 01:15:14         1569.0   \n19029 2020-06-27 01:15:14 2020-06-27 01:16:14           60.0   \n19030 2020-06-27 01:16:14 2020-06-27 01:17:14           60.0   \n\n       delta_tachometer  delta_fuellevel_abs  delta_fuellevel_sign       lpm  \n0                     0                  0.0                   0.0  0.000000  \n1                     0                  0.0                   0.0  0.000000  \n2                  1248                 49.7                   1.0  0.001079  \n...                 ...                  ...                   ...       ...  \n19028               576                  0.2                  -1.0  0.000127  \n19029              -480                  0.2                   1.0  0.003333  \n19030               -96                  0.2                   1.0  0.003333  \n\n[19031 rows x 7 columns]",
      "text/html": "<div>\n<style scoped>\n    .dataframe tbody tr th:only-of-type {\n        vertical-align: middle;\n    }\n\n    .dataframe tbody tr th {\n        vertical-align: top;\n    }\n\n    .dataframe thead th {\n        text-align: right;\n    }\n</style>\n<table border=\"1\" class=\"dataframe\">\n  <thead>\n    <tr style=\"text-align: right;\">\n      <th></th>\n      <th>dtime_start</th>\n      <th>dtime_end</th>\n      <th>delta_seconds</th>\n      <th>delta_tachometer</th>\n      <th>delta_fuellevel_abs</th>\n      <th>delta_fuellevel_sign</th>\n      <th>lpm</th>\n    </tr>\n  </thead>\n  <tbody>\n    <tr>\n      <th>0</th>\n      <td>2020-01-08 21:16:02</td>\n      <td>2020-01-08 21:17:04</td>\n      <td>62.0</td>\n      <td>0</td>\n      <td>0.0</td>\n      <td>0.0</td>\n      <td>0.000000</td>\n    </tr>\n    <tr>\n      <th>1</th>\n      <td>2020-01-08 21:17:04</td>\n      <td>2020-01-08 21:18:04</td>\n      <td>60.0</td>\n      <td>0</td>\n      <td>0.0</td>\n      <td>0.0</td>\n      <td>0.000000</td>\n    </tr>\n    <tr>\n      <th>2</th>\n      <td>2020-01-08 21:18:04</td>\n      <td>2020-01-09 10:05:26</td>\n      <td>46042.0</td>\n      <td>1248</td>\n      <td>49.7</td>\n      <td>1.0</td>\n      <td>0.001079</td>\n    </tr>\n    <tr>\n      <th>...</th>\n      <td>...</td>\n      <td>...</td>\n      <td>...</td>\n      <td>...</td>\n      <td>...</td>\n      <td>...</td>\n      <td>...</td>\n    </tr>\n    <tr>\n      <th>19028</th>\n      <td>2020-06-27 00:49:05</td>\n      <td>2020-06-27 01:15:14</td>\n      <td>1569.0</td>\n      <td>576</td>\n      <td>0.2</td>\n      <td>-1.0</td>\n      <td>0.000127</td>\n    </tr>\n    <tr>\n      <th>19029</th>\n      <td>2020-06-27 01:15:14</td>\n      <td>2020-06-27 01:16:14</td>\n      <td>60.0</td>\n      <td>-480</td>\n      <td>0.2</td>\n      <td>1.0</td>\n      <td>0.003333</td>\n    </tr>\n    <tr>\n      <th>19030</th>\n      <td>2020-06-27 01:16:14</td>\n      <td>2020-06-27 01:17:14</td>\n      <td>60.0</td>\n      <td>-96</td>\n      <td>0.2</td>\n      <td>1.0</td>\n      <td>0.003333</td>\n    </tr>\n  </tbody>\n</table>\n<p>19031 rows × 7 columns</p>\n</div>"
     },
     "execution_count": 179,
     "metadata": {},
     "output_type": "execute_result"
    }
   ],
   "source": [
    "df_fuel_change['lpm'] = df_fuel_change['delta_fuellevel_abs']/df_fuel_change['delta_seconds']\n",
    "\n",
    "df_fuel_change"
   ],
   "metadata": {
    "collapsed": false,
    "pycharm": {
     "name": "#%%\n"
    }
   }
  },
  {
   "cell_type": "code",
   "execution_count": 183,
   "outputs": [
    {
     "data": {
      "text/plain": "{'count': 19031.0,\n 'mean': 0.014651142971424454,\n 'std': 0.0832652531452787,\n 'min': 0.0,\n '25%': 0.0,\n '50%': 0.0033333333333333214,\n '75%': 0.006666666666666643,\n 'max': 0.995}"
     },
     "execution_count": 183,
     "metadata": {},
     "output_type": "execute_result"
    }
   ],
   "source": [
    "dict(df_fuel_change['lpm'].describe())\n"
   ],
   "metadata": {
    "collapsed": false,
    "pycharm": {
     "name": "#%%\n"
    }
   }
  }
 ],
 "metadata": {
  "kernelspec": {
   "display_name": "Python 3",
   "language": "python",
   "name": "python3"
  },
  "language_info": {
   "codemirror_mode": {
    "name": "ipython",
    "version": 2
   },
   "file_extension": ".py",
   "mimetype": "text/x-python",
   "name": "python",
   "nbconvert_exporter": "python",
   "pygments_lexer": "ipython2",
   "version": "2.7.6"
  }
 },
 "nbformat": 4,
 "nbformat_minor": 0
}
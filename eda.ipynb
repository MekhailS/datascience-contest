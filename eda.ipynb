{
 "cells": [
  {
   "cell_type": "markdown",
   "metadata": {
    "collapsed": true,
    "pycharm": {
     "name": "#%% md\n"
    }
   },
   "source": [
    "## Подготовка данных и разведовательный анализ"
   ]
  },
  {
   "cell_type": "code",
   "execution_count": 1,
   "outputs": [],
   "source": [
    "# imports\n",
    "import pandas as pd\n",
    "# import pandas_profiling\n",
    "from functools import reduce"
   ],
   "metadata": {
    "collapsed": false,
    "pycharm": {
     "name": "#%%\n"
    }
   }
  },
  {
   "cell_type": "markdown",
   "source": [
    "#### Константы\n",
    "- пути к данным\n",
    "- признаки, описывающие данные\n",
    "- типы \"столбцов\", или \"подпризнаков\"\n",
    "- ID ТС"
   ],
   "metadata": {
    "collapsed": false,
    "pycharm": {
     "name": "#%% md\n"
    }
   }
  },
  {
   "cell_type": "code",
   "execution_count": 2,
   "outputs": [],
   "source": [
    "DATA_PATH = 'data/vehicle_dataset_public/'\n",
    "DATA_PROC_PATH = 'data/vehicle_proccessed/'\n",
    "\n",
    "TAGS_FEATURES = ['fuelLevel', 'ingection', 'speedAndHeight', 'tachometer']\n",
    "TAGS_TARGET = ['refueling2']\n",
    "TAGS = TAGS_FEATURES + TAGS_TARGET\n",
    "\n",
    "TIME_COLUMNS = ['DTIME', 'STARTDATE', 'ENDDATE']\n",
    "FLOAT_COLUMNS = ['BEVALUE', 'SPEED', 'HEIGHT']\n",
    "\n",
    "VEHICLE_IDS = [1, 3, 5, 19, 28]"
   ],
   "metadata": {
    "collapsed": false,
    "pycharm": {
     "name": "#%%\n"
    }
   }
  },
  {
   "cell_type": "code",
   "execution_count": 3,
   "outputs": [],
   "source": [
    "# Словарь, состоящий из dataframe'ов для каждого признака\n",
    "def dict_df_vehicle_i(i):\n",
    "    dict_df_vehicle = {}\n",
    "    for tag in TAGS:\n",
    "        df = pd.read_csv(DATA_PATH +\n",
    "                         f'vehicle{i}_{tag}_public.csv', sep=';')\n",
    "        for col in FLOAT_COLUMNS:\n",
    "            if col in df.columns and df[col].dtype == 'object':\n",
    "                df[col] = df[col].str.replace(',','.').astype(float)\n",
    "        df.rename(columns={'BEVALUE': tag}, inplace=True)\n",
    "\n",
    "        for time_col in TIME_COLUMNS:\n",
    "            if time_col in df.columns:\n",
    "                df[time_col] = pd.to_datetime(df[time_col])\n",
    "\n",
    "        dict_df_vehicle[tag] = df\n",
    "\n",
    "    return dict_df_vehicle"
   ],
   "metadata": {
    "collapsed": false,
    "pycharm": {
     "name": "#%%\n"
    }
   }
  },
  {
   "cell_type": "code",
   "execution_count": 4,
   "outputs": [],
   "source": [
    "# Объединение всех \"исходных\" признаков из словаря dataframe'ов\n",
    "# в один dataframe\n",
    "def df_summary(dict_df):\n",
    "    df_to_merge = [dict_df[name] for name in TAGS_FEATURES]\n",
    "\n",
    "    df_res = reduce(lambda left, right: pd.merge(left, right, how='outer', on='DTIME'),\n",
    "                    df_to_merge)\n",
    "    df_res.columns = df_res.columns.str.lower()\n",
    "\n",
    "    return df_res"
   ],
   "metadata": {
    "collapsed": false,
    "pycharm": {
     "name": "#%%\n"
    }
   }
  },
  {
   "cell_type": "code",
   "execution_count": 5,
   "outputs": [],
   "source": [
    "def combine_data():\n",
    "    for i in VEHICLE_IDS:\n",
    "        dict_df = dict_df_vehicle_i(i)\n",
    "\n",
    "        df_sum = df_summary(dict_df)\n",
    "        df_refuel = dict_df['refueling2']\n",
    "\n",
    "        df = df_sum.copy()\n",
    "        df['refuel'] = [1 if ((df_refuel['STARTDATE'] < date) & (date <= df_refuel['ENDDATE'])).any()\n",
    "                        else 0 for date in df_sum['dtime']]\n",
    "\n",
    "        name = f'vehicle{i}'\n",
    "        df.to_csv(DATA_PROC_PATH + name + '.csv', index_label='i')"
   ],
   "metadata": {
    "collapsed": false,
    "pycharm": {
     "name": "#%%\n"
    }
   }
  },
  {
   "cell_type": "code",
   "execution_count": 6,
   "outputs": [],
   "source": [
    "combine_data()"
   ],
   "metadata": {
    "collapsed": false,
    "pycharm": {
     "name": "#%%\n"
    }
   }
  },
  {
   "cell_type": "code",
   "execution_count": 7,
   "outputs": [],
   "source": [
    "def df_for_all_vehicles():\n",
    "    df_sum_list = []\n",
    "    for i in VEHICLE_IDS:\n",
    "        df_sum = pd.read_csv(DATA_PROC_PATH + f'vehicle{i}.csv')\n",
    "        df_sum['TSID'] = str(i)\n",
    "\n",
    "        df_sum_list.append(df_sum)\n",
    "\n",
    "    df_vehicles_all = pd.concat(df_sum_list, ignore_index=True)\n",
    "\n",
    "    return df_vehicles_all"
   ],
   "metadata": {
    "collapsed": false,
    "pycharm": {
     "name": "#%%\n"
    }
   }
  },
  {
   "cell_type": "code",
   "execution_count": 8,
   "outputs": [
    {
     "data": {
      "text/plain": "            i                dtime  fuellevel  ingection  speed  height  \\\n0           0  2020-01-08 21:16:02        0.0          0      0   -22.9   \n1           1  2020-01-08 21:17:04        0.0          0      0   -22.9   \n2           2  2020-01-08 21:18:04        0.0          0      0   -22.9   \n3           3  2020-01-09 10:05:26       49.7          1      0   -22.9   \n4           4  2020-01-09 10:06:27       49.9          1      0   -22.9   \n...       ...                  ...        ...        ...    ...     ...   \n290141  93186  2020-06-30 18:13:27        NaN          1     16   255.4   \n290142  93187  2020-06-30 18:13:52        NaN          1     39   250.6   \n290143  93188  2020-06-30 18:14:25        NaN          1     12   244.4   \n290144  93189  2020-06-30 18:14:33        NaN          1      5   243.4   \n290145  93190  2020-06-30 18:14:39        NaN          1     10   243.6   \n\n        tachometer  refuel TSID  \n0                0       0    1  \n1                0       0    1  \n2                0       0    1  \n3             1248       0    1  \n4             1056       0    1  \n...            ...     ...  ...  \n290141        1792       1   28  \n290142        2368       1   28  \n290143        2400       1   28  \n290144        1888       1   28  \n290145        2496       1   28  \n\n[290146 rows x 9 columns]",
      "text/html": "<div>\n<style scoped>\n    .dataframe tbody tr th:only-of-type {\n        vertical-align: middle;\n    }\n\n    .dataframe tbody tr th {\n        vertical-align: top;\n    }\n\n    .dataframe thead th {\n        text-align: right;\n    }\n</style>\n<table border=\"1\" class=\"dataframe\">\n  <thead>\n    <tr style=\"text-align: right;\">\n      <th></th>\n      <th>i</th>\n      <th>dtime</th>\n      <th>fuellevel</th>\n      <th>ingection</th>\n      <th>speed</th>\n      <th>height</th>\n      <th>tachometer</th>\n      <th>refuel</th>\n      <th>TSID</th>\n    </tr>\n  </thead>\n  <tbody>\n    <tr>\n      <th>0</th>\n      <td>0</td>\n      <td>2020-01-08 21:16:02</td>\n      <td>0.0</td>\n      <td>0</td>\n      <td>0</td>\n      <td>-22.9</td>\n      <td>0</td>\n      <td>0</td>\n      <td>1</td>\n    </tr>\n    <tr>\n      <th>1</th>\n      <td>1</td>\n      <td>2020-01-08 21:17:04</td>\n      <td>0.0</td>\n      <td>0</td>\n      <td>0</td>\n      <td>-22.9</td>\n      <td>0</td>\n      <td>0</td>\n      <td>1</td>\n    </tr>\n    <tr>\n      <th>2</th>\n      <td>2</td>\n      <td>2020-01-08 21:18:04</td>\n      <td>0.0</td>\n      <td>0</td>\n      <td>0</td>\n      <td>-22.9</td>\n      <td>0</td>\n      <td>0</td>\n      <td>1</td>\n    </tr>\n    <tr>\n      <th>3</th>\n      <td>3</td>\n      <td>2020-01-09 10:05:26</td>\n      <td>49.7</td>\n      <td>1</td>\n      <td>0</td>\n      <td>-22.9</td>\n      <td>1248</td>\n      <td>0</td>\n      <td>1</td>\n    </tr>\n    <tr>\n      <th>4</th>\n      <td>4</td>\n      <td>2020-01-09 10:06:27</td>\n      <td>49.9</td>\n      <td>1</td>\n      <td>0</td>\n      <td>-22.9</td>\n      <td>1056</td>\n      <td>0</td>\n      <td>1</td>\n    </tr>\n    <tr>\n      <th>...</th>\n      <td>...</td>\n      <td>...</td>\n      <td>...</td>\n      <td>...</td>\n      <td>...</td>\n      <td>...</td>\n      <td>...</td>\n      <td>...</td>\n      <td>...</td>\n    </tr>\n    <tr>\n      <th>290141</th>\n      <td>93186</td>\n      <td>2020-06-30 18:13:27</td>\n      <td>NaN</td>\n      <td>1</td>\n      <td>16</td>\n      <td>255.4</td>\n      <td>1792</td>\n      <td>1</td>\n      <td>28</td>\n    </tr>\n    <tr>\n      <th>290142</th>\n      <td>93187</td>\n      <td>2020-06-30 18:13:52</td>\n      <td>NaN</td>\n      <td>1</td>\n      <td>39</td>\n      <td>250.6</td>\n      <td>2368</td>\n      <td>1</td>\n      <td>28</td>\n    </tr>\n    <tr>\n      <th>290143</th>\n      <td>93188</td>\n      <td>2020-06-30 18:14:25</td>\n      <td>NaN</td>\n      <td>1</td>\n      <td>12</td>\n      <td>244.4</td>\n      <td>2400</td>\n      <td>1</td>\n      <td>28</td>\n    </tr>\n    <tr>\n      <th>290144</th>\n      <td>93189</td>\n      <td>2020-06-30 18:14:33</td>\n      <td>NaN</td>\n      <td>1</td>\n      <td>5</td>\n      <td>243.4</td>\n      <td>1888</td>\n      <td>1</td>\n      <td>28</td>\n    </tr>\n    <tr>\n      <th>290145</th>\n      <td>93190</td>\n      <td>2020-06-30 18:14:39</td>\n      <td>NaN</td>\n      <td>1</td>\n      <td>10</td>\n      <td>243.6</td>\n      <td>2496</td>\n      <td>1</td>\n      <td>28</td>\n    </tr>\n  </tbody>\n</table>\n<p>290146 rows × 9 columns</p>\n</div>"
     },
     "execution_count": 8,
     "metadata": {},
     "output_type": "execute_result"
    }
   ],
   "source": [
    "df_vehicles_all = df_for_all_vehicles()\n",
    "\n",
    "df_vehicles_all\n",
    "\n"
   ],
   "metadata": {
    "collapsed": false,
    "pycharm": {
     "name": "#%%\n"
    }
   }
  }
 ],
 "metadata": {
  "kernelspec": {
   "display_name": "Python 3",
   "language": "python",
   "name": "python3"
  },
  "language_info": {
   "codemirror_mode": {
    "name": "ipython",
    "version": 2
   },
   "file_extension": ".py",
   "mimetype": "text/x-python",
   "name": "python",
   "nbconvert_exporter": "python",
   "pygments_lexer": "ipython2",
   "version": "2.7.6"
  }
 },
 "nbformat": 4,
 "nbformat_minor": 0
}
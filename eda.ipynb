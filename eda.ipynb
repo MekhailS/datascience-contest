{
 "cells": [
  {
   "cell_type": "markdown",
   "metadata": {
    "collapsed": true,
    "pycharm": {
     "name": "#%% md\n"
    }
   },
   "source": [
    "## Подготовка данных и разведовательный анализ"
   ]
  },
  {
   "cell_type": "code",
   "execution_count": 1,
   "outputs": [
    {
     "name": "stderr",
     "output_type": "stream",
     "text": [
      "\n",
      "Bad key \"text.kerning_factor\" on line 4 in\n",
      "C:\\Users\\MikhailS\\anaconda3\\lib\\site-packages\\matplotlib\\mpl-data\\stylelib\\_classic_test_patch.mplstyle.\n",
      "You probably need to get an updated matplotlibrc file from\n",
      "https://github.com/matplotlib/matplotlib/blob/v3.1.3/matplotlibrc.template\n",
      "or from the matplotlib source distribution\n"
     ]
    }
   ],
   "source": [
    "# imports\n",
    "import pandas as pd\n",
    "import pandas_profiling\n",
    "from functools import reduce"
   ],
   "metadata": {
    "collapsed": false,
    "pycharm": {
     "name": "#%%\n"
    }
   }
  },
  {
   "cell_type": "markdown",
   "source": [
    "#### Константы\n",
    "- пути к данным\n",
    "- признаки, описывающие данные\n",
    "- типы \"столбцов\", или \"подпризнаков\"\n",
    "- ID ТС"
   ],
   "metadata": {
    "collapsed": false,
    "pycharm": {
     "name": "#%% md\n"
    }
   }
  },
  {
   "cell_type": "code",
   "execution_count": 2,
   "outputs": [],
   "source": [
    "DATA_PATH = 'data/vehicle_dataset_public/'\n",
    "DATA_PROC_PATH = 'data/vehicle_proccessed/'\n",
    "\n",
    "TAGS_FEATURES = ['fuelLevel', 'ingection', 'speedAndHeight', 'tachometer']\n",
    "TAGS_TARGET = ['refueling2']\n",
    "TAGS = TAGS_FEATURES + TAGS_TARGET\n",
    "\n",
    "TIME_COLUMNS = ['DTIME', 'STARTDATE', 'ENDDATE']\n",
    "FLOAT_COLUMNS = ['BEVALUE', 'SPEED', 'HEIGHT']\n",
    "\n",
    "VEHICLE_IDS = [1, 3, 5, 19, 28]"
   ],
   "metadata": {
    "collapsed": false,
    "pycharm": {
     "name": "#%%\n"
    }
   }
  },
  {
   "cell_type": "code",
   "execution_count": 3,
   "outputs": [],
   "source": [
    "# Словарь, состоящий из dataframe'ов для каждого признака\n",
    "def dict_df_vehicle_i(i):\n",
    "    dict_df_vehicle = {}\n",
    "    for tag in TAGS:\n",
    "        df = pd.read_csv(DATA_PATH +\n",
    "                         f'vehicle{i}_{tag}_public.csv', sep=';')\n",
    "        for col in FLOAT_COLUMNS:\n",
    "            if col in df.columns and df[col].dtype == 'object':\n",
    "                df[col] = df[col].str.replace(',','.').astype(float)\n",
    "        df.rename(columns={'BEVALUE': tag}, inplace=True)\n",
    "\n",
    "        for time_col in TIME_COLUMNS:\n",
    "            if time_col in df.columns:\n",
    "                df[time_col] = pd.to_datetime(df[time_col])\n",
    "\n",
    "        dict_df_vehicle[tag] = df\n",
    "\n",
    "    return dict_df_vehicle"
   ],
   "metadata": {
    "collapsed": false,
    "pycharm": {
     "name": "#%%\n"
    }
   }
  },
  {
   "cell_type": "code",
   "execution_count": 4,
   "outputs": [],
   "source": [
    "# Объединение всех \"исходных\" признаков из словаря dataframe'ов\n",
    "# в один dataframe\n",
    "def df_summary(dict_df):\n",
    "    df_to_merge = [dict_df[name] for name in TAGS_FEATURES]\n",
    "\n",
    "    df_res = reduce(lambda left, right: pd.merge(left, right, how='outer', on='DTIME'),\n",
    "                    df_to_merge)\n",
    "    df_res.columns = df_res.columns.str.lower()\n",
    "\n",
    "    return df_res"
   ],
   "metadata": {
    "collapsed": false,
    "pycharm": {
     "name": "#%%\n"
    }
   }
  },
  {
   "cell_type": "code",
   "execution_count": 5,
   "outputs": [],
   "source": [
    "def combine_data():\n",
    "    for i in VEHICLE_IDS:\n",
    "        dict_df = dict_df_vehicle_i(i)\n",
    "        df_sum = df_summary(dict_df)\n",
    "\n",
    "        report = pandas_profiling.ProfileReport(df_sum)\n",
    "\n",
    "        name = f'vehicle{i}_'\n",
    "        df_sum.to_csv(DATA_PROC_PATH + name + 'summary.csv', index_label='i')\n",
    "        dict_df['refueling2'].to_csv(DATA_PROC_PATH + name + 'fueling2.csv', index_label='i')\n",
    "        report.to_file(DATA_PROC_PATH + 'reports/' + name + 'report.html')"
   ],
   "metadata": {
    "collapsed": false,
    "pycharm": {
     "name": "#%%\n"
    }
   }
  },
  {
   "cell_type": "code",
   "execution_count": 6,
   "outputs": [
    {
     "data": {
      "text/plain": "HBox(children=(FloatProgress(value=0.0, description='Summarize dataset', max=20.0, style=ProgressStyle(descrip…",
      "application/vnd.jupyter.widget-view+json": {
       "version_major": 2,
       "version_minor": 0,
       "model_id": "3ab5aa85ea734566b15adad5b2f04530"
      }
     },
     "metadata": {},
     "output_type": "display_data"
    },
    {
     "name": "stdout",
     "output_type": "stream",
     "text": [
      "\n",
      "\n",
      "\n",
      "\n",
      "\n",
      "\n",
      "\n",
      "\n",
      "\n",
      "\n",
      "\n",
      "\n",
      "\n",
      "\n",
      "\n",
      "\n",
      "\n",
      "\n",
      "\n",
      "\n"
     ]
    },
    {
     "data": {
      "text/plain": "HBox(children=(FloatProgress(value=0.0, description='Generate report structure', max=1.0, style=ProgressStyle(…",
      "application/vnd.jupyter.widget-view+json": {
       "version_major": 2,
       "version_minor": 0,
       "model_id": "bb52a9d1d7cc47408a10fcbfe676cd7d"
      }
     },
     "metadata": {},
     "output_type": "display_data"
    },
    {
     "data": {
      "text/plain": "HBox(children=(FloatProgress(value=0.0, description='Render HTML', max=1.0, style=ProgressStyle(description_wi…",
      "application/vnd.jupyter.widget-view+json": {
       "version_major": 2,
       "version_minor": 0,
       "model_id": "4b040c64c9864bca88638a9e74c02205"
      }
     },
     "metadata": {},
     "output_type": "display_data"
    },
    {
     "data": {
      "text/plain": "HBox(children=(FloatProgress(value=0.0, description='Export report to file', max=1.0, style=ProgressStyle(desc…",
      "application/vnd.jupyter.widget-view+json": {
       "version_major": 2,
       "version_minor": 0,
       "model_id": "fabc69abad564b4399b7865d8a61119b"
      }
     },
     "metadata": {},
     "output_type": "display_data"
    },
    {
     "data": {
      "text/plain": "HBox(children=(FloatProgress(value=0.0, description='Summarize dataset', max=20.0, style=ProgressStyle(descrip…",
      "application/vnd.jupyter.widget-view+json": {
       "version_major": 2,
       "version_minor": 0,
       "model_id": "67e8097478244f5cb00254afbf6cc74b"
      }
     },
     "metadata": {},
     "output_type": "display_data"
    },
    {
     "data": {
      "text/plain": "HBox(children=(FloatProgress(value=0.0, description='Generate report structure', max=1.0, style=ProgressStyle(…",
      "application/vnd.jupyter.widget-view+json": {
       "version_major": 2,
       "version_minor": 0,
       "model_id": "c44b4c1735344290bcd6d1b30b70df62"
      }
     },
     "metadata": {},
     "output_type": "display_data"
    },
    {
     "data": {
      "text/plain": "HBox(children=(FloatProgress(value=0.0, description='Render HTML', max=1.0, style=ProgressStyle(description_wi…",
      "application/vnd.jupyter.widget-view+json": {
       "version_major": 2,
       "version_minor": 0,
       "model_id": "0dbdd5c906ec4a0abfc764994ebbd8ea"
      }
     },
     "metadata": {},
     "output_type": "display_data"
    },
    {
     "data": {
      "text/plain": "HBox(children=(FloatProgress(value=0.0, description='Export report to file', max=1.0, style=ProgressStyle(desc…",
      "application/vnd.jupyter.widget-view+json": {
       "version_major": 2,
       "version_minor": 0,
       "model_id": "e91db60b990241909f278ef0372d6001"
      }
     },
     "metadata": {},
     "output_type": "display_data"
    },
    {
     "data": {
      "text/plain": "HBox(children=(FloatProgress(value=0.0, description='Summarize dataset', max=20.0, style=ProgressStyle(descrip…",
      "application/vnd.jupyter.widget-view+json": {
       "version_major": 2,
       "version_minor": 0,
       "model_id": "85404cf3faaf422c9e7838c12dc1cf01"
      }
     },
     "metadata": {},
     "output_type": "display_data"
    },
    {
     "data": {
      "text/plain": "HBox(children=(FloatProgress(value=0.0, description='Generate report structure', max=1.0, style=ProgressStyle(…",
      "application/vnd.jupyter.widget-view+json": {
       "version_major": 2,
       "version_minor": 0,
       "model_id": "a8c766feef3e467ea3e8b88b5757cf14"
      }
     },
     "metadata": {},
     "output_type": "display_data"
    },
    {
     "data": {
      "text/plain": "HBox(children=(FloatProgress(value=0.0, description='Render HTML', max=1.0, style=ProgressStyle(description_wi…",
      "application/vnd.jupyter.widget-view+json": {
       "version_major": 2,
       "version_minor": 0,
       "model_id": "17ab77b1d0af447aa31ce706629e0046"
      }
     },
     "metadata": {},
     "output_type": "display_data"
    },
    {
     "data": {
      "text/plain": "HBox(children=(FloatProgress(value=0.0, description='Export report to file', max=1.0, style=ProgressStyle(desc…",
      "application/vnd.jupyter.widget-view+json": {
       "version_major": 2,
       "version_minor": 0,
       "model_id": "dfceae4715f54b7d9d9ac59ce26ed00d"
      }
     },
     "metadata": {},
     "output_type": "display_data"
    },
    {
     "data": {
      "text/plain": "HBox(children=(FloatProgress(value=0.0, description='Summarize dataset', max=20.0, style=ProgressStyle(descrip…",
      "application/vnd.jupyter.widget-view+json": {
       "version_major": 2,
       "version_minor": 0,
       "model_id": "591561117443422b8994afd45983271b"
      }
     },
     "metadata": {},
     "output_type": "display_data"
    },
    {
     "data": {
      "text/plain": "HBox(children=(FloatProgress(value=0.0, description='Generate report structure', max=1.0, style=ProgressStyle(…",
      "application/vnd.jupyter.widget-view+json": {
       "version_major": 2,
       "version_minor": 0,
       "model_id": "1cb08e756cbc4453a6774e61029b9653"
      }
     },
     "metadata": {},
     "output_type": "display_data"
    },
    {
     "data": {
      "text/plain": "HBox(children=(FloatProgress(value=0.0, description='Render HTML', max=1.0, style=ProgressStyle(description_wi…",
      "application/vnd.jupyter.widget-view+json": {
       "version_major": 2,
       "version_minor": 0,
       "model_id": "d6e71ce1016447e7a371d5d0d4e384ca"
      }
     },
     "metadata": {},
     "output_type": "display_data"
    },
    {
     "data": {
      "text/plain": "HBox(children=(FloatProgress(value=0.0, description='Export report to file', max=1.0, style=ProgressStyle(desc…",
      "application/vnd.jupyter.widget-view+json": {
       "version_major": 2,
       "version_minor": 0,
       "model_id": "f625a27a4d434ce489221527c876c900"
      }
     },
     "metadata": {},
     "output_type": "display_data"
    },
    {
     "data": {
      "text/plain": "HBox(children=(FloatProgress(value=0.0, description='Summarize dataset', max=20.0, style=ProgressStyle(descrip…",
      "application/vnd.jupyter.widget-view+json": {
       "version_major": 2,
       "version_minor": 0,
       "model_id": "6c8b2afa655c434492289378d53d94f5"
      }
     },
     "metadata": {},
     "output_type": "display_data"
    },
    {
     "data": {
      "text/plain": "HBox(children=(FloatProgress(value=0.0, description='Generate report structure', max=1.0, style=ProgressStyle(…",
      "application/vnd.jupyter.widget-view+json": {
       "version_major": 2,
       "version_minor": 0,
       "model_id": "bce2c8dad7ee40ab949bef24512e4e98"
      }
     },
     "metadata": {},
     "output_type": "display_data"
    },
    {
     "data": {
      "text/plain": "HBox(children=(FloatProgress(value=0.0, description='Render HTML', max=1.0, style=ProgressStyle(description_wi…",
      "application/vnd.jupyter.widget-view+json": {
       "version_major": 2,
       "version_minor": 0,
       "model_id": "125b7a0e2d5847bb9701c3fc2b628ecb"
      }
     },
     "metadata": {},
     "output_type": "display_data"
    },
    {
     "data": {
      "text/plain": "HBox(children=(FloatProgress(value=0.0, description='Export report to file', max=1.0, style=ProgressStyle(desc…",
      "application/vnd.jupyter.widget-view+json": {
       "version_major": 2,
       "version_minor": 0,
       "model_id": "4c7b7326954d448686ee25c89d6b4b68"
      }
     },
     "metadata": {},
     "output_type": "display_data"
    }
   ],
   "source": [
    "combine_data()"
   ],
   "metadata": {
    "collapsed": false,
    "pycharm": {
     "name": "#%%\n"
    }
   }
  },
  {
   "cell_type": "code",
   "execution_count": 7,
   "outputs": [],
   "source": [
    "def df_for_all_vehicles():\n",
    "    df_sum_list = []\n",
    "    df_refuel_list = []\n",
    "    for i in VEHICLE_IDS:\n",
    "        dict_df = dict_df_vehicle_i(i)\n",
    "        df_sum = df_summary(dict_df)\n",
    "        df_sum['TSID'] = str(i)\n",
    "\n",
    "        df_sum_list.append(df_sum)\n",
    "        df_refuel_list.append(dict_df['refueling2'])\n",
    "\n",
    "    df_sum_all = reduce(lambda left, right:\n",
    "                    pd.concat([left, right], ignore_index=True), df_sum_list)\n",
    "    df_refuel_all = reduce(lambda left, right:\n",
    "                    pd.concat([left, right], ignore_index=True), df_refuel_list)\n",
    "\n",
    "    return df_sum_all, df_refuel_all"
   ],
   "metadata": {
    "collapsed": false,
    "pycharm": {
     "name": "#%%\n"
    }
   }
  },
  {
   "cell_type": "code",
   "execution_count": 8,
   "outputs": [
    {
     "data": {
      "text/plain": "                     dtime  fuellevel  ingection  speed  height  tachometer  \\\n0      2020-01-08 21:16:02        0.0          0      0   -22.9           0   \n1      2020-01-08 21:17:04        0.0          0      0   -22.9           0   \n2      2020-01-08 21:18:04        0.0          0      0   -22.9           0   \n3      2020-01-09 10:05:26       49.7          1      0   -22.9        1248   \n4      2020-01-09 10:06:27       49.9          1      0   -22.9        1056   \n...                    ...        ...        ...    ...     ...         ...   \n290141 2020-06-30 18:13:27        NaN          1     16   255.4        1792   \n290142 2020-06-30 18:13:52        NaN          1     39   250.6        2368   \n290143 2020-06-30 18:14:25        NaN          1     12   244.4        2400   \n290144 2020-06-30 18:14:33        NaN          1      5   243.4        1888   \n290145 2020-06-30 18:14:39        NaN          1     10   243.6        2496   \n\n       TSID  \n0         1  \n1         1  \n2         1  \n3         1  \n4         1  \n...     ...  \n290141   28  \n290142   28  \n290143   28  \n290144   28  \n290145   28  \n\n[290146 rows x 7 columns]",
      "text/html": "<div>\n<style scoped>\n    .dataframe tbody tr th:only-of-type {\n        vertical-align: middle;\n    }\n\n    .dataframe tbody tr th {\n        vertical-align: top;\n    }\n\n    .dataframe thead th {\n        text-align: right;\n    }\n</style>\n<table border=\"1\" class=\"dataframe\">\n  <thead>\n    <tr style=\"text-align: right;\">\n      <th></th>\n      <th>dtime</th>\n      <th>fuellevel</th>\n      <th>ingection</th>\n      <th>speed</th>\n      <th>height</th>\n      <th>tachometer</th>\n      <th>TSID</th>\n    </tr>\n  </thead>\n  <tbody>\n    <tr>\n      <th>0</th>\n      <td>2020-01-08 21:16:02</td>\n      <td>0.0</td>\n      <td>0</td>\n      <td>0</td>\n      <td>-22.9</td>\n      <td>0</td>\n      <td>1</td>\n    </tr>\n    <tr>\n      <th>1</th>\n      <td>2020-01-08 21:17:04</td>\n      <td>0.0</td>\n      <td>0</td>\n      <td>0</td>\n      <td>-22.9</td>\n      <td>0</td>\n      <td>1</td>\n    </tr>\n    <tr>\n      <th>2</th>\n      <td>2020-01-08 21:18:04</td>\n      <td>0.0</td>\n      <td>0</td>\n      <td>0</td>\n      <td>-22.9</td>\n      <td>0</td>\n      <td>1</td>\n    </tr>\n    <tr>\n      <th>3</th>\n      <td>2020-01-09 10:05:26</td>\n      <td>49.7</td>\n      <td>1</td>\n      <td>0</td>\n      <td>-22.9</td>\n      <td>1248</td>\n      <td>1</td>\n    </tr>\n    <tr>\n      <th>4</th>\n      <td>2020-01-09 10:06:27</td>\n      <td>49.9</td>\n      <td>1</td>\n      <td>0</td>\n      <td>-22.9</td>\n      <td>1056</td>\n      <td>1</td>\n    </tr>\n    <tr>\n      <th>...</th>\n      <td>...</td>\n      <td>...</td>\n      <td>...</td>\n      <td>...</td>\n      <td>...</td>\n      <td>...</td>\n      <td>...</td>\n    </tr>\n    <tr>\n      <th>290141</th>\n      <td>2020-06-30 18:13:27</td>\n      <td>NaN</td>\n      <td>1</td>\n      <td>16</td>\n      <td>255.4</td>\n      <td>1792</td>\n      <td>28</td>\n    </tr>\n    <tr>\n      <th>290142</th>\n      <td>2020-06-30 18:13:52</td>\n      <td>NaN</td>\n      <td>1</td>\n      <td>39</td>\n      <td>250.6</td>\n      <td>2368</td>\n      <td>28</td>\n    </tr>\n    <tr>\n      <th>290143</th>\n      <td>2020-06-30 18:14:25</td>\n      <td>NaN</td>\n      <td>1</td>\n      <td>12</td>\n      <td>244.4</td>\n      <td>2400</td>\n      <td>28</td>\n    </tr>\n    <tr>\n      <th>290144</th>\n      <td>2020-06-30 18:14:33</td>\n      <td>NaN</td>\n      <td>1</td>\n      <td>5</td>\n      <td>243.4</td>\n      <td>1888</td>\n      <td>28</td>\n    </tr>\n    <tr>\n      <th>290145</th>\n      <td>2020-06-30 18:14:39</td>\n      <td>NaN</td>\n      <td>1</td>\n      <td>10</td>\n      <td>243.6</td>\n      <td>2496</td>\n      <td>28</td>\n    </tr>\n  </tbody>\n</table>\n<p>290146 rows × 7 columns</p>\n</div>"
     },
     "execution_count": 8,
     "metadata": {},
     "output_type": "execute_result"
    }
   ],
   "source": [
    "df_sum_all, df_refuel_all = df_for_all_vehicles()\n",
    "\n",
    "df_sum_all"
   ],
   "metadata": {
    "collapsed": false,
    "pycharm": {
     "name": "#%%\n"
    }
   }
  },
  {
   "cell_type": "code",
   "execution_count": 9,
   "outputs": [
    {
     "data": {
      "text/plain": "     TSID           STARTDATE             ENDDATE STARTLEVEL ENDLEVEL\n0       1 2020-01-16 11:02:40 2020-01-16 13:20:40       46,7     38,4\n1       1 2020-01-16 13:20:40 2020-01-16 13:25:46       38,4     56,7\n2       1 2020-01-17 09:05:49 2020-01-17 12:14:10       56,3       51\n3       1 2020-01-17 14:45:48 2020-01-17 16:12:27         51     43,9\n4       1 2020-01-20 09:44:03 2020-01-20 12:44:07       43,9     23,5\n..    ...                 ...                 ...        ...      ...\n358    28 2020-06-29 07:45:02 2020-06-29 09:30:02         27     19.9\n359    28 2020-06-29 20:52:02 2020-06-29 20:58:02        9.3     58.9\n360    28 2020-06-29 20:58:02 2020-06-29 21:59:02       58.9     53.7\n361    28 2020-06-30 07:49:13 2020-06-30 09:39:13       53.7     46.4\n362    28 2020-06-30 16:29:13 2020-06-30 18:15:13       46.4     40.3\n\n[363 rows x 5 columns]",
      "text/html": "<div>\n<style scoped>\n    .dataframe tbody tr th:only-of-type {\n        vertical-align: middle;\n    }\n\n    .dataframe tbody tr th {\n        vertical-align: top;\n    }\n\n    .dataframe thead th {\n        text-align: right;\n    }\n</style>\n<table border=\"1\" class=\"dataframe\">\n  <thead>\n    <tr style=\"text-align: right;\">\n      <th></th>\n      <th>TSID</th>\n      <th>STARTDATE</th>\n      <th>ENDDATE</th>\n      <th>STARTLEVEL</th>\n      <th>ENDLEVEL</th>\n    </tr>\n  </thead>\n  <tbody>\n    <tr>\n      <th>0</th>\n      <td>1</td>\n      <td>2020-01-16 11:02:40</td>\n      <td>2020-01-16 13:20:40</td>\n      <td>46,7</td>\n      <td>38,4</td>\n    </tr>\n    <tr>\n      <th>1</th>\n      <td>1</td>\n      <td>2020-01-16 13:20:40</td>\n      <td>2020-01-16 13:25:46</td>\n      <td>38,4</td>\n      <td>56,7</td>\n    </tr>\n    <tr>\n      <th>2</th>\n      <td>1</td>\n      <td>2020-01-17 09:05:49</td>\n      <td>2020-01-17 12:14:10</td>\n      <td>56,3</td>\n      <td>51</td>\n    </tr>\n    <tr>\n      <th>3</th>\n      <td>1</td>\n      <td>2020-01-17 14:45:48</td>\n      <td>2020-01-17 16:12:27</td>\n      <td>51</td>\n      <td>43,9</td>\n    </tr>\n    <tr>\n      <th>4</th>\n      <td>1</td>\n      <td>2020-01-20 09:44:03</td>\n      <td>2020-01-20 12:44:07</td>\n      <td>43,9</td>\n      <td>23,5</td>\n    </tr>\n    <tr>\n      <th>...</th>\n      <td>...</td>\n      <td>...</td>\n      <td>...</td>\n      <td>...</td>\n      <td>...</td>\n    </tr>\n    <tr>\n      <th>358</th>\n      <td>28</td>\n      <td>2020-06-29 07:45:02</td>\n      <td>2020-06-29 09:30:02</td>\n      <td>27</td>\n      <td>19.9</td>\n    </tr>\n    <tr>\n      <th>359</th>\n      <td>28</td>\n      <td>2020-06-29 20:52:02</td>\n      <td>2020-06-29 20:58:02</td>\n      <td>9.3</td>\n      <td>58.9</td>\n    </tr>\n    <tr>\n      <th>360</th>\n      <td>28</td>\n      <td>2020-06-29 20:58:02</td>\n      <td>2020-06-29 21:59:02</td>\n      <td>58.9</td>\n      <td>53.7</td>\n    </tr>\n    <tr>\n      <th>361</th>\n      <td>28</td>\n      <td>2020-06-30 07:49:13</td>\n      <td>2020-06-30 09:39:13</td>\n      <td>53.7</td>\n      <td>46.4</td>\n    </tr>\n    <tr>\n      <th>362</th>\n      <td>28</td>\n      <td>2020-06-30 16:29:13</td>\n      <td>2020-06-30 18:15:13</td>\n      <td>46.4</td>\n      <td>40.3</td>\n    </tr>\n  </tbody>\n</table>\n<p>363 rows × 5 columns</p>\n</div>"
     },
     "execution_count": 9,
     "metadata": {},
     "output_type": "execute_result"
    }
   ],
   "source": [
    "df_refuel_all"
   ],
   "metadata": {
    "collapsed": false,
    "pycharm": {
     "name": "#%%\n"
    }
   }
  },
  {
   "cell_type": "code",
   "execution_count": 10,
   "outputs": [],
   "source": [
    "df_sum_all.to_csv(DATA_PROC_PATH + 'all_summary.csv', index_label='i')\n",
    "df_refuel_all.to_csv(DATA_PROC_PATH + 'all_refuel.csv', index_label='i')"
   ],
   "metadata": {
    "collapsed": false,
    "pycharm": {
     "name": "#%%\n"
    }
   }
  },
  {
   "cell_type": "code",
   "execution_count": 11,
   "outputs": [],
   "source": [
    "reportSumData = pandas_profiling.ProfileReport(df_sum_all)\n",
    "reportRefuel = pandas_profiling.ProfileReport(df_refuel_all)"
   ],
   "metadata": {
    "collapsed": false,
    "pycharm": {
     "name": "#%%\n"
    }
   }
  },
  {
   "cell_type": "code",
   "execution_count": 12,
   "outputs": [
    {
     "data": {
      "text/plain": "HBox(children=(FloatProgress(value=0.0, description='Summarize dataset', max=21.0, style=ProgressStyle(descrip…",
      "application/vnd.jupyter.widget-view+json": {
       "version_major": 2,
       "version_minor": 0,
       "model_id": "86ecfaa3b4c44ac8844a4c0c7351c421"
      }
     },
     "metadata": {},
     "output_type": "display_data"
    },
    {
     "name": "stdout",
     "output_type": "stream",
     "text": [
      "\n",
      "\n",
      "\n",
      "\n",
      "\n",
      "\n",
      "\n",
      "\n"
     ]
    },
    {
     "data": {
      "text/plain": "HBox(children=(FloatProgress(value=0.0, description='Generate report structure', max=1.0, style=ProgressStyle(…",
      "application/vnd.jupyter.widget-view+json": {
       "version_major": 2,
       "version_minor": 0,
       "model_id": "4aced39ad1a94d58b4929c758d008da6"
      }
     },
     "metadata": {},
     "output_type": "display_data"
    },
    {
     "data": {
      "text/plain": "HBox(children=(FloatProgress(value=0.0, description='Render HTML', max=1.0, style=ProgressStyle(description_wi…",
      "application/vnd.jupyter.widget-view+json": {
       "version_major": 2,
       "version_minor": 0,
       "model_id": "3e316b414e4b4815ac369c1c30bdcd9b"
      }
     },
     "metadata": {},
     "output_type": "display_data"
    },
    {
     "data": {
      "text/plain": "HBox(children=(FloatProgress(value=0.0, description='Export report to file', max=1.0, style=ProgressStyle(desc…",
      "application/vnd.jupyter.widget-view+json": {
       "version_major": 2,
       "version_minor": 0,
       "model_id": "a0adf540343b460da5255219ff12d5b8"
      }
     },
     "metadata": {},
     "output_type": "display_data"
    },
    {
     "data": {
      "text/plain": "HBox(children=(FloatProgress(value=0.0, description='Summarize dataset', max=19.0, style=ProgressStyle(descrip…",
      "application/vnd.jupyter.widget-view+json": {
       "version_major": 2,
       "version_minor": 0,
       "model_id": "3c2fbc977689496fa9e231c54abd1500"
      }
     },
     "metadata": {},
     "output_type": "display_data"
    },
    {
     "data": {
      "text/plain": "HBox(children=(FloatProgress(value=0.0, description='Generate report structure', max=1.0, style=ProgressStyle(…",
      "application/vnd.jupyter.widget-view+json": {
       "version_major": 2,
       "version_minor": 0,
       "model_id": "916516b354d0453e819772e6e923abb9"
      }
     },
     "metadata": {},
     "output_type": "display_data"
    },
    {
     "data": {
      "text/plain": "HBox(children=(FloatProgress(value=0.0, description='Render HTML', max=1.0, style=ProgressStyle(description_wi…",
      "application/vnd.jupyter.widget-view+json": {
       "version_major": 2,
       "version_minor": 0,
       "model_id": "aef0411346c242408e220ca436cf28c3"
      }
     },
     "metadata": {},
     "output_type": "display_data"
    },
    {
     "data": {
      "text/plain": "HBox(children=(FloatProgress(value=0.0, description='Export report to file', max=1.0, style=ProgressStyle(desc…",
      "application/vnd.jupyter.widget-view+json": {
       "version_major": 2,
       "version_minor": 0,
       "model_id": "824a82a5579a49f28a9f43f688e41a10"
      }
     },
     "metadata": {},
     "output_type": "display_data"
    }
   ],
   "source": [
    "reportSumData.to_file(DATA_PROC_PATH + 'reports/all_summary_report.html')\n",
    "reportRefuel.to_file(DATA_PROC_PATH + 'reports/all_refuel_report.html')"
   ],
   "metadata": {
    "collapsed": false,
    "pycharm": {
     "name": "#%%\n"
    }
   }
  }
 ],
 "metadata": {
  "kernelspec": {
   "display_name": "Python 3",
   "language": "python",
   "name": "python3"
  },
  "language_info": {
   "codemirror_mode": {
    "name": "ipython",
    "version": 2
   },
   "file_extension": ".py",
   "mimetype": "text/x-python",
   "name": "python",
   "nbconvert_exporter": "python",
   "pygments_lexer": "ipython2",
   "version": "2.7.6"
  }
 },
 "nbformat": 4,
 "nbformat_minor": 0
}
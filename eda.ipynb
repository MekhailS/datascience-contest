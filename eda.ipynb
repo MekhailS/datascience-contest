{
 "cells": [
  {
   "cell_type": "markdown",
   "metadata": {
    "collapsed": true,
    "pycharm": {
     "name": "#%% md\n"
    }
   },
   "source": [
    "## Подготовка данных и раздведовательный анализ"
   ]
  },
  {
   "cell_type": "code",
   "execution_count": 24,
   "outputs": [],
   "source": [
    "# imports\n",
    "import pandas as pd"
   ],
   "metadata": {
    "collapsed": false,
    "pycharm": {
     "name": "#%%\n"
    }
   }
  },
  {
   "cell_type": "markdown",
   "source": [
    "#### Константы\n",
    "- путь к данным\n",
    "- признаки, описывающие состояние ТС"
   ],
   "metadata": {
    "collapsed": false,
    "pycharm": {
     "name": "#%% md\n"
    }
   }
  },
  {
   "cell_type": "code",
   "execution_count": 25,
   "outputs": [],
   "source": [
    "DATA_PATH = 'data/vehicle_dataset_public/'\n",
    "\n",
    "TAGS = ['fuelLevel', 'ingection', 'refueling2',\n",
    "        'speedAndHeight', 'tachometer']"
   ],
   "metadata": {
    "collapsed": false,
    "pycharm": {
     "name": "#%%\n"
    }
   }
  },
  {
   "cell_type": "code",
   "execution_count": 29,
   "outputs": [],
   "source": [
    "def dict_df_vehicle_i(i):\n",
    "    dict_df_vehiicle = {}\n",
    "    for tag in TAGS:\n",
    "        dict_df_vehiicle[tag] = pd.read_csv(DATA_PATH +\n",
    "                                            f'vehicle{i}_{tag}_public.csv', sep=';')\n",
    "    return dict_df_vehiicle"
   ],
   "metadata": {
    "collapsed": false,
    "pycharm": {
     "name": "#%%\n"
    }
   }
  },
  {
   "cell_type": "code",
   "execution_count": 30,
   "outputs": [],
   "source": [
    "dict_df = dict_df_vehicle_i(1)"
   ],
   "metadata": {
    "collapsed": false,
    "pycharm": {
     "name": "#%%\n"
    }
   }
  },
  {
   "cell_type": "code",
   "execution_count": 31,
   "outputs": [
    {
     "data": {
      "text/plain": "{'fuelLevel':                      DTIME BEVALUE\n 0      2020-01-08 21:16:02       0\n 1      2020-01-08 21:17:04       0\n 2      2020-01-08 21:18:04       0\n 3      2020-01-09 10:05:26    49,7\n 4      2020-01-09 10:06:27    49,9\n ...                    ...     ...\n 19027  2020-06-27 00:48:05      54\n 19028  2020-06-27 00:49:05    54,2\n 19029  2020-06-27 01:15:14      54\n 19030  2020-06-27 01:16:14    54,2\n 19031  2020-06-27 01:17:14    54,4\n \n [19032 rows x 2 columns],\n 'ingection':                      DTIME  BEVALUE\n 0      2020-01-08 21:16:02        0\n 1      2020-01-08 21:17:04        0\n 2      2020-01-08 21:18:04        0\n 3      2020-01-09 10:05:26        1\n 4      2020-01-09 10:06:27        1\n ...                    ...      ...\n 85923  2020-06-27 01:10:27        1\n 85924  2020-06-27 01:15:14        1\n 85925  2020-06-27 01:15:22        1\n 85926  2020-06-27 01:16:14        1\n 85927  2020-06-27 01:17:14        1\n \n [85928 rows x 2 columns],\n 'refueling2':      TSID            STARTDATE              ENDDATE STARTLEVEL ENDLEVEL\n 0       1  2020-01-16 11:02:40  2020-01-16 13:20:40       46,7     38,4\n 1       1  2020-01-16 13:20:40  2020-01-16 13:25:46       38,4     56,7\n 2       1  2020-01-17 09:05:49  2020-01-17 12:14:10       56,3       51\n 3       1  2020-01-17 14:45:48  2020-01-17 16:12:27         51     43,9\n 4       1  2020-01-20 09:44:03  2020-01-20 12:44:07       43,9     23,5\n ..    ...                  ...                  ...        ...      ...\n 98      1  2020-06-26 17:13:03  2020-06-26 18:57:03       49,3     39,2\n 99      1  2020-06-26 18:57:03  2020-06-26 19:04:00       39,2     59,7\n 100     1  2020-06-26 19:04:00  2020-06-26 21:20:41       59,7     32,2\n 101     1  2020-06-26 22:00:39  2020-06-27 00:11:16       32,2      7,3\n 102     1  2020-06-27 00:11:16  2020-06-27 00:22:37        7,3       57\n \n [103 rows x 5 columns],\n 'speedAndHeight':                      DTIME  SPEED  HEIGHT\n 0      2020-01-08 21:16:02      0   -22,9\n 1      2020-01-08 21:17:04      0   -22,9\n 2      2020-01-08 21:18:04      0   -22,9\n 3      2020-01-09 10:05:26      0   -22,9\n 4      2020-01-09 10:06:27      0   -22,9\n ...                    ...    ...     ...\n 85923  2020-06-27 01:10:27     21   -61,3\n 85924  2020-06-27 01:15:14     21   -64,8\n 85925  2020-06-27 01:15:22     15   -80,1\n 85926  2020-06-27 01:16:14      6  -111,9\n 85927  2020-06-27 01:17:14      6  -111,9\n \n [85928 rows x 3 columns],\n 'tachometer':                      DTIME  BEVALUE\n 0      2020-01-08 21:16:02        0\n 1      2020-01-08 21:17:04        0\n 2      2020-01-08 21:18:04        0\n 3      2020-01-09 10:05:26     1248\n 4      2020-01-09 10:06:27     1056\n ...                    ...      ...\n 85923  2020-06-27 01:10:27     1376\n 85924  2020-06-27 01:15:14     1408\n 85925  2020-06-27 01:15:22      832\n 85926  2020-06-27 01:16:14      928\n 85927  2020-06-27 01:17:14      832\n \n [85928 rows x 2 columns]}"
     },
     "execution_count": 31,
     "metadata": {},
     "output_type": "execute_result"
    }
   ],
   "source": [
    "dict_df\n"
   ],
   "metadata": {
    "collapsed": false,
    "pycharm": {
     "name": "#%%\n"
    }
   }
  }
 ],
 "metadata": {
  "kernelspec": {
   "display_name": "Python 3",
   "language": "python",
   "name": "python3"
  },
  "language_info": {
   "codemirror_mode": {
    "name": "ipython",
    "version": 2
   },
   "file_extension": ".py",
   "mimetype": "text/x-python",
   "name": "python",
   "nbconvert_exporter": "python",
   "pygments_lexer": "ipython2",
   "version": "2.7.6"
  }
 },
 "nbformat": 4,
 "nbformat_minor": 0
}
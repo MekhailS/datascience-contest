{
 "cells": [
  {
   "cell_type": "markdown",
   "metadata": {
    "collapsed": true,
    "pycharm": {
     "name": "#%% md\n"
    }
   },
   "source": [
    "### Выбор модели для классификации событий изменения уровня топлива"
   ]
  },
  {
   "cell_type": "code",
   "execution_count": 1,
   "outputs": [],
   "source": [
    "#imports\n",
    "import pandas as pd\n",
    "import numpy as np\n",
    "\n",
    "from sklearn import model_selection, metrics\n",
    "from sklearn.preprocessing import StandardScaler\n",
    "from sklearn.pipeline import Pipeline\n",
    "\n",
    "from sklearn.ensemble import GradientBoostingClassifier\n",
    "from sklearn.svm import SVC\n",
    "from sklearn.neighbors import KNeighborsClassifier"
   ],
   "metadata": {
    "collapsed": false,
    "pycharm": {
     "name": "#%%\n"
    }
   }
  },
  {
   "cell_type": "code",
   "execution_count": 2,
   "outputs": [],
   "source": [
    "%run \"constants-and-functions.ipynb\"\n",
    "%run \"problems1_2-preparation.ipynb\""
   ],
   "metadata": {
    "collapsed": false,
    "pycharm": {
     "name": "#%%\n"
    }
   }
  },
  {
   "cell_type": "code",
   "execution_count": 3,
   "outputs": [
    {
     "data": {
      "text/plain": "              dtime_start           dtime_end  delta_seconds  \\\n0     2020-01-09 10:05:26 2020-01-09 10:06:27           61.0   \n1     2020-01-09 10:06:27 2020-01-09 10:07:27           60.0   \n2     2020-01-09 10:07:27 2020-01-09 10:08:27           60.0   \n3     2020-01-09 10:08:27 2020-01-09 10:09:27           60.0   \n4     2020-01-09 10:09:27 2020-01-09 10:10:27           60.0   \n...                   ...                 ...            ...   \n18364 2020-06-27 00:47:05 2020-06-27 00:48:05           60.0   \n18365 2020-06-27 00:48:05 2020-06-27 00:49:05           60.0   \n18366 2020-06-27 00:49:05 2020-06-27 01:15:14         1569.0   \n18367 2020-06-27 01:15:14 2020-06-27 01:16:14           60.0   \n18368 2020-06-27 01:16:14 2020-06-27 01:17:14           60.0   \n\n       tachometer_start  tachometer_end  delta_fuellevel_abs  \\\n0                  1248            1056                  0.2   \n1                  1056             960                  0.4   \n2                   960             864                  0.1   \n3                   864             864                  0.3   \n4                   864             864                  0.4   \n...                 ...             ...                  ...   \n18364               832             832                  0.4   \n18365               832             832                  0.2   \n18366               832            1408                  0.2   \n18367              1408             928                  0.2   \n18368               928             832                  0.2   \n\n       delta_fuellevel_sign   lps_abs  \n0                       1.0  0.003279  \n1                       1.0  0.006667  \n2                       1.0  0.001667  \n3                      -1.0  0.005000  \n4                      -1.0  0.006667  \n...                     ...       ...  \n18364                   1.0  0.006667  \n18365                   1.0  0.003333  \n18366                  -1.0  0.000127  \n18367                   1.0  0.003333  \n18368                   1.0  0.003333  \n\n[18369 rows x 8 columns]",
      "text/html": "<div>\n<style scoped>\n    .dataframe tbody tr th:only-of-type {\n        vertical-align: middle;\n    }\n\n    .dataframe tbody tr th {\n        vertical-align: top;\n    }\n\n    .dataframe thead th {\n        text-align: right;\n    }\n</style>\n<table border=\"1\" class=\"dataframe\">\n  <thead>\n    <tr style=\"text-align: right;\">\n      <th></th>\n      <th>dtime_start</th>\n      <th>dtime_end</th>\n      <th>delta_seconds</th>\n      <th>tachometer_start</th>\n      <th>tachometer_end</th>\n      <th>delta_fuellevel_abs</th>\n      <th>delta_fuellevel_sign</th>\n      <th>lps_abs</th>\n    </tr>\n  </thead>\n  <tbody>\n    <tr>\n      <th>0</th>\n      <td>2020-01-09 10:05:26</td>\n      <td>2020-01-09 10:06:27</td>\n      <td>61.0</td>\n      <td>1248</td>\n      <td>1056</td>\n      <td>0.2</td>\n      <td>1.0</td>\n      <td>0.003279</td>\n    </tr>\n    <tr>\n      <th>1</th>\n      <td>2020-01-09 10:06:27</td>\n      <td>2020-01-09 10:07:27</td>\n      <td>60.0</td>\n      <td>1056</td>\n      <td>960</td>\n      <td>0.4</td>\n      <td>1.0</td>\n      <td>0.006667</td>\n    </tr>\n    <tr>\n      <th>2</th>\n      <td>2020-01-09 10:07:27</td>\n      <td>2020-01-09 10:08:27</td>\n      <td>60.0</td>\n      <td>960</td>\n      <td>864</td>\n      <td>0.1</td>\n      <td>1.0</td>\n      <td>0.001667</td>\n    </tr>\n    <tr>\n      <th>3</th>\n      <td>2020-01-09 10:08:27</td>\n      <td>2020-01-09 10:09:27</td>\n      <td>60.0</td>\n      <td>864</td>\n      <td>864</td>\n      <td>0.3</td>\n      <td>-1.0</td>\n      <td>0.005000</td>\n    </tr>\n    <tr>\n      <th>4</th>\n      <td>2020-01-09 10:09:27</td>\n      <td>2020-01-09 10:10:27</td>\n      <td>60.0</td>\n      <td>864</td>\n      <td>864</td>\n      <td>0.4</td>\n      <td>-1.0</td>\n      <td>0.006667</td>\n    </tr>\n    <tr>\n      <th>...</th>\n      <td>...</td>\n      <td>...</td>\n      <td>...</td>\n      <td>...</td>\n      <td>...</td>\n      <td>...</td>\n      <td>...</td>\n      <td>...</td>\n    </tr>\n    <tr>\n      <th>18364</th>\n      <td>2020-06-27 00:47:05</td>\n      <td>2020-06-27 00:48:05</td>\n      <td>60.0</td>\n      <td>832</td>\n      <td>832</td>\n      <td>0.4</td>\n      <td>1.0</td>\n      <td>0.006667</td>\n    </tr>\n    <tr>\n      <th>18365</th>\n      <td>2020-06-27 00:48:05</td>\n      <td>2020-06-27 00:49:05</td>\n      <td>60.0</td>\n      <td>832</td>\n      <td>832</td>\n      <td>0.2</td>\n      <td>1.0</td>\n      <td>0.003333</td>\n    </tr>\n    <tr>\n      <th>18366</th>\n      <td>2020-06-27 00:49:05</td>\n      <td>2020-06-27 01:15:14</td>\n      <td>1569.0</td>\n      <td>832</td>\n      <td>1408</td>\n      <td>0.2</td>\n      <td>-1.0</td>\n      <td>0.000127</td>\n    </tr>\n    <tr>\n      <th>18367</th>\n      <td>2020-06-27 01:15:14</td>\n      <td>2020-06-27 01:16:14</td>\n      <td>60.0</td>\n      <td>1408</td>\n      <td>928</td>\n      <td>0.2</td>\n      <td>1.0</td>\n      <td>0.003333</td>\n    </tr>\n    <tr>\n      <th>18368</th>\n      <td>2020-06-27 01:16:14</td>\n      <td>2020-06-27 01:17:14</td>\n      <td>60.0</td>\n      <td>928</td>\n      <td>832</td>\n      <td>0.2</td>\n      <td>1.0</td>\n      <td>0.003333</td>\n    </tr>\n  </tbody>\n</table>\n<p>18369 rows × 8 columns</p>\n</div>"
     },
     "execution_count": 3,
     "metadata": {},
     "output_type": "execute_result"
    }
   ],
   "source": [
    "df_X"
   ],
   "metadata": {
    "collapsed": false,
    "pycharm": {
     "name": "#%%\n"
    }
   }
  },
  {
   "cell_type": "code",
   "execution_count": 4,
   "outputs": [
    {
     "data": {
      "text/plain": "       refuel\n0       False\n1       False\n2       False\n3       False\n4       False\n...       ...\n18364   False\n18365   False\n18366   False\n18367   False\n18368   False\n\n[18369 rows x 1 columns]",
      "text/html": "<div>\n<style scoped>\n    .dataframe tbody tr th:only-of-type {\n        vertical-align: middle;\n    }\n\n    .dataframe tbody tr th {\n        vertical-align: top;\n    }\n\n    .dataframe thead th {\n        text-align: right;\n    }\n</style>\n<table border=\"1\" class=\"dataframe\">\n  <thead>\n    <tr style=\"text-align: right;\">\n      <th></th>\n      <th>refuel</th>\n    </tr>\n  </thead>\n  <tbody>\n    <tr>\n      <th>0</th>\n      <td>False</td>\n    </tr>\n    <tr>\n      <th>1</th>\n      <td>False</td>\n    </tr>\n    <tr>\n      <th>2</th>\n      <td>False</td>\n    </tr>\n    <tr>\n      <th>3</th>\n      <td>False</td>\n    </tr>\n    <tr>\n      <th>4</th>\n      <td>False</td>\n    </tr>\n    <tr>\n      <th>...</th>\n      <td>...</td>\n    </tr>\n    <tr>\n      <th>18364</th>\n      <td>False</td>\n    </tr>\n    <tr>\n      <th>18365</th>\n      <td>False</td>\n    </tr>\n    <tr>\n      <th>18366</th>\n      <td>False</td>\n    </tr>\n    <tr>\n      <th>18367</th>\n      <td>False</td>\n    </tr>\n    <tr>\n      <th>18368</th>\n      <td>False</td>\n    </tr>\n  </tbody>\n</table>\n<p>18369 rows × 1 columns</p>\n</div>"
     },
     "execution_count": 4,
     "metadata": {},
     "output_type": "execute_result"
    }
   ],
   "source": [
    "df_Y"
   ],
   "metadata": {
    "collapsed": false,
    "pycharm": {
     "name": "#%%\n"
    }
   }
  },
  {
   "cell_type": "code",
   "execution_count": 5,
   "outputs": [
    {
     "data": {
      "text/plain": "array([[3.27868852e-03, 6.10000000e+01, 1.24800000e+03, 1.05600000e+03],\n       [6.66666667e-03, 6.00000000e+01, 1.05600000e+03, 9.60000000e+02],\n       [1.66666667e-03, 6.00000000e+01, 9.60000000e+02, 8.64000000e+02],\n       ...,\n       [1.27469726e-04, 1.56900000e+03, 8.32000000e+02, 1.40800000e+03],\n       [3.33333333e-03, 6.00000000e+01, 1.40800000e+03, 9.28000000e+02],\n       [3.33333333e-03, 6.00000000e+01, 9.28000000e+02, 8.32000000e+02]])"
     },
     "execution_count": 5,
     "metadata": {},
     "output_type": "execute_result"
    }
   ],
   "source": [
    "X = df_X[['lps_abs', 'delta_seconds', 'tachometer_start', 'tachometer_end']].to_numpy()\n",
    "Y = df_Y.astype(int)['refuel'].to_numpy()\n",
    "\n",
    "X"
   ],
   "metadata": {
    "collapsed": false,
    "pycharm": {
     "name": "#%%\n"
    }
   }
  },
  {
   "cell_type": "code",
   "execution_count": 6,
   "outputs": [
    {
     "data": {
      "text/plain": "array([0, 0, 0, ..., 0, 0, 0])"
     },
     "execution_count": 6,
     "metadata": {},
     "output_type": "execute_result"
    }
   ],
   "source": [
    "Y"
   ],
   "metadata": {
    "collapsed": false,
    "pycharm": {
     "name": "#%%\n"
    }
   }
  },
  {
   "cell_type": "markdown",
   "source": [
    "Метрики"
   ],
   "metadata": {
    "collapsed": false,
    "pycharm": {
     "name": "#%% md\n"
    }
   }
  },
  {
   "cell_type": "code",
   "execution_count": 7,
   "outputs": [],
   "source": [
    "scoring_metrics = ['accuracy', 'precision', 'recall', 'f1']"
   ],
   "metadata": {
    "collapsed": false,
    "pycharm": {
     "name": "#%%\n"
    }
   }
  },
  {
   "cell_type": "markdown",
   "source": [
    "Разбиение на 5 блоков для кросс-валидации"
   ],
   "metadata": {
    "collapsed": false,
    "pycharm": {
     "name": "#%% md\n"
    }
   }
  },
  {
   "cell_type": "code",
   "execution_count": 8,
   "outputs": [],
   "source": [
    "kf = model_selection.KFold(n_splits=5, shuffle=True)"
   ],
   "metadata": {
    "collapsed": false,
    "pycharm": {
     "name": "#%%\n"
    }
   }
  },
  {
   "cell_type": "markdown",
   "source": [
    "SVM"
   ],
   "metadata": {
    "collapsed": false,
    "pycharm": {
     "name": "#%% md\n"
    }
   }
  },
  {
   "cell_type": "code",
   "execution_count": 9,
   "outputs": [],
   "source": [
    "pipe = Pipeline([\n",
    "    ('scale', StandardScaler()),\n",
    "    ('clf', SVC())\n",
    "])"
   ],
   "metadata": {
    "collapsed": false,
    "pycharm": {
     "name": "#%%\n"
    }
   }
  },
  {
   "cell_type": "markdown",
   "source": [
    "Параметры SVM"
   ],
   "metadata": {
    "collapsed": false,
    "pycharm": {
     "name": "#%% md\n"
    }
   }
  },
  {
   "cell_type": "code",
   "execution_count": 10,
   "outputs": [],
   "source": [
    "grid = dict(clf__C=np.power(10.0, np.arange(-3, 2)),\n",
    "            clf__kernel = ['linear', 'rbf'])"
   ],
   "metadata": {
    "collapsed": false,
    "pycharm": {
     "name": "#%%\n"
    }
   }
  },
  {
   "cell_type": "markdown",
   "source": [
    "Обучение и выбор гиперпараметров"
   ],
   "metadata": {
    "collapsed": false,
    "pycharm": {
     "name": "#%% md\n"
    }
   }
  },
  {
   "cell_type": "code",
   "execution_count": 11,
   "outputs": [
    {
     "name": "stdout",
     "output_type": "stream",
     "text": [
      "Fitting 5 folds for each of 10 candidates, totalling 50 fits\n"
     ]
    },
    {
     "name": "stderr",
     "output_type": "stream",
     "text": [
      "[Parallel(n_jobs=4)]: Using backend LokyBackend with 4 concurrent workers.\n",
      "[Parallel(n_jobs=4)]: Done  10 tasks      | elapsed:   16.4s\n",
      "[Parallel(n_jobs=4)]: Done  50 out of  50 | elapsed:  1.5min finished\n"
     ]
    },
    {
     "data": {
      "text/plain": "GridSearchCV(estimator=Pipeline(steps=[('scale', StandardScaler()),\n                                       ('clf', SVC())]),\n             n_jobs=4,\n             param_grid={'clf__C': array([1.e-03, 1.e-02, 1.e-01, 1.e+00, 1.e+01]),\n                         'clf__kernel': ['linear', 'rbf']},\n             refit='recall', scoring=['accuracy', 'precision', 'recall', 'f1'],\n             verbose=5)"
     },
     "execution_count": 11,
     "metadata": {},
     "output_type": "execute_result"
    }
   ],
   "source": [
    "gs = model_selection.GridSearchCV(estimator=pipe,\n",
    "                                  param_grid=grid,\n",
    "                                  scoring=scoring_metrics,\n",
    "                                  refit='recall',\n",
    "                                  n_jobs=4,\n",
    "                                  verbose=5)\n",
    "gs.fit(X, Y)"
   ],
   "metadata": {
    "collapsed": false,
    "pycharm": {
     "name": "#%%\n"
    }
   }
  },
  {
   "cell_type": "code",
   "execution_count": 12,
   "outputs": [
    {
     "data": {
      "text/plain": "   mean_fit_time  mean_score_time                                      params  \\\n0       4.246398         0.313021  {'clf__C': 0.001, 'clf__kernel': 'linear'}   \n1       6.235203         0.850802     {'clf__C': 0.001, 'clf__kernel': 'rbf'}   \n2       3.851319         0.290205   {'clf__C': 0.01, 'clf__kernel': 'linear'}   \n3       6.143337         0.690287      {'clf__C': 0.01, 'clf__kernel': 'rbf'}   \n4       3.872332         0.288404    {'clf__C': 0.1, 'clf__kernel': 'linear'}   \n5       6.166754         0.737922       {'clf__C': 0.1, 'clf__kernel': 'rbf'}   \n6       5.476666         0.267588    {'clf__C': 1.0, 'clf__kernel': 'linear'}   \n7       6.671911         0.685284       {'clf__C': 1.0, 'clf__kernel': 'rbf'}   \n8      12.627517         0.288404   {'clf__C': 10.0, 'clf__kernel': 'linear'}   \n9       9.450078         0.656864      {'clf__C': 10.0, 'clf__kernel': 'rbf'}   \n\n   mean_test_accuracy  mean_test_precision  mean_test_recall  mean_test_f1  \n0            0.641845             0.663773          0.528547      0.581327  \n1            0.644023             0.690358          0.477265      0.555814  \n2            0.640702             0.657805          0.538462      0.585376  \n3            0.644023             0.688833          0.480228      0.557599  \n4            0.641083             0.657888          0.540513      0.586578  \n5            0.643969             0.685422          0.487635      0.561621  \n6            0.640648             0.657192          0.540171      0.586100  \n7            0.645112             0.690802          0.480342      0.558243  \n8            0.640811             0.657366          0.540399      0.586310  \n9            0.646637             0.695357          0.477493      0.557425  ",
      "text/html": "<div>\n<style scoped>\n    .dataframe tbody tr th:only-of-type {\n        vertical-align: middle;\n    }\n\n    .dataframe tbody tr th {\n        vertical-align: top;\n    }\n\n    .dataframe thead th {\n        text-align: right;\n    }\n</style>\n<table border=\"1\" class=\"dataframe\">\n  <thead>\n    <tr style=\"text-align: right;\">\n      <th></th>\n      <th>mean_fit_time</th>\n      <th>mean_score_time</th>\n      <th>params</th>\n      <th>mean_test_accuracy</th>\n      <th>mean_test_precision</th>\n      <th>mean_test_recall</th>\n      <th>mean_test_f1</th>\n    </tr>\n  </thead>\n  <tbody>\n    <tr>\n      <th>0</th>\n      <td>4.246398</td>\n      <td>0.313021</td>\n      <td>{'clf__C': 0.001, 'clf__kernel': 'linear'}</td>\n      <td>0.641845</td>\n      <td>0.663773</td>\n      <td>0.528547</td>\n      <td>0.581327</td>\n    </tr>\n    <tr>\n      <th>1</th>\n      <td>6.235203</td>\n      <td>0.850802</td>\n      <td>{'clf__C': 0.001, 'clf__kernel': 'rbf'}</td>\n      <td>0.644023</td>\n      <td>0.690358</td>\n      <td>0.477265</td>\n      <td>0.555814</td>\n    </tr>\n    <tr>\n      <th>2</th>\n      <td>3.851319</td>\n      <td>0.290205</td>\n      <td>{'clf__C': 0.01, 'clf__kernel': 'linear'}</td>\n      <td>0.640702</td>\n      <td>0.657805</td>\n      <td>0.538462</td>\n      <td>0.585376</td>\n    </tr>\n    <tr>\n      <th>3</th>\n      <td>6.143337</td>\n      <td>0.690287</td>\n      <td>{'clf__C': 0.01, 'clf__kernel': 'rbf'}</td>\n      <td>0.644023</td>\n      <td>0.688833</td>\n      <td>0.480228</td>\n      <td>0.557599</td>\n    </tr>\n    <tr>\n      <th>4</th>\n      <td>3.872332</td>\n      <td>0.288404</td>\n      <td>{'clf__C': 0.1, 'clf__kernel': 'linear'}</td>\n      <td>0.641083</td>\n      <td>0.657888</td>\n      <td>0.540513</td>\n      <td>0.586578</td>\n    </tr>\n    <tr>\n      <th>5</th>\n      <td>6.166754</td>\n      <td>0.737922</td>\n      <td>{'clf__C': 0.1, 'clf__kernel': 'rbf'}</td>\n      <td>0.643969</td>\n      <td>0.685422</td>\n      <td>0.487635</td>\n      <td>0.561621</td>\n    </tr>\n    <tr>\n      <th>6</th>\n      <td>5.476666</td>\n      <td>0.267588</td>\n      <td>{'clf__C': 1.0, 'clf__kernel': 'linear'}</td>\n      <td>0.640648</td>\n      <td>0.657192</td>\n      <td>0.540171</td>\n      <td>0.586100</td>\n    </tr>\n    <tr>\n      <th>7</th>\n      <td>6.671911</td>\n      <td>0.685284</td>\n      <td>{'clf__C': 1.0, 'clf__kernel': 'rbf'}</td>\n      <td>0.645112</td>\n      <td>0.690802</td>\n      <td>0.480342</td>\n      <td>0.558243</td>\n    </tr>\n    <tr>\n      <th>8</th>\n      <td>12.627517</td>\n      <td>0.288404</td>\n      <td>{'clf__C': 10.0, 'clf__kernel': 'linear'}</td>\n      <td>0.640811</td>\n      <td>0.657366</td>\n      <td>0.540399</td>\n      <td>0.586310</td>\n    </tr>\n    <tr>\n      <th>9</th>\n      <td>9.450078</td>\n      <td>0.656864</td>\n      <td>{'clf__C': 10.0, 'clf__kernel': 'rbf'}</td>\n      <td>0.646637</td>\n      <td>0.695357</td>\n      <td>0.477493</td>\n      <td>0.557425</td>\n    </tr>\n  </tbody>\n</table>\n</div>"
     },
     "execution_count": 12,
     "metadata": {},
     "output_type": "execute_result"
    }
   ],
   "source": [
    "results = pd.DataFrame(gs.cv_results_)\n",
    "\n",
    "results = results[[x for x in results.columns if (x =='params' or 'mean' in x)]]\n",
    "\n",
    "results"
   ],
   "metadata": {
    "collapsed": false,
    "pycharm": {
     "name": "#%%\n"
    }
   }
  },
  {
   "cell_type": "code",
   "execution_count": 13,
   "outputs": [
    {
     "data": {
      "text/plain": "Pipeline(steps=[('scale', StandardScaler()),\n                ('clf', SVC(C=0.1, kernel='linear'))])"
     },
     "execution_count": 13,
     "metadata": {},
     "output_type": "execute_result"
    }
   ],
   "source": [
    "gs.best_estimator_"
   ],
   "metadata": {
    "collapsed": false,
    "pycharm": {
     "name": "#%%\n"
    }
   }
  },
  {
   "cell_type": "markdown",
   "source": [
    "SVM показывает плохие результаты, мб стоит будет попробовать c PCA"
   ],
   "metadata": {
    "collapsed": false,
    "pycharm": {
     "name": "#%% md\n"
    }
   }
  },
  {
   "cell_type": "markdown",
   "source": [
    "Градиентный бустинг над решающими деревьями"
   ],
   "metadata": {
    "collapsed": false,
    "pycharm": {
     "name": "#%% md\n"
    }
   }
  },
  {
   "cell_type": "code",
   "execution_count": 14,
   "outputs": [],
   "source": [
    "clfGBoost = GradientBoostingClassifier()"
   ],
   "metadata": {
    "collapsed": false,
    "pycharm": {
     "name": "#%%\n"
    }
   }
  },
  {
   "cell_type": "markdown",
   "source": [
    "Параметры бустинга"
   ],
   "metadata": {
    "collapsed": false,
    "pycharm": {
     "name": "#%% md\n"
    }
   }
  },
  {
   "cell_type": "code",
   "execution_count": 15,
   "outputs": [],
   "source": [
    "grid = {'n_estimators':[50, 100, 150],\n",
    "        'learning_rate':[10, 1, 0.1],\n",
    "        'max_depth':[3, 5, 9]}"
   ],
   "metadata": {
    "collapsed": false,
    "pycharm": {
     "name": "#%%\n"
    }
   }
  },
  {
   "cell_type": "markdown",
   "source": [
    "Обучение и выбор гиперпараметров\n"
   ],
   "metadata": {
    "collapsed": false,
    "pycharm": {
     "name": "#%% md\n"
    }
   }
  },
  {
   "cell_type": "code",
   "execution_count": 16,
   "outputs": [
    {
     "name": "stdout",
     "output_type": "stream",
     "text": [
      "Fitting 5 folds for each of 27 candidates, totalling 135 fits\n"
     ]
    },
    {
     "name": "stderr",
     "output_type": "stream",
     "text": [
      "[Parallel(n_jobs=4)]: Using backend LokyBackend with 4 concurrent workers.\n",
      "[Parallel(n_jobs=4)]: Done  10 tasks      | elapsed:    1.9s\n",
      "[Parallel(n_jobs=4)]: Done  64 tasks      | elapsed:   20.2s\n",
      "[Parallel(n_jobs=4)]: Done 135 out of 135 | elapsed:   49.9s finished\n"
     ]
    },
    {
     "data": {
      "text/plain": "GridSearchCV(estimator=GradientBoostingClassifier(), n_jobs=4,\n             param_grid={'learning_rate': [10, 1, 0.1], 'max_depth': [3, 5, 9],\n                         'n_estimators': [50, 100, 150]},\n             refit='recall', scoring=['accuracy', 'precision', 'recall', 'f1'],\n             verbose=5)"
     },
     "execution_count": 16,
     "metadata": {},
     "output_type": "execute_result"
    }
   ],
   "source": [
    "gs = model_selection.GridSearchCV(estimator=clfGBoost,\n",
    "                                  param_grid=grid,\n",
    "                                  scoring=scoring_metrics,\n",
    "                                  refit='recall',\n",
    "                                  n_jobs=4,\n",
    "                                  verbose=5)\n",
    "gs.fit(X, Y)"
   ],
   "metadata": {
    "collapsed": false,
    "pycharm": {
     "name": "#%%\n"
    }
   }
  },
  {
   "cell_type": "code",
   "execution_count": 17,
   "outputs": [
    {
     "data": {
      "text/plain": "    mean_fit_time  mean_score_time  \\\n0        0.349645         0.007205   \n1        0.791957         0.010008   \n2        1.040734         0.011008   \n3        0.530974         0.008806   \n4        1.064752         0.013609   \n5        1.583718         0.016015   \n6        1.410195         0.015611   \n7        2.683894         0.022619   \n8        4.165141         0.030625   \n9        0.325026         0.007405   \n10       0.620240         0.011005   \n11       0.888425         0.009006   \n12       0.530175         0.008805   \n13       1.069953         0.012609   \n14       1.491252         0.014211   \n15       1.320737         0.012004   \n16       2.670285         0.020615   \n17       3.946984         0.030021   \n18       0.302012         0.006805   \n19       0.659469         0.009810   \n20       0.941868         0.010407   \n21       0.528371         0.008806   \n22       1.005110         0.011411   \n23       1.484643         0.013209   \n24       1.237477         0.012409   \n25       2.237380         0.017413   \n26       3.276313         0.021816   \n\n                                               params  mean_test_accuracy  \\\n0   {'learning_rate': 10, 'max_depth': 3, 'n_estim...            0.455347   \n1   {'learning_rate': 10, 'max_depth': 3, 'n_estim...            0.455347   \n2   {'learning_rate': 10, 'max_depth': 3, 'n_estim...            0.455347   \n3   {'learning_rate': 10, 'max_depth': 5, 'n_estim...            0.537107   \n4   {'learning_rate': 10, 'max_depth': 5, 'n_estim...            0.537107   \n5   {'learning_rate': 10, 'max_depth': 5, 'n_estim...            0.512120   \n6   {'learning_rate': 10, 'max_depth': 9, 'n_estim...            0.509610   \n7   {'learning_rate': 10, 'max_depth': 9, 'n_estim...            0.519191   \n8   {'learning_rate': 10, 'max_depth': 9, 'n_estim...            0.519956   \n9   {'learning_rate': 1, 'max_depth': 3, 'n_estima...            0.634823   \n10  {'learning_rate': 1, 'max_depth': 3, 'n_estima...            0.630087   \n11  {'learning_rate': 1, 'max_depth': 3, 'n_estima...            0.628725   \n12  {'learning_rate': 1, 'max_depth': 5, 'n_estima...            0.617293   \n13  {'learning_rate': 1, 'max_depth': 5, 'n_estima...            0.607331   \n14  {'learning_rate': 1, 'max_depth': 5, 'n_estima...            0.600525   \n15  {'learning_rate': 1, 'max_depth': 9, 'n_estima...            0.581090   \n16  {'learning_rate': 1, 'max_depth': 9, 'n_estima...            0.583812   \n17  {'learning_rate': 1, 'max_depth': 9, 'n_estima...            0.581253   \n18  {'learning_rate': 0.1, 'max_depth': 3, 'n_esti...            0.649577   \n19  {'learning_rate': 0.1, 'max_depth': 3, 'n_esti...            0.648161   \n20  {'learning_rate': 0.1, 'max_depth': 3, 'n_esti...            0.647399   \n21  {'learning_rate': 0.1, 'max_depth': 5, 'n_esti...            0.646147   \n22  {'learning_rate': 0.1, 'max_depth': 5, 'n_esti...            0.643697   \n23  {'learning_rate': 0.1, 'max_depth': 5, 'n_esti...            0.642118   \n24  {'learning_rate': 0.1, 'max_depth': 9, 'n_esti...            0.631611   \n25  {'learning_rate': 0.1, 'max_depth': 9, 'n_esti...            0.623826   \n26  {'learning_rate': 0.1, 'max_depth': 9, 'n_esti...            0.616749   \n\n    mean_test_precision  mean_test_recall  mean_test_f1  \n0              0.471922          0.563191      0.505067  \n1              0.471922          0.563191      0.505067  \n2              0.471922          0.563191      0.505067  \n3              0.550729          0.578120      0.520008  \n4              0.550729          0.578120      0.520008  \n5              0.532797          0.668376      0.554148  \n6              0.494170          0.609003      0.535760  \n7              0.511103          0.599886      0.536874  \n8              0.509223          0.591225      0.533278  \n9              0.667213          0.481595      0.552371  \n10             0.654220          0.488091      0.553274  \n11             0.651444          0.489687      0.553350  \n12             0.632816          0.482279      0.541423  \n13             0.614881          0.480114      0.534490  \n14             0.605814          0.475442      0.527364  \n15             0.573614          0.481823      0.518236  \n16             0.577390          0.480798      0.519084  \n17             0.575565          0.477151      0.515873  \n18             0.699108          0.476923      0.560018  \n19             0.695437          0.477721      0.559380  \n20             0.693491          0.478974      0.559402  \n21             0.692163          0.476239      0.556628  \n22             0.685431          0.478632      0.556422  \n23             0.681571          0.480798      0.556398  \n24             0.665432          0.474188      0.546483  \n25             0.648869          0.477265      0.542754  \n26             0.633968          0.479202      0.539690  ",
      "text/html": "<div>\n<style scoped>\n    .dataframe tbody tr th:only-of-type {\n        vertical-align: middle;\n    }\n\n    .dataframe tbody tr th {\n        vertical-align: top;\n    }\n\n    .dataframe thead th {\n        text-align: right;\n    }\n</style>\n<table border=\"1\" class=\"dataframe\">\n  <thead>\n    <tr style=\"text-align: right;\">\n      <th></th>\n      <th>mean_fit_time</th>\n      <th>mean_score_time</th>\n      <th>params</th>\n      <th>mean_test_accuracy</th>\n      <th>mean_test_precision</th>\n      <th>mean_test_recall</th>\n      <th>mean_test_f1</th>\n    </tr>\n  </thead>\n  <tbody>\n    <tr>\n      <th>0</th>\n      <td>0.349645</td>\n      <td>0.007205</td>\n      <td>{'learning_rate': 10, 'max_depth': 3, 'n_estim...</td>\n      <td>0.455347</td>\n      <td>0.471922</td>\n      <td>0.563191</td>\n      <td>0.505067</td>\n    </tr>\n    <tr>\n      <th>1</th>\n      <td>0.791957</td>\n      <td>0.010008</td>\n      <td>{'learning_rate': 10, 'max_depth': 3, 'n_estim...</td>\n      <td>0.455347</td>\n      <td>0.471922</td>\n      <td>0.563191</td>\n      <td>0.505067</td>\n    </tr>\n    <tr>\n      <th>2</th>\n      <td>1.040734</td>\n      <td>0.011008</td>\n      <td>{'learning_rate': 10, 'max_depth': 3, 'n_estim...</td>\n      <td>0.455347</td>\n      <td>0.471922</td>\n      <td>0.563191</td>\n      <td>0.505067</td>\n    </tr>\n    <tr>\n      <th>3</th>\n      <td>0.530974</td>\n      <td>0.008806</td>\n      <td>{'learning_rate': 10, 'max_depth': 5, 'n_estim...</td>\n      <td>0.537107</td>\n      <td>0.550729</td>\n      <td>0.578120</td>\n      <td>0.520008</td>\n    </tr>\n    <tr>\n      <th>4</th>\n      <td>1.064752</td>\n      <td>0.013609</td>\n      <td>{'learning_rate': 10, 'max_depth': 5, 'n_estim...</td>\n      <td>0.537107</td>\n      <td>0.550729</td>\n      <td>0.578120</td>\n      <td>0.520008</td>\n    </tr>\n    <tr>\n      <th>5</th>\n      <td>1.583718</td>\n      <td>0.016015</td>\n      <td>{'learning_rate': 10, 'max_depth': 5, 'n_estim...</td>\n      <td>0.512120</td>\n      <td>0.532797</td>\n      <td>0.668376</td>\n      <td>0.554148</td>\n    </tr>\n    <tr>\n      <th>6</th>\n      <td>1.410195</td>\n      <td>0.015611</td>\n      <td>{'learning_rate': 10, 'max_depth': 9, 'n_estim...</td>\n      <td>0.509610</td>\n      <td>0.494170</td>\n      <td>0.609003</td>\n      <td>0.535760</td>\n    </tr>\n    <tr>\n      <th>7</th>\n      <td>2.683894</td>\n      <td>0.022619</td>\n      <td>{'learning_rate': 10, 'max_depth': 9, 'n_estim...</td>\n      <td>0.519191</td>\n      <td>0.511103</td>\n      <td>0.599886</td>\n      <td>0.536874</td>\n    </tr>\n    <tr>\n      <th>8</th>\n      <td>4.165141</td>\n      <td>0.030625</td>\n      <td>{'learning_rate': 10, 'max_depth': 9, 'n_estim...</td>\n      <td>0.519956</td>\n      <td>0.509223</td>\n      <td>0.591225</td>\n      <td>0.533278</td>\n    </tr>\n    <tr>\n      <th>9</th>\n      <td>0.325026</td>\n      <td>0.007405</td>\n      <td>{'learning_rate': 1, 'max_depth': 3, 'n_estima...</td>\n      <td>0.634823</td>\n      <td>0.667213</td>\n      <td>0.481595</td>\n      <td>0.552371</td>\n    </tr>\n    <tr>\n      <th>10</th>\n      <td>0.620240</td>\n      <td>0.011005</td>\n      <td>{'learning_rate': 1, 'max_depth': 3, 'n_estima...</td>\n      <td>0.630087</td>\n      <td>0.654220</td>\n      <td>0.488091</td>\n      <td>0.553274</td>\n    </tr>\n    <tr>\n      <th>11</th>\n      <td>0.888425</td>\n      <td>0.009006</td>\n      <td>{'learning_rate': 1, 'max_depth': 3, 'n_estima...</td>\n      <td>0.628725</td>\n      <td>0.651444</td>\n      <td>0.489687</td>\n      <td>0.553350</td>\n    </tr>\n    <tr>\n      <th>12</th>\n      <td>0.530175</td>\n      <td>0.008805</td>\n      <td>{'learning_rate': 1, 'max_depth': 5, 'n_estima...</td>\n      <td>0.617293</td>\n      <td>0.632816</td>\n      <td>0.482279</td>\n      <td>0.541423</td>\n    </tr>\n    <tr>\n      <th>13</th>\n      <td>1.069953</td>\n      <td>0.012609</td>\n      <td>{'learning_rate': 1, 'max_depth': 5, 'n_estima...</td>\n      <td>0.607331</td>\n      <td>0.614881</td>\n      <td>0.480114</td>\n      <td>0.534490</td>\n    </tr>\n    <tr>\n      <th>14</th>\n      <td>1.491252</td>\n      <td>0.014211</td>\n      <td>{'learning_rate': 1, 'max_depth': 5, 'n_estima...</td>\n      <td>0.600525</td>\n      <td>0.605814</td>\n      <td>0.475442</td>\n      <td>0.527364</td>\n    </tr>\n    <tr>\n      <th>15</th>\n      <td>1.320737</td>\n      <td>0.012004</td>\n      <td>{'learning_rate': 1, 'max_depth': 9, 'n_estima...</td>\n      <td>0.581090</td>\n      <td>0.573614</td>\n      <td>0.481823</td>\n      <td>0.518236</td>\n    </tr>\n    <tr>\n      <th>16</th>\n      <td>2.670285</td>\n      <td>0.020615</td>\n      <td>{'learning_rate': 1, 'max_depth': 9, 'n_estima...</td>\n      <td>0.583812</td>\n      <td>0.577390</td>\n      <td>0.480798</td>\n      <td>0.519084</td>\n    </tr>\n    <tr>\n      <th>17</th>\n      <td>3.946984</td>\n      <td>0.030021</td>\n      <td>{'learning_rate': 1, 'max_depth': 9, 'n_estima...</td>\n      <td>0.581253</td>\n      <td>0.575565</td>\n      <td>0.477151</td>\n      <td>0.515873</td>\n    </tr>\n    <tr>\n      <th>18</th>\n      <td>0.302012</td>\n      <td>0.006805</td>\n      <td>{'learning_rate': 0.1, 'max_depth': 3, 'n_esti...</td>\n      <td>0.649577</td>\n      <td>0.699108</td>\n      <td>0.476923</td>\n      <td>0.560018</td>\n    </tr>\n    <tr>\n      <th>19</th>\n      <td>0.659469</td>\n      <td>0.009810</td>\n      <td>{'learning_rate': 0.1, 'max_depth': 3, 'n_esti...</td>\n      <td>0.648161</td>\n      <td>0.695437</td>\n      <td>0.477721</td>\n      <td>0.559380</td>\n    </tr>\n    <tr>\n      <th>20</th>\n      <td>0.941868</td>\n      <td>0.010407</td>\n      <td>{'learning_rate': 0.1, 'max_depth': 3, 'n_esti...</td>\n      <td>0.647399</td>\n      <td>0.693491</td>\n      <td>0.478974</td>\n      <td>0.559402</td>\n    </tr>\n    <tr>\n      <th>21</th>\n      <td>0.528371</td>\n      <td>0.008806</td>\n      <td>{'learning_rate': 0.1, 'max_depth': 5, 'n_esti...</td>\n      <td>0.646147</td>\n      <td>0.692163</td>\n      <td>0.476239</td>\n      <td>0.556628</td>\n    </tr>\n    <tr>\n      <th>22</th>\n      <td>1.005110</td>\n      <td>0.011411</td>\n      <td>{'learning_rate': 0.1, 'max_depth': 5, 'n_esti...</td>\n      <td>0.643697</td>\n      <td>0.685431</td>\n      <td>0.478632</td>\n      <td>0.556422</td>\n    </tr>\n    <tr>\n      <th>23</th>\n      <td>1.484643</td>\n      <td>0.013209</td>\n      <td>{'learning_rate': 0.1, 'max_depth': 5, 'n_esti...</td>\n      <td>0.642118</td>\n      <td>0.681571</td>\n      <td>0.480798</td>\n      <td>0.556398</td>\n    </tr>\n    <tr>\n      <th>24</th>\n      <td>1.237477</td>\n      <td>0.012409</td>\n      <td>{'learning_rate': 0.1, 'max_depth': 9, 'n_esti...</td>\n      <td>0.631611</td>\n      <td>0.665432</td>\n      <td>0.474188</td>\n      <td>0.546483</td>\n    </tr>\n    <tr>\n      <th>25</th>\n      <td>2.237380</td>\n      <td>0.017413</td>\n      <td>{'learning_rate': 0.1, 'max_depth': 9, 'n_esti...</td>\n      <td>0.623826</td>\n      <td>0.648869</td>\n      <td>0.477265</td>\n      <td>0.542754</td>\n    </tr>\n    <tr>\n      <th>26</th>\n      <td>3.276313</td>\n      <td>0.021816</td>\n      <td>{'learning_rate': 0.1, 'max_depth': 9, 'n_esti...</td>\n      <td>0.616749</td>\n      <td>0.633968</td>\n      <td>0.479202</td>\n      <td>0.539690</td>\n    </tr>\n  </tbody>\n</table>\n</div>"
     },
     "execution_count": 17,
     "metadata": {},
     "output_type": "execute_result"
    }
   ],
   "source": [
    "\n",
    "results = pd.DataFrame(gs.cv_results_)\n",
    "\n",
    "results = results[[x for x in results.columns if (x =='params' or 'mean' in x)]]\n",
    "\n",
    "results"
   ],
   "metadata": {
    "collapsed": false,
    "pycharm": {
     "name": "#%%\n"
    }
   }
  },
  {
   "cell_type": "code",
   "execution_count": 18,
   "outputs": [
    {
     "data": {
      "text/plain": "{'learning_rate': 10, 'max_depth': 5, 'n_estimators': 150}"
     },
     "execution_count": 18,
     "metadata": {},
     "output_type": "execute_result"
    }
   ],
   "source": [
    "gs.best_params_\n"
   ],
   "metadata": {
    "collapsed": false,
    "pycharm": {
     "name": "#%%\n"
    }
   }
  }
 ],
 "metadata": {
  "kernelspec": {
   "display_name": "Python 3",
   "language": "python",
   "name": "python3"
  },
  "language_info": {
   "codemirror_mode": {
    "name": "ipython",
    "version": 2
   },
   "file_extension": ".py",
   "mimetype": "text/x-python",
   "name": "python",
   "nbconvert_exporter": "python",
   "pygments_lexer": "ipython2",
   "version": "2.7.6"
  }
 },
 "nbformat": 4,
 "nbformat_minor": 0
}
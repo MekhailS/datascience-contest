{
 "cells": [
  {
   "cell_type": "markdown",
   "metadata": {
    "collapsed": true,
    "pycharm": {
     "name": "#%% md\n"
    }
   },
   "source": [
    "### Выбор модели для классификации событий изменения уровня топлива"
   ]
  },
  {
   "cell_type": "code",
   "execution_count": 1,
   "outputs": [],
   "source": [
    "#imports\n",
    "import pandas as pd\n",
    "import numpy as np\n",
    "\n",
    "from sklearn import model_selection, metrics\n",
    "from sklearn.preprocessing import StandardScaler\n",
    "from sklearn.pipeline import Pipeline\n",
    "from sklearn.ensemble import GradientBoostingClassifier\n",
    "from sklearn.svm import SVC"
   ],
   "metadata": {
    "collapsed": false,
    "pycharm": {
     "name": "#%%\n"
    }
   }
  },
  {
   "cell_type": "code",
   "execution_count": 2,
   "outputs": [],
   "source": [
    "%run \"constants-and-functions.ipynb\"\n",
    "%run \"problems1_2-preparation.ipynb\""
   ],
   "metadata": {
    "collapsed": false,
    "pycharm": {
     "name": "#%%\n"
    }
   }
  },
  {
   "cell_type": "code",
   "execution_count": 3,
   "outputs": [
    {
     "data": {
      "text/plain": "              dtime_start           dtime_end  delta_seconds  \\\n0     2020-01-09 10:05:26 2020-01-09 10:06:27           61.0   \n1     2020-01-09 10:06:27 2020-01-09 10:07:27           60.0   \n2     2020-01-09 10:07:27 2020-01-09 10:08:27           60.0   \n3     2020-01-09 10:08:27 2020-01-09 10:09:27           60.0   \n4     2020-01-09 10:09:27 2020-01-09 10:10:27           60.0   \n...                   ...                 ...            ...   \n18364 2020-06-27 00:47:05 2020-06-27 00:48:05           60.0   \n18365 2020-06-27 00:48:05 2020-06-27 00:49:05           60.0   \n18366 2020-06-27 00:49:05 2020-06-27 01:15:14         1569.0   \n18367 2020-06-27 01:15:14 2020-06-27 01:16:14           60.0   \n18368 2020-06-27 01:16:14 2020-06-27 01:17:14           60.0   \n\n       tachometer_start  tachometer_end  delta_fuellevel_abs  \\\n0                  1248            1056                  0.2   \n1                  1056             960                  0.4   \n2                   960             864                  0.1   \n3                   864             864                  0.3   \n4                   864             864                  0.4   \n...                 ...             ...                  ...   \n18364               832             832                  0.4   \n18365               832             832                  0.2   \n18366               832            1408                  0.2   \n18367              1408             928                  0.2   \n18368               928             832                  0.2   \n\n       delta_fuellevel_sign   lps_abs  \n0                       1.0  0.003279  \n1                       1.0  0.006667  \n2                       1.0  0.001667  \n3                      -1.0  0.005000  \n4                      -1.0  0.006667  \n...                     ...       ...  \n18364                   1.0  0.006667  \n18365                   1.0  0.003333  \n18366                  -1.0  0.000127  \n18367                   1.0  0.003333  \n18368                   1.0  0.003333  \n\n[18369 rows x 8 columns]",
      "text/html": "<div>\n<style scoped>\n    .dataframe tbody tr th:only-of-type {\n        vertical-align: middle;\n    }\n\n    .dataframe tbody tr th {\n        vertical-align: top;\n    }\n\n    .dataframe thead th {\n        text-align: right;\n    }\n</style>\n<table border=\"1\" class=\"dataframe\">\n  <thead>\n    <tr style=\"text-align: right;\">\n      <th></th>\n      <th>dtime_start</th>\n      <th>dtime_end</th>\n      <th>delta_seconds</th>\n      <th>tachometer_start</th>\n      <th>tachometer_end</th>\n      <th>delta_fuellevel_abs</th>\n      <th>delta_fuellevel_sign</th>\n      <th>lps_abs</th>\n    </tr>\n  </thead>\n  <tbody>\n    <tr>\n      <th>0</th>\n      <td>2020-01-09 10:05:26</td>\n      <td>2020-01-09 10:06:27</td>\n      <td>61.0</td>\n      <td>1248</td>\n      <td>1056</td>\n      <td>0.2</td>\n      <td>1.0</td>\n      <td>0.003279</td>\n    </tr>\n    <tr>\n      <th>1</th>\n      <td>2020-01-09 10:06:27</td>\n      <td>2020-01-09 10:07:27</td>\n      <td>60.0</td>\n      <td>1056</td>\n      <td>960</td>\n      <td>0.4</td>\n      <td>1.0</td>\n      <td>0.006667</td>\n    </tr>\n    <tr>\n      <th>2</th>\n      <td>2020-01-09 10:07:27</td>\n      <td>2020-01-09 10:08:27</td>\n      <td>60.0</td>\n      <td>960</td>\n      <td>864</td>\n      <td>0.1</td>\n      <td>1.0</td>\n      <td>0.001667</td>\n    </tr>\n    <tr>\n      <th>3</th>\n      <td>2020-01-09 10:08:27</td>\n      <td>2020-01-09 10:09:27</td>\n      <td>60.0</td>\n      <td>864</td>\n      <td>864</td>\n      <td>0.3</td>\n      <td>-1.0</td>\n      <td>0.005000</td>\n    </tr>\n    <tr>\n      <th>4</th>\n      <td>2020-01-09 10:09:27</td>\n      <td>2020-01-09 10:10:27</td>\n      <td>60.0</td>\n      <td>864</td>\n      <td>864</td>\n      <td>0.4</td>\n      <td>-1.0</td>\n      <td>0.006667</td>\n    </tr>\n    <tr>\n      <th>...</th>\n      <td>...</td>\n      <td>...</td>\n      <td>...</td>\n      <td>...</td>\n      <td>...</td>\n      <td>...</td>\n      <td>...</td>\n      <td>...</td>\n    </tr>\n    <tr>\n      <th>18364</th>\n      <td>2020-06-27 00:47:05</td>\n      <td>2020-06-27 00:48:05</td>\n      <td>60.0</td>\n      <td>832</td>\n      <td>832</td>\n      <td>0.4</td>\n      <td>1.0</td>\n      <td>0.006667</td>\n    </tr>\n    <tr>\n      <th>18365</th>\n      <td>2020-06-27 00:48:05</td>\n      <td>2020-06-27 00:49:05</td>\n      <td>60.0</td>\n      <td>832</td>\n      <td>832</td>\n      <td>0.2</td>\n      <td>1.0</td>\n      <td>0.003333</td>\n    </tr>\n    <tr>\n      <th>18366</th>\n      <td>2020-06-27 00:49:05</td>\n      <td>2020-06-27 01:15:14</td>\n      <td>1569.0</td>\n      <td>832</td>\n      <td>1408</td>\n      <td>0.2</td>\n      <td>-1.0</td>\n      <td>0.000127</td>\n    </tr>\n    <tr>\n      <th>18367</th>\n      <td>2020-06-27 01:15:14</td>\n      <td>2020-06-27 01:16:14</td>\n      <td>60.0</td>\n      <td>1408</td>\n      <td>928</td>\n      <td>0.2</td>\n      <td>1.0</td>\n      <td>0.003333</td>\n    </tr>\n    <tr>\n      <th>18368</th>\n      <td>2020-06-27 01:16:14</td>\n      <td>2020-06-27 01:17:14</td>\n      <td>60.0</td>\n      <td>928</td>\n      <td>832</td>\n      <td>0.2</td>\n      <td>1.0</td>\n      <td>0.003333</td>\n    </tr>\n  </tbody>\n</table>\n<p>18369 rows × 8 columns</p>\n</div>"
     },
     "execution_count": 3,
     "metadata": {},
     "output_type": "execute_result"
    }
   ],
   "source": [
    "df_X"
   ],
   "metadata": {
    "collapsed": false,
    "pycharm": {
     "name": "#%%\n"
    }
   }
  },
  {
   "cell_type": "code",
   "execution_count": 4,
   "outputs": [
    {
     "data": {
      "text/plain": "       refuel\n0       False\n1       False\n2       False\n3       False\n4       False\n...       ...\n18364   False\n18365   False\n18366   False\n18367   False\n18368   False\n\n[18369 rows x 1 columns]",
      "text/html": "<div>\n<style scoped>\n    .dataframe tbody tr th:only-of-type {\n        vertical-align: middle;\n    }\n\n    .dataframe tbody tr th {\n        vertical-align: top;\n    }\n\n    .dataframe thead th {\n        text-align: right;\n    }\n</style>\n<table border=\"1\" class=\"dataframe\">\n  <thead>\n    <tr style=\"text-align: right;\">\n      <th></th>\n      <th>refuel</th>\n    </tr>\n  </thead>\n  <tbody>\n    <tr>\n      <th>0</th>\n      <td>False</td>\n    </tr>\n    <tr>\n      <th>1</th>\n      <td>False</td>\n    </tr>\n    <tr>\n      <th>2</th>\n      <td>False</td>\n    </tr>\n    <tr>\n      <th>3</th>\n      <td>False</td>\n    </tr>\n    <tr>\n      <th>4</th>\n      <td>False</td>\n    </tr>\n    <tr>\n      <th>...</th>\n      <td>...</td>\n    </tr>\n    <tr>\n      <th>18364</th>\n      <td>False</td>\n    </tr>\n    <tr>\n      <th>18365</th>\n      <td>False</td>\n    </tr>\n    <tr>\n      <th>18366</th>\n      <td>False</td>\n    </tr>\n    <tr>\n      <th>18367</th>\n      <td>False</td>\n    </tr>\n    <tr>\n      <th>18368</th>\n      <td>False</td>\n    </tr>\n  </tbody>\n</table>\n<p>18369 rows × 1 columns</p>\n</div>"
     },
     "execution_count": 4,
     "metadata": {},
     "output_type": "execute_result"
    }
   ],
   "source": [
    "df_Y"
   ],
   "metadata": {
    "collapsed": false,
    "pycharm": {
     "name": "#%%\n"
    }
   }
  },
  {
   "cell_type": "code",
   "execution_count": 5,
   "outputs": [
    {
     "data": {
      "text/plain": "array([[3.27868852e-03, 2.00000000e-01, 6.10000000e+01, 1.24800000e+03,\n        1.05600000e+03],\n       [6.66666667e-03, 4.00000000e-01, 6.00000000e+01, 1.05600000e+03,\n        9.60000000e+02],\n       [1.66666667e-03, 1.00000000e-01, 6.00000000e+01, 9.60000000e+02,\n        8.64000000e+02],\n       ...,\n       [1.27469726e-04, 2.00000000e-01, 1.56900000e+03, 8.32000000e+02,\n        1.40800000e+03],\n       [3.33333333e-03, 2.00000000e-01, 6.00000000e+01, 1.40800000e+03,\n        9.28000000e+02],\n       [3.33333333e-03, 2.00000000e-01, 6.00000000e+01, 9.28000000e+02,\n        8.32000000e+02]])"
     },
     "execution_count": 5,
     "metadata": {},
     "output_type": "execute_result"
    }
   ],
   "source": [
    "X = df_X[['lps_abs', 'delta_fuellevel_abs', 'delta_seconds', 'tachometer_start', 'tachometer_end']].to_numpy()\n",
    "Y = df_Y.astype(int)['refuel'].to_numpy()\n",
    "\n",
    "X"
   ],
   "metadata": {
    "collapsed": false,
    "pycharm": {
     "name": "#%%\n"
    }
   }
  },
  {
   "cell_type": "code",
   "execution_count": 6,
   "outputs": [
    {
     "data": {
      "text/plain": "array([0, 0, 0, ..., 0, 0, 0])"
     },
     "execution_count": 6,
     "metadata": {},
     "output_type": "execute_result"
    }
   ],
   "source": [
    "Y"
   ],
   "metadata": {
    "collapsed": false,
    "pycharm": {
     "name": "#%%\n"
    }
   }
  },
  {
   "cell_type": "markdown",
   "source": [
    "Метрики"
   ],
   "metadata": {
    "collapsed": false,
    "pycharm": {
     "name": "#%% md\n"
    }
   }
  },
  {
   "cell_type": "code",
   "execution_count": 7,
   "outputs": [],
   "source": [
    "scoring_metrics = ['accuracy', 'precision', 'recall', 'f1']"
   ],
   "metadata": {
    "collapsed": false,
    "pycharm": {
     "name": "#%%\n"
    }
   }
  },
  {
   "cell_type": "markdown",
   "source": [
    "Разбиение на 5 блоков для кросс-валидации"
   ],
   "metadata": {
    "collapsed": false,
    "pycharm": {
     "name": "#%% md\n"
    }
   }
  },
  {
   "cell_type": "code",
   "execution_count": 8,
   "outputs": [],
   "source": [
    "kf = model_selection.KFold(n_splits=5, shuffle=True)"
   ],
   "metadata": {
    "collapsed": false,
    "pycharm": {
     "name": "#%%\n"
    }
   }
  },
  {
   "cell_type": "markdown",
   "source": [
    "SVM"
   ],
   "metadata": {
    "collapsed": false,
    "pycharm": {
     "name": "#%% md\n"
    }
   }
  },
  {
   "cell_type": "code",
   "execution_count": 9,
   "outputs": [],
   "source": [
    "pipe = Pipeline([\n",
    "    ('scale', StandardScaler()),\n",
    "    ('clf', SVC())\n",
    "])"
   ],
   "metadata": {
    "collapsed": false,
    "pycharm": {
     "name": "#%%\n"
    }
   }
  },
  {
   "cell_type": "markdown",
   "source": [
    "Параметры SVM"
   ],
   "metadata": {
    "collapsed": false,
    "pycharm": {
     "name": "#%% md\n"
    }
   }
  },
  {
   "cell_type": "code",
   "execution_count": 10,
   "outputs": [],
   "source": [
    "grid = dict(clf__C=np.power(10.0, np.arange(-3, 2)),\n",
    "            clf__kernel = ['linear', 'poly', 'rbf'])"
   ],
   "metadata": {
    "collapsed": false,
    "pycharm": {
     "name": "#%%\n"
    }
   }
  },
  {
   "cell_type": "markdown",
   "source": [
    "Обучение и выбор гиперпараметров"
   ],
   "metadata": {
    "collapsed": false,
    "pycharm": {
     "name": "#%% md\n"
    }
   }
  },
  {
   "cell_type": "code",
   "execution_count": 12,
   "outputs": [
    {
     "name": "stdout",
     "output_type": "stream",
     "text": [
      "Fitting 5 folds for each of 15 candidates, totalling 75 fits\n"
     ]
    },
    {
     "name": "stderr",
     "output_type": "stream",
     "text": [
      "[Parallel(n_jobs=4)]: Using backend LokyBackend with 4 concurrent workers.\n",
      "[Parallel(n_jobs=4)]: Done  10 tasks      | elapsed:   15.0s\n",
      "[Parallel(n_jobs=4)]: Done  64 tasks      | elapsed:  2.6min\n",
      "[Parallel(n_jobs=4)]: Done  75 out of  75 | elapsed: 12.4min finished\n"
     ]
    },
    {
     "data": {
      "text/plain": "GridSearchCV(estimator=Pipeline(steps=[('scale', StandardScaler()),\n                                       ('clf', SVC())]),\n             n_jobs=4,\n             param_grid={'clf__C': array([1.e-03, 1.e-02, 1.e-01, 1.e+00, 1.e+01]),\n                         'clf__kernel': ['linear', 'poly', 'rbf']},\n             refit='recall', scoring=['accuracy', 'precision', 'recall', 'f1'],\n             verbose=5)"
     },
     "execution_count": 12,
     "metadata": {},
     "output_type": "execute_result"
    }
   ],
   "source": [
    "gs = model_selection.GridSearchCV(estimator=pipe,\n",
    "                                  param_grid=grid,\n",
    "                                  scoring=scoring_metrics,\n",
    "                                  refit='recall',\n",
    "                                  n_jobs=4,\n",
    "                                  verbose=5)\n",
    "gs.fit(X, Y)"
   ],
   "metadata": {
    "collapsed": false,
    "pycharm": {
     "name": "#%%\n"
    }
   }
  },
  {
   "cell_type": "code",
   "execution_count": 21,
   "outputs": [
    {
     "data": {
      "text/plain": "    mean_fit_time  mean_score_time  \\\n0        3.932199         0.307823   \n1        5.140458         0.481142   \n2        6.112951         0.895441   \n3        3.796902         0.298212   \n4        5.780113         0.429706   \n5        5.989063         0.747132   \n6        4.556443         0.288005   \n7        6.864086         0.434109   \n8        6.497825         0.753137   \n9        6.374340         0.284400   \n10      98.705873         0.427307   \n11       6.396954         0.688690   \n12      11.762173         0.292211   \n13     203.272281         0.395483   \n14       8.623136         0.693897   \n\n                                        params  mean_test_accuracy  \\\n0   {'clf__C': 0.001, 'clf__kernel': 'linear'}            0.642608   \n1     {'clf__C': 0.001, 'clf__kernel': 'poly'}            0.580767   \n2      {'clf__C': 0.001, 'clf__kernel': 'rbf'}            0.644622   \n3    {'clf__C': 0.01, 'clf__kernel': 'linear'}            0.642063   \n4      {'clf__C': 0.01, 'clf__kernel': 'poly'}            0.609129   \n5       {'clf__C': 0.01, 'clf__kernel': 'rbf'}            0.644132   \n6     {'clf__C': 0.1, 'clf__kernel': 'linear'}            0.642335   \n7       {'clf__C': 0.1, 'clf__kernel': 'poly'}            0.621759   \n8        {'clf__C': 0.1, 'clf__kernel': 'rbf'}            0.641900   \n9     {'clf__C': 1.0, 'clf__kernel': 'linear'}            0.642390   \n10      {'clf__C': 1.0, 'clf__kernel': 'poly'}            0.626931   \n11       {'clf__C': 1.0, 'clf__kernel': 'rbf'}            0.645221   \n12   {'clf__C': 10.0, 'clf__kernel': 'linear'}            0.642335   \n13     {'clf__C': 10.0, 'clf__kernel': 'poly'}            0.628183   \n14      {'clf__C': 10.0, 'clf__kernel': 'rbf'}            0.646528   \n\n    mean_test_precision  mean_test_recall  mean_test_f1  \n0              0.664094          0.530598      0.582744  \n1              0.870302          0.145413      0.229770  \n2              0.691984          0.476239      0.555558  \n3              0.659286          0.540513      0.587098  \n4              0.786077          0.248319      0.364035  \n5              0.690586          0.476923      0.555848  \n6              0.659402          0.541766      0.587861  \n7              0.766451          0.298803      0.418807  \n8              0.677935          0.494929      0.564047  \n9              0.659453          0.541880      0.587931  \n10             0.752838          0.325698      0.445278  \n11             0.688658          0.484672      0.560654  \n12             0.659310          0.541994      0.587963  \n13             0.756862          0.326040      0.446111  \n14             0.695216          0.477721      0.557447  ",
      "text/html": "<div>\n<style scoped>\n    .dataframe tbody tr th:only-of-type {\n        vertical-align: middle;\n    }\n\n    .dataframe tbody tr th {\n        vertical-align: top;\n    }\n\n    .dataframe thead th {\n        text-align: right;\n    }\n</style>\n<table border=\"1\" class=\"dataframe\">\n  <thead>\n    <tr style=\"text-align: right;\">\n      <th></th>\n      <th>mean_fit_time</th>\n      <th>mean_score_time</th>\n      <th>params</th>\n      <th>mean_test_accuracy</th>\n      <th>mean_test_precision</th>\n      <th>mean_test_recall</th>\n      <th>mean_test_f1</th>\n    </tr>\n  </thead>\n  <tbody>\n    <tr>\n      <th>0</th>\n      <td>3.932199</td>\n      <td>0.307823</td>\n      <td>{'clf__C': 0.001, 'clf__kernel': 'linear'}</td>\n      <td>0.642608</td>\n      <td>0.664094</td>\n      <td>0.530598</td>\n      <td>0.582744</td>\n    </tr>\n    <tr>\n      <th>1</th>\n      <td>5.140458</td>\n      <td>0.481142</td>\n      <td>{'clf__C': 0.001, 'clf__kernel': 'poly'}</td>\n      <td>0.580767</td>\n      <td>0.870302</td>\n      <td>0.145413</td>\n      <td>0.229770</td>\n    </tr>\n    <tr>\n      <th>2</th>\n      <td>6.112951</td>\n      <td>0.895441</td>\n      <td>{'clf__C': 0.001, 'clf__kernel': 'rbf'}</td>\n      <td>0.644622</td>\n      <td>0.691984</td>\n      <td>0.476239</td>\n      <td>0.555558</td>\n    </tr>\n    <tr>\n      <th>3</th>\n      <td>3.796902</td>\n      <td>0.298212</td>\n      <td>{'clf__C': 0.01, 'clf__kernel': 'linear'}</td>\n      <td>0.642063</td>\n      <td>0.659286</td>\n      <td>0.540513</td>\n      <td>0.587098</td>\n    </tr>\n    <tr>\n      <th>4</th>\n      <td>5.780113</td>\n      <td>0.429706</td>\n      <td>{'clf__C': 0.01, 'clf__kernel': 'poly'}</td>\n      <td>0.609129</td>\n      <td>0.786077</td>\n      <td>0.248319</td>\n      <td>0.364035</td>\n    </tr>\n    <tr>\n      <th>5</th>\n      <td>5.989063</td>\n      <td>0.747132</td>\n      <td>{'clf__C': 0.01, 'clf__kernel': 'rbf'}</td>\n      <td>0.644132</td>\n      <td>0.690586</td>\n      <td>0.476923</td>\n      <td>0.555848</td>\n    </tr>\n    <tr>\n      <th>6</th>\n      <td>4.556443</td>\n      <td>0.288005</td>\n      <td>{'clf__C': 0.1, 'clf__kernel': 'linear'}</td>\n      <td>0.642335</td>\n      <td>0.659402</td>\n      <td>0.541766</td>\n      <td>0.587861</td>\n    </tr>\n    <tr>\n      <th>7</th>\n      <td>6.864086</td>\n      <td>0.434109</td>\n      <td>{'clf__C': 0.1, 'clf__kernel': 'poly'}</td>\n      <td>0.621759</td>\n      <td>0.766451</td>\n      <td>0.298803</td>\n      <td>0.418807</td>\n    </tr>\n    <tr>\n      <th>8</th>\n      <td>6.497825</td>\n      <td>0.753137</td>\n      <td>{'clf__C': 0.1, 'clf__kernel': 'rbf'}</td>\n      <td>0.641900</td>\n      <td>0.677935</td>\n      <td>0.494929</td>\n      <td>0.564047</td>\n    </tr>\n    <tr>\n      <th>9</th>\n      <td>6.374340</td>\n      <td>0.284400</td>\n      <td>{'clf__C': 1.0, 'clf__kernel': 'linear'}</td>\n      <td>0.642390</td>\n      <td>0.659453</td>\n      <td>0.541880</td>\n      <td>0.587931</td>\n    </tr>\n    <tr>\n      <th>10</th>\n      <td>98.705873</td>\n      <td>0.427307</td>\n      <td>{'clf__C': 1.0, 'clf__kernel': 'poly'}</td>\n      <td>0.626931</td>\n      <td>0.752838</td>\n      <td>0.325698</td>\n      <td>0.445278</td>\n    </tr>\n    <tr>\n      <th>11</th>\n      <td>6.396954</td>\n      <td>0.688690</td>\n      <td>{'clf__C': 1.0, 'clf__kernel': 'rbf'}</td>\n      <td>0.645221</td>\n      <td>0.688658</td>\n      <td>0.484672</td>\n      <td>0.560654</td>\n    </tr>\n    <tr>\n      <th>12</th>\n      <td>11.762173</td>\n      <td>0.292211</td>\n      <td>{'clf__C': 10.0, 'clf__kernel': 'linear'}</td>\n      <td>0.642335</td>\n      <td>0.659310</td>\n      <td>0.541994</td>\n      <td>0.587963</td>\n    </tr>\n    <tr>\n      <th>13</th>\n      <td>203.272281</td>\n      <td>0.395483</td>\n      <td>{'clf__C': 10.0, 'clf__kernel': 'poly'}</td>\n      <td>0.628183</td>\n      <td>0.756862</td>\n      <td>0.326040</td>\n      <td>0.446111</td>\n    </tr>\n    <tr>\n      <th>14</th>\n      <td>8.623136</td>\n      <td>0.693897</td>\n      <td>{'clf__C': 10.0, 'clf__kernel': 'rbf'}</td>\n      <td>0.646528</td>\n      <td>0.695216</td>\n      <td>0.477721</td>\n      <td>0.557447</td>\n    </tr>\n  </tbody>\n</table>\n</div>"
     },
     "execution_count": 21,
     "metadata": {},
     "output_type": "execute_result"
    }
   ],
   "source": [
    "results = pd.DataFrame(gs.cv_results_)\n",
    "\n",
    "results = results[[x for x in results.columns if (x =='params' or 'mean' in x)]]\n",
    "\n",
    "results"
   ],
   "metadata": {
    "collapsed": false,
    "pycharm": {
     "name": "#%%\n"
    }
   }
  },
  {
   "cell_type": "code",
   "execution_count": 22,
   "outputs": [
    {
     "data": {
      "text/plain": "Pipeline(steps=[('scale', StandardScaler()),\n                ('clf', SVC(C=10.0, kernel='linear'))])"
     },
     "execution_count": 22,
     "metadata": {},
     "output_type": "execute_result"
    }
   ],
   "source": [
    "gs.best_estimator_"
   ],
   "metadata": {
    "collapsed": false,
    "pycharm": {
     "name": "#%%\n"
    }
   }
  },
  {
   "cell_type": "markdown",
   "source": [
    "SVM показывает плохие результаты, мб стоит будет попробовать c PCA\n"
   ],
   "metadata": {
    "collapsed": false,
    "pycharm": {
     "name": "#%% md\n"
    }
   }
  }
 ],
 "metadata": {
  "kernelspec": {
   "display_name": "Python 3",
   "language": "python",
   "name": "python3"
  },
  "language_info": {
   "codemirror_mode": {
    "name": "ipython",
    "version": 2
   },
   "file_extension": ".py",
   "mimetype": "text/x-python",
   "name": "python",
   "nbconvert_exporter": "python",
   "pygments_lexer": "ipython2",
   "version": "2.7.6"
  }
 },
 "nbformat": 4,
 "nbformat_minor": 0
}
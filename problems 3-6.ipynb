{
 "cells": [
  {
   "cell_type": "code",
   "execution_count": 1,
   "metadata": {},
   "outputs": [],
   "source": [
    "# вопрос - ответы на задания 3-6 нужны только для тех записей, где дан fuelLevel?"
   ]
  },
  {
   "cell_type": "code",
   "execution_count": 2,
   "metadata": {},
   "outputs": [],
   "source": [
    "import pandas as pd\n",
    "import numpy as np"
   ]
  },
  {
   "cell_type": "code",
   "execution_count": 3,
   "metadata": {},
   "outputs": [],
   "source": [
    "DATA_PATH = 'data/vehicle_dataset_public/'\n",
    "DATA_PROC_PATH = 'data/vehicle_proccessed/'\n",
    "\n",
    "TAGS_FEATURES = ['fuelLevel', 'ingection', 'speedAndHeight', 'tachometer']\n",
    "TAGS_TARGET = ['refueling2']\n",
    "TAGS = TAGS_FEATURES + TAGS_TARGET\n",
    "\n",
    "TIME_COLUMNS = ['DTIME', 'STARTDATE', 'ENDDATE']\n",
    "FLOAT_COLUMNS = ['BEVALUE', 'SPEED', 'HEIGHT']\n",
    "\n",
    "VEHICLE_IDS = [1, 3, 5, 19, 28]"
   ]
  },
  {
   "cell_type": "code",
   "execution_count": 9,
   "metadata": {},
   "outputs": [],
   "source": [
    "from functools import reduce\n",
    "\n",
    "# Словарь, состоящий из dataframe'ов для каждого признака\n",
    "def dict_df_vehicle_i(i):\n",
    "    dict_df_vehicle = {}\n",
    "    for tag in TAGS:\n",
    "        df = pd.read_csv(DATA_PATH +\n",
    "                         f'vehicle{i}_{tag}_public.csv', sep=';')\n",
    "        for col in FLOAT_COLUMNS:\n",
    "            if col in df.columns and df[col].dtype == 'object':\n",
    "                df[col] = df[col].str.replace(',','.').astype(float)\n",
    "        df.rename(columns={'BEVALUE': tag}, inplace=True)\n",
    "\n",
    "        for time_col in TIME_COLUMNS:\n",
    "            if time_col in df.columns:\n",
    "                df[time_col] = pd.to_datetime(df[time_col])\n",
    "\n",
    "        dict_df_vehicle[tag] = df\n",
    "\n",
    "    return dict_df_vehicle\n",
    "\n",
    "# Объединение всех \"исходных\" признаков из словаря dataframe'ов\n",
    "# в один dataframe\n",
    "def df_summary(dict_df, merge_how='outer'):\n",
    "    df_to_merge = [dict_df[name] for name in TAGS_FEATURES]\n",
    "\n",
    "    df_res = reduce(lambda left, right: pd.merge(left, right, how=merge_how, on='DTIME'),\n",
    "                    df_to_merge)\n",
    "    df_res.columns = df_res.columns.str.lower()\n",
    "\n",
    "    return df_res"
   ]
  },
  {
   "cell_type": "code",
   "execution_count": 24,
   "metadata": {},
   "outputs": [],
   "source": [
    "def timeDeltaToMinutes(timeDelta):\n",
    "    return np.dot(timeDelta.dt.components, [24*60, 60, 1, 1/60, 1/(60**2), 1/(60**3), 1/(60**4)])"
   ]
  },
  {
   "cell_type": "code",
   "execution_count": 33,
   "metadata": {},
   "outputs": [],
   "source": [
    "# считает скорость измерения топлива по записям времени и уровня топлива\n",
    "def compute_LPM(timeSeries, fuelLevelSeries):\n",
    "    shiftedDTIME = np.full(len(timeSeries), np.nan)\n",
    "    shiftedDTIME[1:] = timeSeries.values[:-1]\n",
    "    shiftedDTIME = pd.Series(pd.to_datetime(shiftedDTIME))\n",
    "    \n",
    "    shiftedFuelLevel = np.full(len(timeSeries), np.nan)\n",
    "    shiftedFuelLevel[1:] = fuelLevelSeries.values[:-1]\n",
    "    shiftedDTIME = pd.Series(shiftedDTIME)\n",
    "\n",
    "    timeShift = timeSeries - shiftedDTIME\n",
    "    timeShiftMinutes = timeDeltaToMinutes(timeShift)\n",
    "\n",
    "    fuelLevelShift = fuelLevelSeries - shiftedFuelLevel\n",
    "    \n",
    "    return fuelLevelShift / timeShiftMinutes"
   ]
  },
  {
   "cell_type": "code",
   "execution_count": 147,
   "metadata": {},
   "outputs": [],
   "source": [
    "vehiclesFeatures = []\n",
    "\n",
    "for vehicle_id in VEHICLE_IDS:\n",
    "    dict_df = dict_df_vehicle_i(vehicle_id)\n",
    "    \n",
    "    df_sum = df_summary(dict_df, merge_how='inner')\n",
    "    \n",
    "    df_sum['LPM'] = compute_LPM(df_sum['dtime'], df_sum['fuellevel'])\n",
    "    \n",
    "    def mean_decrease_lpm(x):\n",
    "        x = x[1:] # первая запись за день - изменение с предыдущего дня\n",
    "        x = x[x<0] # только уменьшение\n",
    "        return np.mean(x)\n",
    "    \n",
    "    # В одном жне может быть несколько последовательностей измерений,\n",
    "    # наверное, нужно это тоже будет как то учесть. Пока так.\n",
    "    each_day_mean_lpm = df_sum.groupby(df_sum['dtime'].dt.date)['LPM'].apply(mean_decrease_lpm)\n",
    "    \n",
    "    # MedianDecLPM - медиана средней скорости уменьшения топлива за день ._.\n",
    "    \n",
    "    features = {\n",
    "        'MaxFuelLevel': df_sum['fuellevel'].max(), \n",
    "        'MeanFuelLevel': df_sum['fuellevel'].mean(),\n",
    "        'MedianFuelLevel': df_sum['fuellevel'].median(),\n",
    "        'MaxSpeed': df_sum['speed'].max(), \n",
    "        'MeanSpeed': df_sum['speed'].mean(),\n",
    "        'MedianSpeed': df_sum['speed'].median(),\n",
    "        'SpeedStd': df_sum['speed'].std(),\n",
    "        'MeanTachometer': df_sum['tachometer'].mean(),\n",
    "        'MedianTachometer': df_sum['tachometer'].median(),\n",
    "        'MeanIngection': df_sum['ingection'].mean(),\n",
    "        'MedianDecLPM': each_day_mean_lpm.median(),\n",
    "    }\n",
    "    \n",
    "    vehicleWiseFeatures = pd.Series(features)\n",
    "    \n",
    "    vehiclesFeatures.append(vehicleWiseFeatures)\n"
   ]
  },
  {
   "cell_type": "code",
   "execution_count": 149,
   "metadata": {},
   "outputs": [
    {
     "data": {
      "text/html": [
       "<div>\n",
       "<style scoped>\n",
       "    .dataframe tbody tr th:only-of-type {\n",
       "        vertical-align: middle;\n",
       "    }\n",
       "\n",
       "    .dataframe tbody tr th {\n",
       "        vertical-align: top;\n",
       "    }\n",
       "\n",
       "    .dataframe thead th {\n",
       "        text-align: right;\n",
       "    }\n",
       "</style>\n",
       "<table border=\"1\" class=\"dataframe\">\n",
       "  <thead>\n",
       "    <tr style=\"text-align: right;\">\n",
       "      <th></th>\n",
       "      <th>MaxFuelLevel</th>\n",
       "      <th>MeanFuelLevel</th>\n",
       "      <th>MedianFuelLevel</th>\n",
       "      <th>MaxSpeed</th>\n",
       "      <th>MeanSpeed</th>\n",
       "      <th>MedianSpeed</th>\n",
       "      <th>SpeedStd</th>\n",
       "      <th>MeanTachometer</th>\n",
       "      <th>MedianTachometer</th>\n",
       "      <th>MeanIngection</th>\n",
       "      <th>MedianDecLPM</th>\n",
       "    </tr>\n",
       "  </thead>\n",
       "  <tbody>\n",
       "    <tr>\n",
       "      <th>1</th>\n",
       "      <td>60.0</td>\n",
       "      <td>38.865364</td>\n",
       "      <td>40.00</td>\n",
       "      <td>128.0</td>\n",
       "      <td>36.009615</td>\n",
       "      <td>24.0</td>\n",
       "      <td>37.117291</td>\n",
       "      <td>1807.216478</td>\n",
       "      <td>1568.0</td>\n",
       "      <td>0.984815</td>\n",
       "      <td>-1.053105</td>\n",
       "    </tr>\n",
       "    <tr>\n",
       "      <th>3</th>\n",
       "      <td>279.8</td>\n",
       "      <td>180.684452</td>\n",
       "      <td>187.85</td>\n",
       "      <td>105.0</td>\n",
       "      <td>15.581290</td>\n",
       "      <td>0.0</td>\n",
       "      <td>24.016025</td>\n",
       "      <td>1032.753226</td>\n",
       "      <td>950.0</td>\n",
       "      <td>0.999032</td>\n",
       "      <td>-0.554609</td>\n",
       "    </tr>\n",
       "    <tr>\n",
       "      <th>5</th>\n",
       "      <td>73.5</td>\n",
       "      <td>40.347142</td>\n",
       "      <td>41.10</td>\n",
       "      <td>131.0</td>\n",
       "      <td>44.640783</td>\n",
       "      <td>46.0</td>\n",
       "      <td>37.745430</td>\n",
       "      <td>1572.068366</td>\n",
       "      <td>1686.0</td>\n",
       "      <td>0.976389</td>\n",
       "      <td>-1.221998</td>\n",
       "    </tr>\n",
       "    <tr>\n",
       "      <th>19</th>\n",
       "      <td>95.0</td>\n",
       "      <td>29.955969</td>\n",
       "      <td>26.20</td>\n",
       "      <td>52.0</td>\n",
       "      <td>1.056209</td>\n",
       "      <td>0.0</td>\n",
       "      <td>2.038720</td>\n",
       "      <td>1126.779966</td>\n",
       "      <td>1110.0</td>\n",
       "      <td>0.991352</td>\n",
       "      <td>-0.435271</td>\n",
       "    </tr>\n",
       "    <tr>\n",
       "      <th>28</th>\n",
       "      <td>60.0</td>\n",
       "      <td>16.823963</td>\n",
       "      <td>0.00</td>\n",
       "      <td>120.0</td>\n",
       "      <td>15.855631</td>\n",
       "      <td>0.0</td>\n",
       "      <td>29.499148</td>\n",
       "      <td>817.308707</td>\n",
       "      <td>0.0</td>\n",
       "      <td>0.425162</td>\n",
       "      <td>-2.925484</td>\n",
       "    </tr>\n",
       "  </tbody>\n",
       "</table>\n",
       "</div>"
      ],
      "text/plain": [
       "    MaxFuelLevel  MeanFuelLevel  MedianFuelLevel  MaxSpeed  MeanSpeed  \\\n",
       "1           60.0      38.865364            40.00     128.0  36.009615   \n",
       "3          279.8     180.684452           187.85     105.0  15.581290   \n",
       "5           73.5      40.347142            41.10     131.0  44.640783   \n",
       "19          95.0      29.955969            26.20      52.0   1.056209   \n",
       "28          60.0      16.823963             0.00     120.0  15.855631   \n",
       "\n",
       "    MedianSpeed   SpeedStd  MeanTachometer  MedianTachometer  MeanIngection  \\\n",
       "1          24.0  37.117291     1807.216478            1568.0       0.984815   \n",
       "3           0.0  24.016025     1032.753226             950.0       0.999032   \n",
       "5          46.0  37.745430     1572.068366            1686.0       0.976389   \n",
       "19          0.0   2.038720     1126.779966            1110.0       0.991352   \n",
       "28          0.0  29.499148      817.308707               0.0       0.425162   \n",
       "\n",
       "    MedianDecLPM  \n",
       "1      -1.053105  \n",
       "3      -0.554609  \n",
       "5      -1.221998  \n",
       "19     -0.435271  \n",
       "28     -2.925484  "
      ]
     },
     "execution_count": 149,
     "metadata": {},
     "output_type": "execute_result"
    }
   ],
   "source": [
    "X = pd.DataFrame(vehiclesFeatures, index=VEHICLE_IDS)\n",
    "X"
   ]
  },
  {
   "cell_type": "code",
   "execution_count": null,
   "metadata": {},
   "outputs": [],
   "source": [
    "# у 1 и 5 относительно большая средняя скорость\n",
    "# У 3 намного бак намного больше, чем у остальных\n",
    "# у 19 очень маленькая средняя скорость \n",
    "# 28 часто стоит выключенным + с пустым баком, но потребляет много топлива\n",
    "# + средний уровень топлива небольшой => наврное, на большие расстояния не ездит"
   ]
  },
  {
   "cell_type": "code",
   "execution_count": 122,
   "metadata": {},
   "outputs": [],
   "source": [
    "dict_df = dict_df_vehicle_i(28)\n",
    "df_sum = df_summary(dict_df, merge_how='inner')"
   ]
  },
  {
   "cell_type": "code",
   "execution_count": 138,
   "metadata": {},
   "outputs": [
    {
     "name": "stdout",
     "output_type": "stream",
     "text": [
      "Доля записей, в которых бак пустой: 0.593607579755337\n",
      "Доля записей, в которых зажигание выключено: 0.5748380906692252\n",
      "Доля записей, в которых выполнено и то и то: 0.5747781242504197\n"
     ]
    }
   ],
   "source": [
    "print('Доля записей, в которых бак пустой:', (df_sum['fuellevel']==0).mean())\n",
    "print('Доля записей, в которых зажигание выключено:', (df_sum['ingection']==0).mean())\n",
    "print('Доля записей, в которых выполнено и то и то:', ((df_sum['ingection']==0) & (df_sum['fuellevel']==0)).mean())"
   ]
  },
  {
   "cell_type": "code",
   "execution_count": 137,
   "metadata": {},
   "outputs": [
    {
     "name": "stdout",
     "output_type": "stream",
     "text": [
      "Средний уровень топлива у ТС #1 при выключенном зажигании: 0.00\n",
      "Средний уровень топлива у ТС #3 при выключенном зажигании: 71.30\n",
      "Средний уровень топлива у ТС #5 при выключенном зажигании: 0.05\n",
      "Средний уровень топлива у ТС #19 при выключенном зажигании: 0.00\n",
      "Средний уровень топлива у ТС #28 при выключенном зажигании: 0.00\n"
     ]
    }
   ],
   "source": [
    "# Странно\n",
    "# 1. Значит ли это, что при выключенном зажигании уровень топлива полагается = 0?\n",
    "# 2. Почему #3 отличается от остальных?\n",
    "\n",
    "for vehicle_id in VEHICLE_IDS:\n",
    "    dict_df = dict_df_vehicle_i(vehicle_id)\n",
    "    df_sum = df_summary(dict_df, merge_how='inner')\n",
    "    \n",
    "    meanFuelLevel = df_sum.loc[df_sum['ingection']==0, 'fuellevel'].mean()\n",
    "    print(f'Средний уровень топлива у ТС #{vehicle_id} при выключенном зажигании: {meanFuelLevel:.2f}')"
   ]
  },
  {
   "cell_type": "code",
   "execution_count": null,
   "metadata": {},
   "outputs": [],
   "source": []
  },
  {
   "cell_type": "code",
   "execution_count": null,
   "metadata": {},
   "outputs": [],
   "source": []
  },
  {
   "cell_type": "code",
   "execution_count": null,
   "metadata": {},
   "outputs": [],
   "source": []
  },
  {
   "cell_type": "code",
   "execution_count": null,
   "metadata": {},
   "outputs": [],
   "source": []
  },
  {
   "cell_type": "code",
   "execution_count": null,
   "metadata": {},
   "outputs": [],
   "source": []
  }
 ],
 "metadata": {
  "kernelspec": {
   "display_name": "Python 3",
   "language": "python",
   "name": "python3"
  },
  "language_info": {
   "codemirror_mode": {
    "name": "ipython",
    "version": 3
   },
   "file_extension": ".py",
   "mimetype": "text/x-python",
   "name": "python",
   "nbconvert_exporter": "python",
   "pygments_lexer": "ipython3",
   "version": "3.6.10"
  }
 },
 "nbformat": 4,
 "nbformat_minor": 4
}

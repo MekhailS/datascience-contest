{
 "cells": [
  {
   "cell_type": "code",
   "execution_count": 2,
   "metadata": {},
   "outputs": [],
   "source": [
    "# вопрос - ответы на задания 3-6 нужны только для тех записей, где дан fuelLevel?"
   ]
  },
  {
   "cell_type": "code",
   "execution_count": 3,
   "metadata": {},
   "outputs": [],
   "source": [
    "import pandas as pd\n",
    "import numpy as np"
   ]
  },
  {
   "cell_type": "code",
   "execution_count": 4,
   "metadata": {},
   "outputs": [],
   "source": [
    "DATA_PATH = 'data/vehicle_dataset_public/'\n",
    "DATA_PROC_PATH = 'data/vehicle_proccessed/'\n",
    "\n",
    "TAGS_FEATURES = ['fuelLevel', 'ingection', 'speedAndHeight', 'tachometer']\n",
    "TAGS_TARGET = ['refueling2']\n",
    "TAGS = TAGS_FEATURES + TAGS_TARGET\n",
    "\n",
    "TIME_COLUMNS = ['DTIME', 'STARTDATE', 'ENDDATE']\n",
    "FLOAT_COLUMNS = ['BEVALUE', 'SPEED', 'HEIGHT']\n",
    "\n",
    "VEHICLE_IDS = [1, 3, 5, 19, 28]"
   ]
  },
  {
   "cell_type": "code",
   "execution_count": 5,
   "metadata": {},
   "outputs": [],
   "source": [
    "from functools import reduce\n",
    "\n",
    "# Словарь, состоящий из dataframe'ов для каждого признака\n",
    "def dict_df_vehicle_i(i):\n",
    "    dict_df_vehicle = {}\n",
    "    for tag in TAGS:\n",
    "        df = pd.read_csv(DATA_PATH +\n",
    "                         f'vehicle{i}_{tag}_public.csv', sep=';')\n",
    "        for col in FLOAT_COLUMNS:\n",
    "            if col in df.columns and df[col].dtype == 'object':\n",
    "                df[col] = df[col].str.replace(',','.').astype(float)\n",
    "        df.rename(columns={'BEVALUE': tag}, inplace=True)\n",
    "\n",
    "        for time_col in TIME_COLUMNS:\n",
    "            if time_col in df.columns:\n",
    "                df[time_col] = pd.to_datetime(df[time_col])\n",
    "\n",
    "        dict_df_vehicle[tag] = df\n",
    "\n",
    "    return dict_df_vehicle\n",
    "\n",
    "# Объединение всех \"исходных\" признаков из словаря dataframe'ов\n",
    "# в один dataframe\n",
    "def df_summary(dict_df, merge_how='outer'):\n",
    "    df_to_merge = [dict_df[name] for name in TAGS_FEATURES]\n",
    "\n",
    "    df_res = reduce(lambda left, right: pd.merge(left, right, how=merge_how, on='DTIME'),\n",
    "                    df_to_merge)\n",
    "    df_res.columns = df_res.columns.str.lower()\n",
    "\n",
    "    return df_res"
   ]
  },
  {
   "cell_type": "code",
   "execution_count": 40,
   "metadata": {},
   "outputs": [],
   "source": [
    "def timeDeltaToHours(timeDelta):\n",
    "    return np.dot(timeDelta.dt.components, [24, 1, 1/60, 1/(60**2), 1/(60**3), 1/(60**4), 1/(60**5)])"
   ]
  },
  {
   "cell_type": "code",
   "execution_count": 41,
   "metadata": {},
   "outputs": [],
   "source": [
    "def approximateDerivative(time, value):\n",
    "    timeShifted = np.full(len(time), np.nan)\n",
    "    timeShifted[1:] = time[:-1]\n",
    "    timeShifted = pd.to_datetime(timeShifted)\n",
    "    timeDelta = timeDeltaToHours(time - timeShifted)\n",
    "    \n",
    "    valueShifted = np.full(len(value), np.nan)\n",
    "    valueShifted[1:] = value[:-1]\n",
    "    \n",
    "    valueDelta = value - valueShifted\n",
    "\n",
    "    return valueDelta / timeDelta"
   ]
  },
  {
   "cell_type": "code",
   "execution_count": 48,
   "metadata": {},
   "outputs": [],
   "source": [
    "def smooth(values):\n",
    "    return pd.Series(values).rolling(10).mean()"
   ]
  },
  {
   "cell_type": "code",
   "execution_count": 65,
   "metadata": {},
   "outputs": [],
   "source": [
    "vehiclesFeatures = []\n",
    "\n",
    "for vehicle_id in VEHICLE_IDS:\n",
    "    dict_df = dict_df_vehicle_i(vehicle_id)\n",
    "    \n",
    "    df_sum = df_summary(dict_df, merge_how='inner')\n",
    "    \n",
    "    df_sum['fuellevel'] = smooth(df_sum['fuellevel'])\n",
    "    df_sum['speed'] = smooth(df_sum['speed'])\n",
    "    df_sum['height'] = smooth(df_sum['height'])\n",
    "    \n",
    "    df_sum['LPH'] = approximateDerivative(df_sum['dtime'], df_sum['fuellevel'])\n",
    "    \n",
    "    df_sum['acceleration'] = approximateDerivative(df_sum['dtime'], df_sum['speed'])\n",
    "    \n",
    "    def mean_decrease_lph(x):\n",
    "        x = x[1:] # первая запись за день - изменение с предыдущего дня\n",
    "        x = x[x<0] # только уменьшение\n",
    "        return np.mean(x)\n",
    "    \n",
    "    # В одном жне может быть несколько последовательностей измерений,\n",
    "    # наверное, нужно это тоже будет как то учесть. Пока так.\n",
    "    each_day_mean_lph = df_sum.groupby(df_sum['dtime'].dt.date)['LPH'].apply(mean_decrease_lph)\n",
    "    \n",
    "    # MedianDecLPM - медиана средней скорости уменьшения топлива за день ._.\n",
    "    \n",
    "    features = {\n",
    "        'MaxFuelLevel': df_sum['fuellevel'].max(), \n",
    "        'MeanFuelLevel': df_sum['fuellevel'].mean(),\n",
    "        'MedianFuelLevel': df_sum['fuellevel'].median(),\n",
    "        'MaxSpeed': df_sum.loc[df_sum['speed']>0, 'speed'].max(), \n",
    "        'MeanSpeed': df_sum.loc[df_sum['speed']>0, 'speed'].mean(),\n",
    "        'MedianSpeed': df_sum.loc[df_sum['speed']>0, 'speed'].median(),\n",
    "        'MeanAbsAcceleration': df_sum['acceleration'].abs().mean(),\n",
    "        'MedianAbsAcceleration': df_sum['acceleration'].abs().median(),\n",
    "        'MeanTachometer': df_sum['tachometer'].mean(),\n",
    "        'MedianTachometer': df_sum['tachometer'].median(),\n",
    "        'MeanIngection': df_sum['ingection'].mean(),\n",
    "        'MedianDecLPH': each_day_mean_lph.median(),\n",
    "    }\n",
    "    \n",
    "    vehicleWiseFeatures = pd.Series(features)\n",
    "    \n",
    "    vehiclesFeatures.append(vehicleWiseFeatures)\n"
   ]
  },
  {
   "cell_type": "code",
   "execution_count": 66,
   "metadata": {},
   "outputs": [
    {
     "data": {
      "text/html": [
       "<div>\n",
       "<style scoped>\n",
       "    .dataframe tbody tr th:only-of-type {\n",
       "        vertical-align: middle;\n",
       "    }\n",
       "\n",
       "    .dataframe tbody tr th {\n",
       "        vertical-align: top;\n",
       "    }\n",
       "\n",
       "    .dataframe thead th {\n",
       "        text-align: right;\n",
       "    }\n",
       "</style>\n",
       "<table border=\"1\" class=\"dataframe\">\n",
       "  <thead>\n",
       "    <tr style=\"text-align: right;\">\n",
       "      <th></th>\n",
       "      <th>MaxFuelLevel</th>\n",
       "      <th>MeanFuelLevel</th>\n",
       "      <th>MedianFuelLevel</th>\n",
       "      <th>MaxSpeed</th>\n",
       "      <th>MeanSpeed</th>\n",
       "      <th>MedianSpeed</th>\n",
       "      <th>MeanAbsAcceleration</th>\n",
       "      <th>MedianAbsAcceleration</th>\n",
       "      <th>MeanTachometer</th>\n",
       "      <th>MedianTachometer</th>\n",
       "      <th>MeanIngection</th>\n",
       "      <th>MedianDecLPH</th>\n",
       "    </tr>\n",
       "  </thead>\n",
       "  <tbody>\n",
       "    <tr>\n",
       "      <th>1</th>\n",
       "      <td>59.69</td>\n",
       "      <td>38.865458</td>\n",
       "      <td>3.948000e+01</td>\n",
       "      <td>124.2</td>\n",
       "      <td>38.343104</td>\n",
       "      <td>30.0</td>\n",
       "      <td>160.861672</td>\n",
       "      <td>108.0</td>\n",
       "      <td>1807.216478</td>\n",
       "      <td>1568.0</td>\n",
       "      <td>0.984815</td>\n",
       "      <td>-12.449061</td>\n",
       "    </tr>\n",
       "    <tr>\n",
       "      <th>3</th>\n",
       "      <td>277.21</td>\n",
       "      <td>180.773407</td>\n",
       "      <td>1.873600e+02</td>\n",
       "      <td>93.4</td>\n",
       "      <td>19.148629</td>\n",
       "      <td>14.8</td>\n",
       "      <td>102.152539</td>\n",
       "      <td>24.0</td>\n",
       "      <td>1032.753226</td>\n",
       "      <td>950.0</td>\n",
       "      <td>0.999032</td>\n",
       "      <td>-10.028369</td>\n",
       "    </tr>\n",
       "    <tr>\n",
       "      <th>5</th>\n",
       "      <td>73.07</td>\n",
       "      <td>40.352908</td>\n",
       "      <td>4.063000e+01</td>\n",
       "      <td>124.6</td>\n",
       "      <td>48.209261</td>\n",
       "      <td>45.9</td>\n",
       "      <td>170.587938</td>\n",
       "      <td>120.0</td>\n",
       "      <td>1572.068366</td>\n",
       "      <td>1686.0</td>\n",
       "      <td>0.976389</td>\n",
       "      <td>-16.786343</td>\n",
       "    </tr>\n",
       "    <tr>\n",
       "      <th>19</th>\n",
       "      <td>95.00</td>\n",
       "      <td>29.941259</td>\n",
       "      <td>2.536000e+01</td>\n",
       "      <td>13.8</td>\n",
       "      <td>1.420739</td>\n",
       "      <td>1.2</td>\n",
       "      <td>8.038214</td>\n",
       "      <td>6.0</td>\n",
       "      <td>1126.779966</td>\n",
       "      <td>1110.0</td>\n",
       "      <td>0.991352</td>\n",
       "      <td>-8.823927</td>\n",
       "    </tr>\n",
       "    <tr>\n",
       "      <th>28</th>\n",
       "      <td>60.00</td>\n",
       "      <td>16.825789</td>\n",
       "      <td>1.890044e-13</td>\n",
       "      <td>115.1</td>\n",
       "      <td>36.022691</td>\n",
       "      <td>29.1</td>\n",
       "      <td>79.277601</td>\n",
       "      <td>0.0</td>\n",
       "      <td>817.308707</td>\n",
       "      <td>0.0</td>\n",
       "      <td>0.425162</td>\n",
       "      <td>-65.023800</td>\n",
       "    </tr>\n",
       "  </tbody>\n",
       "</table>\n",
       "</div>"
      ],
      "text/plain": [
       "    MaxFuelLevel  MeanFuelLevel  MedianFuelLevel  MaxSpeed  MeanSpeed  \\\n",
       "1          59.69      38.865458     3.948000e+01     124.2  38.343104   \n",
       "3         277.21     180.773407     1.873600e+02      93.4  19.148629   \n",
       "5          73.07      40.352908     4.063000e+01     124.6  48.209261   \n",
       "19         95.00      29.941259     2.536000e+01      13.8   1.420739   \n",
       "28         60.00      16.825789     1.890044e-13     115.1  36.022691   \n",
       "\n",
       "    MedianSpeed  MeanAbsAcceleration  MedianAbsAcceleration  MeanTachometer  \\\n",
       "1          30.0           160.861672                  108.0     1807.216478   \n",
       "3          14.8           102.152539                   24.0     1032.753226   \n",
       "5          45.9           170.587938                  120.0     1572.068366   \n",
       "19          1.2             8.038214                    6.0     1126.779966   \n",
       "28         29.1            79.277601                    0.0      817.308707   \n",
       "\n",
       "    MedianTachometer  MeanIngection  MedianDecLPH  \n",
       "1             1568.0       0.984815    -12.449061  \n",
       "3              950.0       0.999032    -10.028369  \n",
       "5             1686.0       0.976389    -16.786343  \n",
       "19            1110.0       0.991352     -8.823927  \n",
       "28               0.0       0.425162    -65.023800  "
      ]
     },
     "execution_count": 66,
     "metadata": {},
     "output_type": "execute_result"
    }
   ],
   "source": [
    "X = pd.DataFrame(vehiclesFeatures, index=VEHICLE_IDS)\n",
    "X"
   ]
  },
  {
   "cell_type": "code",
   "execution_count": null,
   "metadata": {},
   "outputs": [],
   "source": [
    "# у 1 и 5 относительно большая средняя скорость\n",
    "# У 3 намного бак намного больше, чем у остальных\n",
    "# у 19 очень маленькая средняя скорость \n",
    "# 28 часто стоит выключенным + с пустым баком, но потребляет много топлива\n",
    "# + средний уровень топлива небольшой => наверное, на большие расстояния не ездит"
   ]
  },
  {
   "cell_type": "code",
   "execution_count": 138,
   "metadata": {},
   "outputs": [
    {
     "name": "stdout",
     "output_type": "stream",
     "text": [
      "Доля записей, в которых бак пустой: 0.593607579755337\n",
      "Доля записей, в которых зажигание выключено: 0.5748380906692252\n",
      "Доля записей, в которых выполнено и то и то: 0.5747781242504197\n"
     ]
    }
   ],
   "source": [
    "# 28\n",
    "dict_df = dict_df_vehicle_i(28)\n",
    "df_sum = df_summary(dict_df, merge_how='inner')\n",
    "\n",
    "print('Доля записей, в которых бак пустой:', (df_sum['fuellevel']==0).mean())\n",
    "print('Доля записей, в которых зажигание выключено:', (df_sum['ingection']==0).mean())\n",
    "print('Доля записей, в которых выполнено и то и то:', ((df_sum['ingection']==0) & (df_sum['fuellevel']==0)).mean())"
   ]
  },
  {
   "cell_type": "code",
   "execution_count": 137,
   "metadata": {},
   "outputs": [
    {
     "name": "stdout",
     "output_type": "stream",
     "text": [
      "Средний уровень топлива у ТС #1 при выключенном зажигании: 0.00\n",
      "Средний уровень топлива у ТС #3 при выключенном зажигании: 71.30\n",
      "Средний уровень топлива у ТС #5 при выключенном зажигании: 0.05\n",
      "Средний уровень топлива у ТС #19 при выключенном зажигании: 0.00\n",
      "Средний уровень топлива у ТС #28 при выключенном зажигании: 0.00\n"
     ]
    }
   ],
   "source": [
    "# Странно\n",
    "# 1. Значит ли это, что при выключенном зажигании уровень топлива полагается = 0?\n",
    "# 2. Почему #3 отличается от остальных?\n",
    "\n",
    "for vehicle_id in VEHICLE_IDS:\n",
    "    dict_df = dict_df_vehicle_i(vehicle_id)\n",
    "    df_sum = df_summary(dict_df, merge_how='inner')\n",
    "    \n",
    "    meanFuelLevel = df_sum.loc[df_sum['ingection']==0, 'fuellevel'].mean()\n",
    "    print(f'Средний уровень топлива у ТС #{vehicle_id} при выключенном зажигании: {meanFuelLevel:.2f}')"
   ]
  },
  {
   "cell_type": "code",
   "execution_count": 67,
   "metadata": {},
   "outputs": [],
   "source": [
    "# Стиль вождения может быть связан с\n",
    "# изменениемя скорости (резкими/плавными), то есть с ускорением\n",
    "# ну тут сложно, учитывая, что машины разные"
   ]
  },
  {
   "cell_type": "code",
   "execution_count": null,
   "metadata": {},
   "outputs": [],
   "source": []
  },
  {
   "cell_type": "code",
   "execution_count": null,
   "metadata": {},
   "outputs": [],
   "source": []
  },
  {
   "cell_type": "code",
   "execution_count": null,
   "metadata": {},
   "outputs": [],
   "source": []
  },
  {
   "cell_type": "code",
   "execution_count": null,
   "metadata": {},
   "outputs": [],
   "source": []
  }
 ],
 "metadata": {
  "kernelspec": {
   "display_name": "Python 3",
   "language": "python",
   "name": "python3"
  },
  "language_info": {
   "codemirror_mode": {
    "name": "ipython",
    "version": 3
   },
   "file_extension": ".py",
   "mimetype": "text/x-python",
   "name": "python",
   "nbconvert_exporter": "python",
   "pygments_lexer": "ipython3",
   "version": "3.6.10"
  }
 },
 "nbformat": 4,
 "nbformat_minor": 4
}

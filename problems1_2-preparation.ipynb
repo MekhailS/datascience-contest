{
 "cells": [
  {
   "cell_type": "markdown",
   "source": [
    "### Подготовка матрицы объекты-признаки и целевой переменной для классификации событий изменения уровня топлива:\n",
    "- сливы-заправки\n",
    "- штатный расход"
   ],
   "metadata": {
    "collapsed": false,
    "pycharm": {
     "name": "#%% md\n"
    }
   }
  },
  {
   "cell_type": "code",
   "execution_count": 1,
   "outputs": [],
   "source": [
    "# imports\n",
    "import pandas as pd\n",
    "import numpy as np"
   ],
   "metadata": {
    "collapsed": false,
    "pycharm": {
     "name": "#%%\n"
    }
   }
  },
  {
   "cell_type": "markdown",
   "metadata": {
    "collapsed": true,
    "pycharm": {
     "name": "#%% md\n"
    }
   },
   "source": [
    "Must-run код с константами и полезными функциями"
   ]
  },
  {
   "cell_type": "code",
   "execution_count": 2,
   "outputs": [],
   "source": [
    "%run \"constants-and-functions.ipynb\""
   ],
   "metadata": {
    "collapsed": false,
    "pycharm": {
     "name": "#%%\n"
    }
   }
  },
  {
   "cell_type": "markdown",
   "source": [
    "Будем работать над первым транспортным средством"
   ],
   "metadata": {
    "collapsed": false,
    "pycharm": {
     "name": "#%% md\n"
    }
   }
  },
  {
   "cell_type": "code",
   "execution_count": 3,
   "outputs": [
    {
     "data": {
      "text/plain": "                dtime  fuellevel  ingection  speed  height  tachometer  refuel\ni                                                                             \n0 2020-01-10 09:46:56  42.496154          1     28    13.0        2264       1\n1 2020-01-10 09:47:56  42.380769          1      0     6.6         666       1\n2 2020-01-10 09:52:09  42.188462          1      0    15.1         678       1\n3 2020-01-10 09:53:09  42.053846          1     13    14.7         990       1\n4 2020-01-10 09:57:40  41.996154          1      0    18.4         661       1",
      "text/html": "<div>\n<style scoped>\n    .dataframe tbody tr th:only-of-type {\n        vertical-align: middle;\n    }\n\n    .dataframe tbody tr th {\n        vertical-align: top;\n    }\n\n    .dataframe thead th {\n        text-align: right;\n    }\n</style>\n<table border=\"1\" class=\"dataframe\">\n  <thead>\n    <tr style=\"text-align: right;\">\n      <th></th>\n      <th>dtime</th>\n      <th>fuellevel</th>\n      <th>ingection</th>\n      <th>speed</th>\n      <th>height</th>\n      <th>tachometer</th>\n      <th>refuel</th>\n    </tr>\n    <tr>\n      <th>i</th>\n      <th></th>\n      <th></th>\n      <th></th>\n      <th></th>\n      <th></th>\n      <th></th>\n      <th></th>\n    </tr>\n  </thead>\n  <tbody>\n    <tr>\n      <th>0</th>\n      <td>2020-01-10 09:46:56</td>\n      <td>42.496154</td>\n      <td>1</td>\n      <td>28</td>\n      <td>13.0</td>\n      <td>2264</td>\n      <td>1</td>\n    </tr>\n    <tr>\n      <th>1</th>\n      <td>2020-01-10 09:47:56</td>\n      <td>42.380769</td>\n      <td>1</td>\n      <td>0</td>\n      <td>6.6</td>\n      <td>666</td>\n      <td>1</td>\n    </tr>\n    <tr>\n      <th>2</th>\n      <td>2020-01-10 09:52:09</td>\n      <td>42.188462</td>\n      <td>1</td>\n      <td>0</td>\n      <td>15.1</td>\n      <td>678</td>\n      <td>1</td>\n    </tr>\n    <tr>\n      <th>3</th>\n      <td>2020-01-10 09:53:09</td>\n      <td>42.053846</td>\n      <td>1</td>\n      <td>13</td>\n      <td>14.7</td>\n      <td>990</td>\n      <td>1</td>\n    </tr>\n    <tr>\n      <th>4</th>\n      <td>2020-01-10 09:57:40</td>\n      <td>41.996154</td>\n      <td>1</td>\n      <td>0</td>\n      <td>18.4</td>\n      <td>661</td>\n      <td>1</td>\n    </tr>\n  </tbody>\n</table>\n</div>"
     },
     "execution_count": 3,
     "metadata": {},
     "output_type": "execute_result"
    }
   ],
   "source": [
    "df = pd.read_csv(DATA_PROC_PATH + 'vehicle1_rolled.csv', index_col='i')\n",
    "df.dropna(inplace=True)\n",
    "\n",
    "# Так же избавимся от всех нулевых значений\n",
    "df = df[df['fuellevel'] > 0]\n",
    "df['dtime'] = pd.to_datetime(df['dtime'])\n",
    "\n",
    "df.head()"
   ],
   "metadata": {
    "collapsed": false,
    "pycharm": {
     "name": "#%%\n"
    }
   }
  },
  {
   "cell_type": "markdown",
   "source": [
    "Получаем дельты времени и уровня топлива"
   ],
   "metadata": {
    "collapsed": false,
    "pycharm": {
     "name": "#%% md\n"
    }
   }
  },
  {
   "cell_type": "code",
   "execution_count": 4,
   "outputs": [],
   "source": [
    "df_X = pd.DataFrame()\n",
    "\n",
    "DELTA_FEATURES = ['dtime', 'fuellevel']\n",
    "\n",
    "for feature_name in DELTA_FEATURES:\n",
    "    val_start = df[feature_name].iloc[:-1].to_numpy()\n",
    "    val_end = df[feature_name].iloc[1:].to_numpy()\n",
    "\n",
    "    delta_val = val_end - val_start\n",
    "\n",
    "    if feature_name == 'dtime':\n",
    "        df_X['dtime_start'] = val_start\n",
    "        df_X['dtime_end'] = val_end\n",
    "        delta_val = timeDeltaToSeconds(pd.DataFrame(delta_val, columns=['deltaDate'])['deltaDate'])\n",
    "\n",
    "    df_X['delta_' + feature_name] = delta_val"
   ],
   "metadata": {
    "collapsed": false,
    "pycharm": {
     "name": "#%%\n"
    }
   }
  },
  {
   "cell_type": "markdown",
   "source": [
    "Показания тахометра и уровень топлива в начале и конце интервала"
   ],
   "metadata": {
    "collapsed": false,
    "pycharm": {
     "name": "#%% md\n"
    }
   }
  },
  {
   "cell_type": "code",
   "execution_count": 5,
   "outputs": [],
   "source": [
    "START_END_FEATURES = ['tachometer', 'fuellevel']\n",
    "\n",
    "for feature_name in START_END_FEATURES:\n",
    "    val_start = df[feature_name].iloc[:-1].to_numpy()\n",
    "    val_end = df[feature_name].iloc[1:].to_numpy()\n",
    "\n",
    "    df_X[f'{feature_name}_start'] = val_start\n",
    "    df_X[f'{feature_name}_end'] = val_end"
   ],
   "metadata": {
    "collapsed": false,
    "pycharm": {
     "name": "#%%\n"
    }
   }
  },
  {
   "cell_type": "markdown",
   "source": [
    "Чтобы избавиться от знака в fuellevel_delta и не потерять информацию,\n",
    "создадим отдельно столбец модуля изменения и его знака"
   ],
   "metadata": {
    "collapsed": false,
    "pycharm": {
     "name": "#%% md\n",
     "is_executing": true
    }
   },
   "outputs": [
    {
     "ename": "SyntaxError",
     "evalue": "invalid syntax (<ipython-input-28-76f8ef0c9a72>, line 1)",
     "output_type": "error",
     "traceback": [
      "\u001B[1;36m  File \u001B[1;32m\"<ipython-input-28-76f8ef0c9a72>\"\u001B[1;36m, line \u001B[1;32m1\u001B[0m\n\u001B[1;33m    Чтобы избавиться от знака в fuellevel и tachometer и не потерять информацию,\u001B[0m\n\u001B[1;37m          ^\u001B[0m\n\u001B[1;31mSyntaxError\u001B[0m\u001B[1;31m:\u001B[0m invalid syntax\n"
     ]
    }
   ]
  },
  {
   "cell_type": "code",
   "execution_count": 6,
   "outputs": [
    {
     "data": {
      "text/plain": "          dtime_start           dtime_end  delta_seconds  tachometer_start  \\\n0 2020-01-10 09:46:56 2020-01-10 09:47:56           60.0              2264   \n1 2020-01-10 09:47:56 2020-01-10 09:52:09          253.0               666   \n2 2020-01-10 09:52:09 2020-01-10 09:53:09           60.0               678   \n3 2020-01-10 09:53:09 2020-01-10 09:57:40          271.0               990   \n4 2020-01-10 09:57:40 2020-01-10 09:58:40           60.0               661   \n\n   tachometer_end  fuellevel_start  fuellevel_end  delta_fuellevel_abs  \\\n0             666        42.496154      42.380769             0.115385   \n1             678        42.380769      42.188462             0.192308   \n2             990        42.188462      42.053846             0.134615   \n3             661        42.053846      41.996154             0.057692   \n4            1232        41.996154      41.953846             0.042308   \n\n   delta_fuellevel_sign  \n0                  -1.0  \n1                  -1.0  \n2                  -1.0  \n3                  -1.0  \n4                  -1.0  ",
      "text/html": "<div>\n<style scoped>\n    .dataframe tbody tr th:only-of-type {\n        vertical-align: middle;\n    }\n\n    .dataframe tbody tr th {\n        vertical-align: top;\n    }\n\n    .dataframe thead th {\n        text-align: right;\n    }\n</style>\n<table border=\"1\" class=\"dataframe\">\n  <thead>\n    <tr style=\"text-align: right;\">\n      <th></th>\n      <th>dtime_start</th>\n      <th>dtime_end</th>\n      <th>delta_seconds</th>\n      <th>tachometer_start</th>\n      <th>tachometer_end</th>\n      <th>fuellevel_start</th>\n      <th>fuellevel_end</th>\n      <th>delta_fuellevel_abs</th>\n      <th>delta_fuellevel_sign</th>\n    </tr>\n  </thead>\n  <tbody>\n    <tr>\n      <th>0</th>\n      <td>2020-01-10 09:46:56</td>\n      <td>2020-01-10 09:47:56</td>\n      <td>60.0</td>\n      <td>2264</td>\n      <td>666</td>\n      <td>42.496154</td>\n      <td>42.380769</td>\n      <td>0.115385</td>\n      <td>-1.0</td>\n    </tr>\n    <tr>\n      <th>1</th>\n      <td>2020-01-10 09:47:56</td>\n      <td>2020-01-10 09:52:09</td>\n      <td>253.0</td>\n      <td>666</td>\n      <td>678</td>\n      <td>42.380769</td>\n      <td>42.188462</td>\n      <td>0.192308</td>\n      <td>-1.0</td>\n    </tr>\n    <tr>\n      <th>2</th>\n      <td>2020-01-10 09:52:09</td>\n      <td>2020-01-10 09:53:09</td>\n      <td>60.0</td>\n      <td>678</td>\n      <td>990</td>\n      <td>42.188462</td>\n      <td>42.053846</td>\n      <td>0.134615</td>\n      <td>-1.0</td>\n    </tr>\n    <tr>\n      <th>3</th>\n      <td>2020-01-10 09:53:09</td>\n      <td>2020-01-10 09:57:40</td>\n      <td>271.0</td>\n      <td>990</td>\n      <td>661</td>\n      <td>42.053846</td>\n      <td>41.996154</td>\n      <td>0.057692</td>\n      <td>-1.0</td>\n    </tr>\n    <tr>\n      <th>4</th>\n      <td>2020-01-10 09:57:40</td>\n      <td>2020-01-10 09:58:40</td>\n      <td>60.0</td>\n      <td>661</td>\n      <td>1232</td>\n      <td>41.996154</td>\n      <td>41.953846</td>\n      <td>0.042308</td>\n      <td>-1.0</td>\n    </tr>\n  </tbody>\n</table>\n</div>"
     },
     "execution_count": 6,
     "metadata": {},
     "output_type": "execute_result"
    }
   ],
   "source": [
    "SIGN_ABS_FEATURES = ['fuellevel']\n",
    "\n",
    "for feature_name in SIGN_ABS_FEATURES:\n",
    "    df_X[f'delta_{feature_name}_abs'] = np.abs(df_X[f'delta_{feature_name}'])\n",
    "    df_X[f'delta_{feature_name}_sign'] = np.sign(df_X[f'delta_{feature_name}'])\n",
    "    df_X.drop(columns=[f'delta_{feature_name}'], inplace=True)\n",
    "\n",
    "df_X.rename({'delta_dtime':'delta_seconds'}, axis='columns', inplace=True)\n",
    "\n",
    "df_X.head()"
   ],
   "metadata": {
    "collapsed": false,
    "pycharm": {
     "name": "#%%\n"
    }
   }
  },
  {
   "cell_type": "markdown",
   "source": [
    "Скорость изменения уровня топлива в л/с"
   ],
   "metadata": {
    "collapsed": false,
    "pycharm": {
     "name": "#%% md\n"
    }
   }
  },
  {
   "cell_type": "code",
   "execution_count": 7,
   "outputs": [
    {
     "data": {
      "text/plain": "          dtime_start           dtime_end  delta_seconds  tachometer_start  \\\n0 2020-01-10 09:46:56 2020-01-10 09:47:56           60.0              2264   \n1 2020-01-10 09:47:56 2020-01-10 09:52:09          253.0               666   \n2 2020-01-10 09:52:09 2020-01-10 09:53:09           60.0               678   \n3 2020-01-10 09:53:09 2020-01-10 09:57:40          271.0               990   \n4 2020-01-10 09:57:40 2020-01-10 09:58:40           60.0               661   \n\n   tachometer_end  fuellevel_start  fuellevel_end  delta_fuellevel_abs  \\\n0             666        42.496154      42.380769             0.115385   \n1             678        42.380769      42.188462             0.192308   \n2             990        42.188462      42.053846             0.134615   \n3             661        42.053846      41.996154             0.057692   \n4            1232        41.996154      41.953846             0.042308   \n\n   delta_fuellevel_sign   lps_abs  \n0                  -1.0  0.001923  \n1                  -1.0  0.000760  \n2                  -1.0  0.002244  \n3                  -1.0  0.000213  \n4                  -1.0  0.000705  ",
      "text/html": "<div>\n<style scoped>\n    .dataframe tbody tr th:only-of-type {\n        vertical-align: middle;\n    }\n\n    .dataframe tbody tr th {\n        vertical-align: top;\n    }\n\n    .dataframe thead th {\n        text-align: right;\n    }\n</style>\n<table border=\"1\" class=\"dataframe\">\n  <thead>\n    <tr style=\"text-align: right;\">\n      <th></th>\n      <th>dtime_start</th>\n      <th>dtime_end</th>\n      <th>delta_seconds</th>\n      <th>tachometer_start</th>\n      <th>tachometer_end</th>\n      <th>fuellevel_start</th>\n      <th>fuellevel_end</th>\n      <th>delta_fuellevel_abs</th>\n      <th>delta_fuellevel_sign</th>\n      <th>lps_abs</th>\n    </tr>\n  </thead>\n  <tbody>\n    <tr>\n      <th>0</th>\n      <td>2020-01-10 09:46:56</td>\n      <td>2020-01-10 09:47:56</td>\n      <td>60.0</td>\n      <td>2264</td>\n      <td>666</td>\n      <td>42.496154</td>\n      <td>42.380769</td>\n      <td>0.115385</td>\n      <td>-1.0</td>\n      <td>0.001923</td>\n    </tr>\n    <tr>\n      <th>1</th>\n      <td>2020-01-10 09:47:56</td>\n      <td>2020-01-10 09:52:09</td>\n      <td>253.0</td>\n      <td>666</td>\n      <td>678</td>\n      <td>42.380769</td>\n      <td>42.188462</td>\n      <td>0.192308</td>\n      <td>-1.0</td>\n      <td>0.000760</td>\n    </tr>\n    <tr>\n      <th>2</th>\n      <td>2020-01-10 09:52:09</td>\n      <td>2020-01-10 09:53:09</td>\n      <td>60.0</td>\n      <td>678</td>\n      <td>990</td>\n      <td>42.188462</td>\n      <td>42.053846</td>\n      <td>0.134615</td>\n      <td>-1.0</td>\n      <td>0.002244</td>\n    </tr>\n    <tr>\n      <th>3</th>\n      <td>2020-01-10 09:53:09</td>\n      <td>2020-01-10 09:57:40</td>\n      <td>271.0</td>\n      <td>990</td>\n      <td>661</td>\n      <td>42.053846</td>\n      <td>41.996154</td>\n      <td>0.057692</td>\n      <td>-1.0</td>\n      <td>0.000213</td>\n    </tr>\n    <tr>\n      <th>4</th>\n      <td>2020-01-10 09:57:40</td>\n      <td>2020-01-10 09:58:40</td>\n      <td>60.0</td>\n      <td>661</td>\n      <td>1232</td>\n      <td>41.996154</td>\n      <td>41.953846</td>\n      <td>0.042308</td>\n      <td>-1.0</td>\n      <td>0.000705</td>\n    </tr>\n  </tbody>\n</table>\n</div>"
     },
     "execution_count": 7,
     "metadata": {},
     "output_type": "execute_result"
    }
   ],
   "source": [
    "df_X['lps_abs'] = df_X['delta_fuellevel_abs']/df_X['delta_seconds']\n",
    "\n",
    "df_X.head()"
   ],
   "metadata": {
    "collapsed": false,
    "pycharm": {
     "name": "#%%\n"
    }
   }
  },
  {
   "cell_type": "markdown",
   "source": [
    "Целевая переменная refuel"
   ],
   "metadata": {
    "collapsed": false,
    "pycharm": {
     "name": "#%% md\n"
    }
   }
  },
  {
   "cell_type": "code",
   "execution_count": 8,
   "outputs": [
    {
     "data": {
      "text/plain": "       refuel\n0        True\n1        True\n2        True\n3        True\n4        True\n...       ...\n17867    True\n17868    True\n17869    True\n17870    True\n17871    True\n\n[17872 rows x 1 columns]",
      "text/html": "<div>\n<style scoped>\n    .dataframe tbody tr th:only-of-type {\n        vertical-align: middle;\n    }\n\n    .dataframe tbody tr th {\n        vertical-align: top;\n    }\n\n    .dataframe thead th {\n        text-align: right;\n    }\n</style>\n<table border=\"1\" class=\"dataframe\">\n  <thead>\n    <tr style=\"text-align: right;\">\n      <th></th>\n      <th>refuel</th>\n    </tr>\n  </thead>\n  <tbody>\n    <tr>\n      <th>0</th>\n      <td>True</td>\n    </tr>\n    <tr>\n      <th>1</th>\n      <td>True</td>\n    </tr>\n    <tr>\n      <th>2</th>\n      <td>True</td>\n    </tr>\n    <tr>\n      <th>3</th>\n      <td>True</td>\n    </tr>\n    <tr>\n      <th>4</th>\n      <td>True</td>\n    </tr>\n    <tr>\n      <th>...</th>\n      <td>...</td>\n    </tr>\n    <tr>\n      <th>17867</th>\n      <td>True</td>\n    </tr>\n    <tr>\n      <th>17868</th>\n      <td>True</td>\n    </tr>\n    <tr>\n      <th>17869</th>\n      <td>True</td>\n    </tr>\n    <tr>\n      <th>17870</th>\n      <td>True</td>\n    </tr>\n    <tr>\n      <th>17871</th>\n      <td>True</td>\n    </tr>\n  </tbody>\n</table>\n<p>17872 rows × 1 columns</p>\n</div>"
     },
     "execution_count": 8,
     "metadata": {},
     "output_type": "execute_result"
    }
   ],
   "source": [
    "df_Y = pd.DataFrame()\n",
    "\n",
    "val_start = df['refuel'].iloc[:-1].to_numpy()\n",
    "val_end = df['refuel'].iloc[1:].to_numpy()\n",
    "\n",
    "df_Y['refuel'] = (val_end + val_start) >= 1\n",
    "\n",
    "df_Y"
   ],
   "metadata": {
    "collapsed": false,
    "pycharm": {
     "name": "#%%\n"
    }
   }
  },
  {
   "cell_type": "code",
   "execution_count": 9,
   "outputs": [
    {
     "data": {
      "text/plain": "              dtime_start           dtime_end  delta_seconds  \\\n0     2020-01-10 09:46:56 2020-01-10 09:47:56           60.0   \n1     2020-01-10 09:47:56 2020-01-10 09:52:09          253.0   \n2     2020-01-10 09:52:09 2020-01-10 09:53:09           60.0   \n3     2020-01-10 09:53:09 2020-01-10 09:57:40          271.0   \n4     2020-01-10 09:57:40 2020-01-10 09:58:40           60.0   \n...                   ...                 ...            ...   \n17867 2020-06-26 10:59:53 2020-06-26 11:00:53           60.0   \n17868 2020-06-26 11:00:53 2020-06-26 11:01:53           60.0   \n17869 2020-06-26 11:01:53 2020-06-26 11:02:53           60.0   \n17870 2020-06-26 11:02:53 2020-06-26 11:03:53           60.0   \n17871 2020-06-26 11:03:53 2020-06-26 11:04:52           59.0   \n\n       tachometer_start  tachometer_end  fuellevel_start  fuellevel_end  \\\n0                  2264             666        42.496154      42.380769   \n1                   666             678        42.380769      42.188462   \n2                   678             990        42.188462      42.053846   \n3                   990             661        42.053846      41.996154   \n4                   661            1232        41.996154      41.953846   \n...                 ...             ...              ...            ...   \n17867              1736            2268        60.326923      60.250000   \n17868              2268            1591        60.250000      60.161538   \n17869              1591            2414        60.161538      60.111538   \n17870              2414            2312        60.111538      60.034615   \n17871              2312            2452        60.034615      59.942308   \n\n       delta_fuellevel_abs  delta_fuellevel_sign   lps_abs  \n0                 0.115385                  -1.0  0.001923  \n1                 0.192308                  -1.0  0.000760  \n2                 0.134615                  -1.0  0.002244  \n3                 0.057692                  -1.0  0.000213  \n4                 0.042308                  -1.0  0.000705  \n...                    ...                   ...       ...  \n17867             0.076923                  -1.0  0.001282  \n17868             0.088462                  -1.0  0.001474  \n17869             0.050000                  -1.0  0.000833  \n17870             0.076923                  -1.0  0.001282  \n17871             0.092308                  -1.0  0.001565  \n\n[17872 rows x 10 columns]",
      "text/html": "<div>\n<style scoped>\n    .dataframe tbody tr th:only-of-type {\n        vertical-align: middle;\n    }\n\n    .dataframe tbody tr th {\n        vertical-align: top;\n    }\n\n    .dataframe thead th {\n        text-align: right;\n    }\n</style>\n<table border=\"1\" class=\"dataframe\">\n  <thead>\n    <tr style=\"text-align: right;\">\n      <th></th>\n      <th>dtime_start</th>\n      <th>dtime_end</th>\n      <th>delta_seconds</th>\n      <th>tachometer_start</th>\n      <th>tachometer_end</th>\n      <th>fuellevel_start</th>\n      <th>fuellevel_end</th>\n      <th>delta_fuellevel_abs</th>\n      <th>delta_fuellevel_sign</th>\n      <th>lps_abs</th>\n    </tr>\n  </thead>\n  <tbody>\n    <tr>\n      <th>0</th>\n      <td>2020-01-10 09:46:56</td>\n      <td>2020-01-10 09:47:56</td>\n      <td>60.0</td>\n      <td>2264</td>\n      <td>666</td>\n      <td>42.496154</td>\n      <td>42.380769</td>\n      <td>0.115385</td>\n      <td>-1.0</td>\n      <td>0.001923</td>\n    </tr>\n    <tr>\n      <th>1</th>\n      <td>2020-01-10 09:47:56</td>\n      <td>2020-01-10 09:52:09</td>\n      <td>253.0</td>\n      <td>666</td>\n      <td>678</td>\n      <td>42.380769</td>\n      <td>42.188462</td>\n      <td>0.192308</td>\n      <td>-1.0</td>\n      <td>0.000760</td>\n    </tr>\n    <tr>\n      <th>2</th>\n      <td>2020-01-10 09:52:09</td>\n      <td>2020-01-10 09:53:09</td>\n      <td>60.0</td>\n      <td>678</td>\n      <td>990</td>\n      <td>42.188462</td>\n      <td>42.053846</td>\n      <td>0.134615</td>\n      <td>-1.0</td>\n      <td>0.002244</td>\n    </tr>\n    <tr>\n      <th>3</th>\n      <td>2020-01-10 09:53:09</td>\n      <td>2020-01-10 09:57:40</td>\n      <td>271.0</td>\n      <td>990</td>\n      <td>661</td>\n      <td>42.053846</td>\n      <td>41.996154</td>\n      <td>0.057692</td>\n      <td>-1.0</td>\n      <td>0.000213</td>\n    </tr>\n    <tr>\n      <th>4</th>\n      <td>2020-01-10 09:57:40</td>\n      <td>2020-01-10 09:58:40</td>\n      <td>60.0</td>\n      <td>661</td>\n      <td>1232</td>\n      <td>41.996154</td>\n      <td>41.953846</td>\n      <td>0.042308</td>\n      <td>-1.0</td>\n      <td>0.000705</td>\n    </tr>\n    <tr>\n      <th>...</th>\n      <td>...</td>\n      <td>...</td>\n      <td>...</td>\n      <td>...</td>\n      <td>...</td>\n      <td>...</td>\n      <td>...</td>\n      <td>...</td>\n      <td>...</td>\n      <td>...</td>\n    </tr>\n    <tr>\n      <th>17867</th>\n      <td>2020-06-26 10:59:53</td>\n      <td>2020-06-26 11:00:53</td>\n      <td>60.0</td>\n      <td>1736</td>\n      <td>2268</td>\n      <td>60.326923</td>\n      <td>60.250000</td>\n      <td>0.076923</td>\n      <td>-1.0</td>\n      <td>0.001282</td>\n    </tr>\n    <tr>\n      <th>17868</th>\n      <td>2020-06-26 11:00:53</td>\n      <td>2020-06-26 11:01:53</td>\n      <td>60.0</td>\n      <td>2268</td>\n      <td>1591</td>\n      <td>60.250000</td>\n      <td>60.161538</td>\n      <td>0.088462</td>\n      <td>-1.0</td>\n      <td>0.001474</td>\n    </tr>\n    <tr>\n      <th>17869</th>\n      <td>2020-06-26 11:01:53</td>\n      <td>2020-06-26 11:02:53</td>\n      <td>60.0</td>\n      <td>1591</td>\n      <td>2414</td>\n      <td>60.161538</td>\n      <td>60.111538</td>\n      <td>0.050000</td>\n      <td>-1.0</td>\n      <td>0.000833</td>\n    </tr>\n    <tr>\n      <th>17870</th>\n      <td>2020-06-26 11:02:53</td>\n      <td>2020-06-26 11:03:53</td>\n      <td>60.0</td>\n      <td>2414</td>\n      <td>2312</td>\n      <td>60.111538</td>\n      <td>60.034615</td>\n      <td>0.076923</td>\n      <td>-1.0</td>\n      <td>0.001282</td>\n    </tr>\n    <tr>\n      <th>17871</th>\n      <td>2020-06-26 11:03:53</td>\n      <td>2020-06-26 11:04:52</td>\n      <td>59.0</td>\n      <td>2312</td>\n      <td>2452</td>\n      <td>60.034615</td>\n      <td>59.942308</td>\n      <td>0.092308</td>\n      <td>-1.0</td>\n      <td>0.001565</td>\n    </tr>\n  </tbody>\n</table>\n<p>17872 rows × 10 columns</p>\n</div>"
     },
     "execution_count": 9,
     "metadata": {},
     "output_type": "execute_result"
    }
   ],
   "source": [
    "df_X"
   ],
   "metadata": {
    "collapsed": false,
    "pycharm": {
     "name": "#%%\n"
    }
   }
  }
 ],
 "metadata": {
  "kernelspec": {
   "display_name": "Python 3",
   "language": "python",
   "name": "python3"
  },
  "language_info": {
   "codemirror_mode": {
    "name": "ipython",
    "version": 2
   },
   "file_extension": ".py",
   "mimetype": "text/x-python",
   "name": "python",
   "nbconvert_exporter": "python",
   "pygments_lexer": "ipython2",
   "version": "2.7.6"
  }
 },
 "nbformat": 4,
 "nbformat_minor": 0
}
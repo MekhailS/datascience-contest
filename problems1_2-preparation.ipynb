{
 "cells": [
  {
   "cell_type": "markdown",
   "source": [
    "### Подготовка матрицы объекты-признаки и целевой переменной для классификации событий изменения уровня топлива:\n",
    "- сливы-заправки\n",
    "- штатный расход"
   ],
   "metadata": {
    "collapsed": false,
    "pycharm": {
     "name": "#%% md\n"
    }
   }
  },
  {
   "cell_type": "code",
   "execution_count": 68,
   "outputs": [],
   "source": [
    "# imports\n",
    "import pandas as pd\n",
    "import numpy as np"
   ],
   "metadata": {
    "collapsed": false,
    "pycharm": {
     "name": "#%%\n"
    }
   }
  },
  {
   "cell_type": "markdown",
   "metadata": {
    "collapsed": true,
    "pycharm": {
     "name": "#%% md\n"
    }
   },
   "source": [
    "Must-run код с константами и полезными функциями"
   ]
  },
  {
   "cell_type": "code",
   "execution_count": 69,
   "outputs": [],
   "source": [
    "%run \"constants-and-functions.ipynb\""
   ],
   "metadata": {
    "collapsed": false,
    "pycharm": {
     "name": "#%%\n"
    }
   }
  },
  {
   "cell_type": "markdown",
   "source": [
    "Будем работать над первым транспортным средством"
   ],
   "metadata": {
    "collapsed": false,
    "pycharm": {
     "name": "#%% md\n"
    }
   }
  },
  {
   "cell_type": "code",
   "execution_count": 70,
   "outputs": [
    {
     "data": {
      "text/plain": "                dtime  fuellevel  ingection  speed  height  tachometer  refuel\ni                                                                             \n3 2020-01-09 10:05:26       49.7          1      0   -22.9        1248       0\n4 2020-01-09 10:06:27       49.9          1      0   -22.9        1056       0\n5 2020-01-09 10:07:27       50.3          1      0   -22.9         960       0\n6 2020-01-09 10:08:27       50.4          1      0   -22.9         864       0\n7 2020-01-09 10:09:27       50.1          1      0   -22.9         864       0",
      "text/html": "<div>\n<style scoped>\n    .dataframe tbody tr th:only-of-type {\n        vertical-align: middle;\n    }\n\n    .dataframe tbody tr th {\n        vertical-align: top;\n    }\n\n    .dataframe thead th {\n        text-align: right;\n    }\n</style>\n<table border=\"1\" class=\"dataframe\">\n  <thead>\n    <tr style=\"text-align: right;\">\n      <th></th>\n      <th>dtime</th>\n      <th>fuellevel</th>\n      <th>ingection</th>\n      <th>speed</th>\n      <th>height</th>\n      <th>tachometer</th>\n      <th>refuel</th>\n    </tr>\n    <tr>\n      <th>i</th>\n      <th></th>\n      <th></th>\n      <th></th>\n      <th></th>\n      <th></th>\n      <th></th>\n      <th></th>\n    </tr>\n  </thead>\n  <tbody>\n    <tr>\n      <th>3</th>\n      <td>2020-01-09 10:05:26</td>\n      <td>49.7</td>\n      <td>1</td>\n      <td>0</td>\n      <td>-22.9</td>\n      <td>1248</td>\n      <td>0</td>\n    </tr>\n    <tr>\n      <th>4</th>\n      <td>2020-01-09 10:06:27</td>\n      <td>49.9</td>\n      <td>1</td>\n      <td>0</td>\n      <td>-22.9</td>\n      <td>1056</td>\n      <td>0</td>\n    </tr>\n    <tr>\n      <th>5</th>\n      <td>2020-01-09 10:07:27</td>\n      <td>50.3</td>\n      <td>1</td>\n      <td>0</td>\n      <td>-22.9</td>\n      <td>960</td>\n      <td>0</td>\n    </tr>\n    <tr>\n      <th>6</th>\n      <td>2020-01-09 10:08:27</td>\n      <td>50.4</td>\n      <td>1</td>\n      <td>0</td>\n      <td>-22.9</td>\n      <td>864</td>\n      <td>0</td>\n    </tr>\n    <tr>\n      <th>7</th>\n      <td>2020-01-09 10:09:27</td>\n      <td>50.1</td>\n      <td>1</td>\n      <td>0</td>\n      <td>-22.9</td>\n      <td>864</td>\n      <td>0</td>\n    </tr>\n  </tbody>\n</table>\n</div>"
     },
     "execution_count": 70,
     "metadata": {},
     "output_type": "execute_result"
    }
   ],
   "source": [
    "df = pd.read_csv(DATA_PROC_PATH + 'vehicle1.csv', index_col='i')\n",
    "df.dropna(inplace=True)\n",
    "\n",
    "# Так же избавимся от всех нулевых значений\n",
    "df = df[df['fuellevel'] > 0]\n",
    "df['dtime'] = pd.to_datetime(df['dtime'])\n",
    "\n",
    "df.head()"
   ],
   "metadata": {
    "collapsed": false,
    "pycharm": {
     "name": "#%%\n"
    }
   }
  },
  {
   "cell_type": "markdown",
   "source": [
    "Получаем дельты времени и уровня топлива"
   ],
   "metadata": {
    "collapsed": false,
    "pycharm": {
     "name": "#%% md\n"
    }
   }
  },
  {
   "cell_type": "code",
   "execution_count": 71,
   "outputs": [],
   "source": [
    "df_X = pd.DataFrame()\n",
    "\n",
    "DELTA_FEATURES = ['dtime', 'fuellevel']\n",
    "\n",
    "for feature_name in DELTA_FEATURES:\n",
    "    val_start = df[feature_name].iloc[:-1].to_numpy()\n",
    "    val_end = df[feature_name].iloc[1:].to_numpy()\n",
    "\n",
    "    delta_val = val_end - val_start\n",
    "\n",
    "    if feature_name == 'dtime':\n",
    "        df_X['dtime_start'] = val_start\n",
    "        df_X['dtime_end'] = val_end\n",
    "        delta_val = timeDeltaToSeconds(pd.DataFrame(delta_val, columns=['deltaDate'])['deltaDate'])\n",
    "\n",
    "    df_X['delta_' + feature_name] = delta_val"
   ],
   "metadata": {
    "collapsed": false,
    "pycharm": {
     "name": "#%%\n"
    }
   }
  },
  {
   "cell_type": "markdown",
   "source": [
    "Показания тахометра в начале и конце интервала"
   ],
   "metadata": {
    "collapsed": false,
    "pycharm": {
     "name": "#%% md\n"
    }
   }
  },
  {
   "cell_type": "code",
   "execution_count": 72,
   "outputs": [],
   "source": [
    "START_END_FEATURES = ['tachometer']\n",
    "\n",
    "for feature_name in START_END_FEATURES:\n",
    "    val_start = df[feature_name].iloc[:-1].to_numpy()\n",
    "    val_end = df[feature_name].iloc[1:].to_numpy()\n",
    "\n",
    "    df_X[f'{feature_name}_start'] = val_start\n",
    "    df_X[f'{feature_name}_end'] = val_end"
   ],
   "metadata": {
    "collapsed": false,
    "pycharm": {
     "name": "#%%\n"
    }
   }
  },
  {
   "cell_type": "markdown",
   "source": [
    "Чтобы избавиться от знака в fuellevel_delta и не потерять информацию,\n",
    "создадим отдельно столбец модуля изменения и его знака"
   ],
   "metadata": {
    "collapsed": false,
    "pycharm": {
     "name": "#%% md\n",
     "is_executing": true
    }
   },
   "outputs": [
    {
     "ename": "SyntaxError",
     "evalue": "invalid syntax (<ipython-input-28-76f8ef0c9a72>, line 1)",
     "output_type": "error",
     "traceback": [
      "\u001B[1;36m  File \u001B[1;32m\"<ipython-input-28-76f8ef0c9a72>\"\u001B[1;36m, line \u001B[1;32m1\u001B[0m\n\u001B[1;33m    Чтобы избавиться от знака в fuellevel и tachometer и не потерять информацию,\u001B[0m\n\u001B[1;37m          ^\u001B[0m\n\u001B[1;31mSyntaxError\u001B[0m\u001B[1;31m:\u001B[0m invalid syntax\n"
     ]
    }
   ]
  },
  {
   "cell_type": "code",
   "execution_count": 73,
   "outputs": [
    {
     "data": {
      "text/plain": "          dtime_start           dtime_end  delta_seconds  tachometer_start  \\\n0 2020-01-09 10:05:26 2020-01-09 10:06:27           61.0              1248   \n1 2020-01-09 10:06:27 2020-01-09 10:07:27           60.0              1056   \n2 2020-01-09 10:07:27 2020-01-09 10:08:27           60.0               960   \n3 2020-01-09 10:08:27 2020-01-09 10:09:27           60.0               864   \n4 2020-01-09 10:09:27 2020-01-09 10:10:27           60.0               864   \n\n   tachometer_end  delta_fuellevel_abs  delta_fuellevel_sign  \n0            1056                  0.2                   1.0  \n1             960                  0.4                   1.0  \n2             864                  0.1                   1.0  \n3             864                  0.3                  -1.0  \n4             864                  0.4                  -1.0  ",
      "text/html": "<div>\n<style scoped>\n    .dataframe tbody tr th:only-of-type {\n        vertical-align: middle;\n    }\n\n    .dataframe tbody tr th {\n        vertical-align: top;\n    }\n\n    .dataframe thead th {\n        text-align: right;\n    }\n</style>\n<table border=\"1\" class=\"dataframe\">\n  <thead>\n    <tr style=\"text-align: right;\">\n      <th></th>\n      <th>dtime_start</th>\n      <th>dtime_end</th>\n      <th>delta_seconds</th>\n      <th>tachometer_start</th>\n      <th>tachometer_end</th>\n      <th>delta_fuellevel_abs</th>\n      <th>delta_fuellevel_sign</th>\n    </tr>\n  </thead>\n  <tbody>\n    <tr>\n      <th>0</th>\n      <td>2020-01-09 10:05:26</td>\n      <td>2020-01-09 10:06:27</td>\n      <td>61.0</td>\n      <td>1248</td>\n      <td>1056</td>\n      <td>0.2</td>\n      <td>1.0</td>\n    </tr>\n    <tr>\n      <th>1</th>\n      <td>2020-01-09 10:06:27</td>\n      <td>2020-01-09 10:07:27</td>\n      <td>60.0</td>\n      <td>1056</td>\n      <td>960</td>\n      <td>0.4</td>\n      <td>1.0</td>\n    </tr>\n    <tr>\n      <th>2</th>\n      <td>2020-01-09 10:07:27</td>\n      <td>2020-01-09 10:08:27</td>\n      <td>60.0</td>\n      <td>960</td>\n      <td>864</td>\n      <td>0.1</td>\n      <td>1.0</td>\n    </tr>\n    <tr>\n      <th>3</th>\n      <td>2020-01-09 10:08:27</td>\n      <td>2020-01-09 10:09:27</td>\n      <td>60.0</td>\n      <td>864</td>\n      <td>864</td>\n      <td>0.3</td>\n      <td>-1.0</td>\n    </tr>\n    <tr>\n      <th>4</th>\n      <td>2020-01-09 10:09:27</td>\n      <td>2020-01-09 10:10:27</td>\n      <td>60.0</td>\n      <td>864</td>\n      <td>864</td>\n      <td>0.4</td>\n      <td>-1.0</td>\n    </tr>\n  </tbody>\n</table>\n</div>"
     },
     "execution_count": 73,
     "metadata": {},
     "output_type": "execute_result"
    }
   ],
   "source": [
    "SIGN_ABS_FEATURES = ['fuellevel']\n",
    "\n",
    "for feature_name in SIGN_ABS_FEATURES:\n",
    "    df_X[f'delta_{feature_name}_abs'] = np.abs(df_X[f'delta_{feature_name}'])\n",
    "    df_X[f'delta_{feature_name}_sign'] = np.sign(df_X[f'delta_{feature_name}'])\n",
    "    df_X.drop(columns=[f'delta_{feature_name}'], inplace=True)\n",
    "\n",
    "df_X.rename({'delta_dtime':'delta_seconds'}, axis='columns', inplace=True)\n",
    "\n",
    "df_X.head()"
   ],
   "metadata": {
    "collapsed": false,
    "pycharm": {
     "name": "#%%\n"
    }
   }
  },
  {
   "cell_type": "markdown",
   "source": [
    "Скорость изменения уровня топлива в л/с"
   ],
   "metadata": {
    "collapsed": false,
    "pycharm": {
     "name": "#%% md\n"
    }
   }
  },
  {
   "cell_type": "code",
   "execution_count": 74,
   "outputs": [
    {
     "data": {
      "text/plain": "          dtime_start           dtime_end  delta_seconds  tachometer_start  \\\n0 2020-01-09 10:05:26 2020-01-09 10:06:27           61.0              1248   \n1 2020-01-09 10:06:27 2020-01-09 10:07:27           60.0              1056   \n2 2020-01-09 10:07:27 2020-01-09 10:08:27           60.0               960   \n3 2020-01-09 10:08:27 2020-01-09 10:09:27           60.0               864   \n4 2020-01-09 10:09:27 2020-01-09 10:10:27           60.0               864   \n\n   tachometer_end  delta_fuellevel_abs  delta_fuellevel_sign   lps_abs  \n0            1056                  0.2                   1.0  0.003279  \n1             960                  0.4                   1.0  0.006667  \n2             864                  0.1                   1.0  0.001667  \n3             864                  0.3                  -1.0  0.005000  \n4             864                  0.4                  -1.0  0.006667  ",
      "text/html": "<div>\n<style scoped>\n    .dataframe tbody tr th:only-of-type {\n        vertical-align: middle;\n    }\n\n    .dataframe tbody tr th {\n        vertical-align: top;\n    }\n\n    .dataframe thead th {\n        text-align: right;\n    }\n</style>\n<table border=\"1\" class=\"dataframe\">\n  <thead>\n    <tr style=\"text-align: right;\">\n      <th></th>\n      <th>dtime_start</th>\n      <th>dtime_end</th>\n      <th>delta_seconds</th>\n      <th>tachometer_start</th>\n      <th>tachometer_end</th>\n      <th>delta_fuellevel_abs</th>\n      <th>delta_fuellevel_sign</th>\n      <th>lps_abs</th>\n    </tr>\n  </thead>\n  <tbody>\n    <tr>\n      <th>0</th>\n      <td>2020-01-09 10:05:26</td>\n      <td>2020-01-09 10:06:27</td>\n      <td>61.0</td>\n      <td>1248</td>\n      <td>1056</td>\n      <td>0.2</td>\n      <td>1.0</td>\n      <td>0.003279</td>\n    </tr>\n    <tr>\n      <th>1</th>\n      <td>2020-01-09 10:06:27</td>\n      <td>2020-01-09 10:07:27</td>\n      <td>60.0</td>\n      <td>1056</td>\n      <td>960</td>\n      <td>0.4</td>\n      <td>1.0</td>\n      <td>0.006667</td>\n    </tr>\n    <tr>\n      <th>2</th>\n      <td>2020-01-09 10:07:27</td>\n      <td>2020-01-09 10:08:27</td>\n      <td>60.0</td>\n      <td>960</td>\n      <td>864</td>\n      <td>0.1</td>\n      <td>1.0</td>\n      <td>0.001667</td>\n    </tr>\n    <tr>\n      <th>3</th>\n      <td>2020-01-09 10:08:27</td>\n      <td>2020-01-09 10:09:27</td>\n      <td>60.0</td>\n      <td>864</td>\n      <td>864</td>\n      <td>0.3</td>\n      <td>-1.0</td>\n      <td>0.005000</td>\n    </tr>\n    <tr>\n      <th>4</th>\n      <td>2020-01-09 10:09:27</td>\n      <td>2020-01-09 10:10:27</td>\n      <td>60.0</td>\n      <td>864</td>\n      <td>864</td>\n      <td>0.4</td>\n      <td>-1.0</td>\n      <td>0.006667</td>\n    </tr>\n  </tbody>\n</table>\n</div>"
     },
     "execution_count": 74,
     "metadata": {},
     "output_type": "execute_result"
    }
   ],
   "source": [
    "df_X['lps_abs'] = df_X['delta_fuellevel_abs']/df_X['delta_seconds']\n",
    "\n",
    "df_X.head()"
   ],
   "metadata": {
    "collapsed": false,
    "pycharm": {
     "name": "#%%\n"
    }
   }
  },
  {
   "cell_type": "markdown",
   "source": [
    "Целевая переменная refuel"
   ],
   "metadata": {
    "collapsed": false,
    "pycharm": {
     "name": "#%% md\n"
    }
   }
  },
  {
   "cell_type": "code",
   "execution_count": 75,
   "outputs": [
    {
     "data": {
      "text/plain": "       refuel\n0       False\n1       False\n2       False\n3       False\n4       False\n...       ...\n18364   False\n18365   False\n18366   False\n18367   False\n18368   False\n\n[18369 rows x 1 columns]",
      "text/html": "<div>\n<style scoped>\n    .dataframe tbody tr th:only-of-type {\n        vertical-align: middle;\n    }\n\n    .dataframe tbody tr th {\n        vertical-align: top;\n    }\n\n    .dataframe thead th {\n        text-align: right;\n    }\n</style>\n<table border=\"1\" class=\"dataframe\">\n  <thead>\n    <tr style=\"text-align: right;\">\n      <th></th>\n      <th>refuel</th>\n    </tr>\n  </thead>\n  <tbody>\n    <tr>\n      <th>0</th>\n      <td>False</td>\n    </tr>\n    <tr>\n      <th>1</th>\n      <td>False</td>\n    </tr>\n    <tr>\n      <th>2</th>\n      <td>False</td>\n    </tr>\n    <tr>\n      <th>3</th>\n      <td>False</td>\n    </tr>\n    <tr>\n      <th>4</th>\n      <td>False</td>\n    </tr>\n    <tr>\n      <th>...</th>\n      <td>...</td>\n    </tr>\n    <tr>\n      <th>18364</th>\n      <td>False</td>\n    </tr>\n    <tr>\n      <th>18365</th>\n      <td>False</td>\n    </tr>\n    <tr>\n      <th>18366</th>\n      <td>False</td>\n    </tr>\n    <tr>\n      <th>18367</th>\n      <td>False</td>\n    </tr>\n    <tr>\n      <th>18368</th>\n      <td>False</td>\n    </tr>\n  </tbody>\n</table>\n<p>18369 rows × 1 columns</p>\n</div>"
     },
     "execution_count": 75,
     "metadata": {},
     "output_type": "execute_result"
    }
   ],
   "source": [
    "df_Y = pd.DataFrame()\n",
    "\n",
    "val_start = df['refuel'].iloc[:-1].to_numpy()\n",
    "val_end = df['refuel'].iloc[1:].to_numpy()\n",
    "\n",
    "df_Y['refuel'] = (val_end + val_start) >= 1\n",
    "\n",
    "df_Y"
   ],
   "metadata": {
    "collapsed": false,
    "pycharm": {
     "name": "#%%\n"
    }
   }
  },
  {
   "cell_type": "code",
   "execution_count": 76,
   "outputs": [
    {
     "data": {
      "text/plain": "              dtime_start           dtime_end  delta_seconds  \\\n0     2020-01-09 10:05:26 2020-01-09 10:06:27           61.0   \n1     2020-01-09 10:06:27 2020-01-09 10:07:27           60.0   \n2     2020-01-09 10:07:27 2020-01-09 10:08:27           60.0   \n3     2020-01-09 10:08:27 2020-01-09 10:09:27           60.0   \n4     2020-01-09 10:09:27 2020-01-09 10:10:27           60.0   \n...                   ...                 ...            ...   \n18364 2020-06-27 00:47:05 2020-06-27 00:48:05           60.0   \n18365 2020-06-27 00:48:05 2020-06-27 00:49:05           60.0   \n18366 2020-06-27 00:49:05 2020-06-27 01:15:14         1569.0   \n18367 2020-06-27 01:15:14 2020-06-27 01:16:14           60.0   \n18368 2020-06-27 01:16:14 2020-06-27 01:17:14           60.0   \n\n       tachometer_start  tachometer_end  delta_fuellevel_abs  \\\n0                  1248            1056                  0.2   \n1                  1056             960                  0.4   \n2                   960             864                  0.1   \n3                   864             864                  0.3   \n4                   864             864                  0.4   \n...                 ...             ...                  ...   \n18364               832             832                  0.4   \n18365               832             832                  0.2   \n18366               832            1408                  0.2   \n18367              1408             928                  0.2   \n18368               928             832                  0.2   \n\n       delta_fuellevel_sign   lps_abs  \n0                       1.0  0.003279  \n1                       1.0  0.006667  \n2                       1.0  0.001667  \n3                      -1.0  0.005000  \n4                      -1.0  0.006667  \n...                     ...       ...  \n18364                   1.0  0.006667  \n18365                   1.0  0.003333  \n18366                  -1.0  0.000127  \n18367                   1.0  0.003333  \n18368                   1.0  0.003333  \n\n[18369 rows x 8 columns]",
      "text/html": "<div>\n<style scoped>\n    .dataframe tbody tr th:only-of-type {\n        vertical-align: middle;\n    }\n\n    .dataframe tbody tr th {\n        vertical-align: top;\n    }\n\n    .dataframe thead th {\n        text-align: right;\n    }\n</style>\n<table border=\"1\" class=\"dataframe\">\n  <thead>\n    <tr style=\"text-align: right;\">\n      <th></th>\n      <th>dtime_start</th>\n      <th>dtime_end</th>\n      <th>delta_seconds</th>\n      <th>tachometer_start</th>\n      <th>tachometer_end</th>\n      <th>delta_fuellevel_abs</th>\n      <th>delta_fuellevel_sign</th>\n      <th>lps_abs</th>\n    </tr>\n  </thead>\n  <tbody>\n    <tr>\n      <th>0</th>\n      <td>2020-01-09 10:05:26</td>\n      <td>2020-01-09 10:06:27</td>\n      <td>61.0</td>\n      <td>1248</td>\n      <td>1056</td>\n      <td>0.2</td>\n      <td>1.0</td>\n      <td>0.003279</td>\n    </tr>\n    <tr>\n      <th>1</th>\n      <td>2020-01-09 10:06:27</td>\n      <td>2020-01-09 10:07:27</td>\n      <td>60.0</td>\n      <td>1056</td>\n      <td>960</td>\n      <td>0.4</td>\n      <td>1.0</td>\n      <td>0.006667</td>\n    </tr>\n    <tr>\n      <th>2</th>\n      <td>2020-01-09 10:07:27</td>\n      <td>2020-01-09 10:08:27</td>\n      <td>60.0</td>\n      <td>960</td>\n      <td>864</td>\n      <td>0.1</td>\n      <td>1.0</td>\n      <td>0.001667</td>\n    </tr>\n    <tr>\n      <th>3</th>\n      <td>2020-01-09 10:08:27</td>\n      <td>2020-01-09 10:09:27</td>\n      <td>60.0</td>\n      <td>864</td>\n      <td>864</td>\n      <td>0.3</td>\n      <td>-1.0</td>\n      <td>0.005000</td>\n    </tr>\n    <tr>\n      <th>4</th>\n      <td>2020-01-09 10:09:27</td>\n      <td>2020-01-09 10:10:27</td>\n      <td>60.0</td>\n      <td>864</td>\n      <td>864</td>\n      <td>0.4</td>\n      <td>-1.0</td>\n      <td>0.006667</td>\n    </tr>\n    <tr>\n      <th>...</th>\n      <td>...</td>\n      <td>...</td>\n      <td>...</td>\n      <td>...</td>\n      <td>...</td>\n      <td>...</td>\n      <td>...</td>\n      <td>...</td>\n    </tr>\n    <tr>\n      <th>18364</th>\n      <td>2020-06-27 00:47:05</td>\n      <td>2020-06-27 00:48:05</td>\n      <td>60.0</td>\n      <td>832</td>\n      <td>832</td>\n      <td>0.4</td>\n      <td>1.0</td>\n      <td>0.006667</td>\n    </tr>\n    <tr>\n      <th>18365</th>\n      <td>2020-06-27 00:48:05</td>\n      <td>2020-06-27 00:49:05</td>\n      <td>60.0</td>\n      <td>832</td>\n      <td>832</td>\n      <td>0.2</td>\n      <td>1.0</td>\n      <td>0.003333</td>\n    </tr>\n    <tr>\n      <th>18366</th>\n      <td>2020-06-27 00:49:05</td>\n      <td>2020-06-27 01:15:14</td>\n      <td>1569.0</td>\n      <td>832</td>\n      <td>1408</td>\n      <td>0.2</td>\n      <td>-1.0</td>\n      <td>0.000127</td>\n    </tr>\n    <tr>\n      <th>18367</th>\n      <td>2020-06-27 01:15:14</td>\n      <td>2020-06-27 01:16:14</td>\n      <td>60.0</td>\n      <td>1408</td>\n      <td>928</td>\n      <td>0.2</td>\n      <td>1.0</td>\n      <td>0.003333</td>\n    </tr>\n    <tr>\n      <th>18368</th>\n      <td>2020-06-27 01:16:14</td>\n      <td>2020-06-27 01:17:14</td>\n      <td>60.0</td>\n      <td>928</td>\n      <td>832</td>\n      <td>0.2</td>\n      <td>1.0</td>\n      <td>0.003333</td>\n    </tr>\n  </tbody>\n</table>\n<p>18369 rows × 8 columns</p>\n</div>"
     },
     "execution_count": 76,
     "metadata": {},
     "output_type": "execute_result"
    }
   ],
   "source": [
    "df_X"
   ],
   "metadata": {
    "collapsed": false,
    "pycharm": {
     "name": "#%%\n"
    }
   }
  }
 ],
 "metadata": {
  "kernelspec": {
   "display_name": "Python 3",
   "language": "python",
   "name": "python3"
  },
  "language_info": {
   "codemirror_mode": {
    "name": "ipython",
    "version": 2
   },
   "file_extension": ".py",
   "mimetype": "text/x-python",
   "name": "python",
   "nbconvert_exporter": "python",
   "pygments_lexer": "ipython2",
   "version": "2.7.6"
  }
 },
 "nbformat": 4,
 "nbformat_minor": 0
}
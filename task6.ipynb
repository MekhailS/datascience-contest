{
 "cells": [
  {
   "cell_type": "markdown",
   "metadata": {},
   "source": [
    "# Clasterization"
   ]
  },
  {
   "cell_type": "markdown",
   "metadata": {},
   "source": [
    "Выполняю код Саши по задачам 3-6"
   ]
  },
  {
   "cell_type": "code",
   "execution_count": 1,
   "metadata": {},
   "outputs": [
    {
     "name": "stdout",
     "output_type": "stream",
     "text": [
      "Доля записей, в которых бак пустой: 0.593607579755337\n",
      "Доля записей, в которых зажигание выключено: 0.5748380906692252\n",
      "Доля записей, в которых выполнено и то и то: 0.5747781242504197\n",
      "Средний уровень топлива у ТС #1 при выключенном зажигании: 0.00\n",
      "Средний уровень топлива у ТС #3 при выключенном зажигании: 71.30\n",
      "Средний уровень топлива у ТС #5 при выключенном зажигании: 0.05\n",
      "Средний уровень топлива у ТС #19 при выключенном зажигании: 0.00\n",
      "Средний уровень топлива у ТС #28 при выключенном зажигании: 0.00\n"
     ]
    }
   ],
   "source": [
    "import matplotlib.pyplot as plt\n",
    "from mpl_toolkits.mplot3d import Axes3D\n",
    "\n",
    "\n",
    "%run \"problems 3-6.ipynb\""
   ]
  },
  {
   "cell_type": "code",
   "execution_count": 2,
   "metadata": {},
   "outputs": [
    {
     "data": {
      "text/html": [
       "<div>\n",
       "<style scoped>\n",
       "    .dataframe tbody tr th:only-of-type {\n",
       "        vertical-align: middle;\n",
       "    }\n",
       "\n",
       "    .dataframe tbody tr th {\n",
       "        vertical-align: top;\n",
       "    }\n",
       "\n",
       "    .dataframe thead th {\n",
       "        text-align: right;\n",
       "    }\n",
       "</style>\n",
       "<table border=\"1\" class=\"dataframe\">\n",
       "  <thead>\n",
       "    <tr style=\"text-align: right;\">\n",
       "      <th></th>\n",
       "      <th>MaxFuelLevel</th>\n",
       "      <th>MeanFuelLevel</th>\n",
       "      <th>MedianFuelLevel</th>\n",
       "      <th>MaxSpeed</th>\n",
       "      <th>MeanSpeed</th>\n",
       "      <th>MedianSpeed</th>\n",
       "      <th>MeanAbsAcceleration</th>\n",
       "      <th>MedianAbsAcceleration</th>\n",
       "      <th>MeanTachometer</th>\n",
       "      <th>MedianTachometer</th>\n",
       "      <th>MeanIngection</th>\n",
       "      <th>MedianDecLPH</th>\n",
       "    </tr>\n",
       "  </thead>\n",
       "  <tbody>\n",
       "    <tr>\n",
       "      <th>1</th>\n",
       "      <td>59.69</td>\n",
       "      <td>38.865458</td>\n",
       "      <td>3.948000e+01</td>\n",
       "      <td>124.2</td>\n",
       "      <td>38.343104</td>\n",
       "      <td>30.0</td>\n",
       "      <td>160.861672</td>\n",
       "      <td>108.0</td>\n",
       "      <td>1807.216478</td>\n",
       "      <td>1568.0</td>\n",
       "      <td>0.984815</td>\n",
       "      <td>-12.449061</td>\n",
       "    </tr>\n",
       "    <tr>\n",
       "      <th>3</th>\n",
       "      <td>277.21</td>\n",
       "      <td>180.773407</td>\n",
       "      <td>1.873600e+02</td>\n",
       "      <td>93.4</td>\n",
       "      <td>19.148629</td>\n",
       "      <td>14.8</td>\n",
       "      <td>102.152539</td>\n",
       "      <td>24.0</td>\n",
       "      <td>1032.753226</td>\n",
       "      <td>950.0</td>\n",
       "      <td>0.999032</td>\n",
       "      <td>-10.028369</td>\n",
       "    </tr>\n",
       "    <tr>\n",
       "      <th>5</th>\n",
       "      <td>73.07</td>\n",
       "      <td>40.352908</td>\n",
       "      <td>4.063000e+01</td>\n",
       "      <td>124.6</td>\n",
       "      <td>48.209261</td>\n",
       "      <td>45.9</td>\n",
       "      <td>170.587938</td>\n",
       "      <td>120.0</td>\n",
       "      <td>1572.068366</td>\n",
       "      <td>1686.0</td>\n",
       "      <td>0.976389</td>\n",
       "      <td>-16.786343</td>\n",
       "    </tr>\n",
       "    <tr>\n",
       "      <th>19</th>\n",
       "      <td>95.00</td>\n",
       "      <td>29.941259</td>\n",
       "      <td>2.536000e+01</td>\n",
       "      <td>13.8</td>\n",
       "      <td>1.420739</td>\n",
       "      <td>1.2</td>\n",
       "      <td>8.038214</td>\n",
       "      <td>6.0</td>\n",
       "      <td>1126.779966</td>\n",
       "      <td>1110.0</td>\n",
       "      <td>0.991352</td>\n",
       "      <td>-8.823927</td>\n",
       "    </tr>\n",
       "    <tr>\n",
       "      <th>28</th>\n",
       "      <td>60.00</td>\n",
       "      <td>16.825789</td>\n",
       "      <td>1.890044e-13</td>\n",
       "      <td>115.1</td>\n",
       "      <td>36.022691</td>\n",
       "      <td>29.1</td>\n",
       "      <td>79.277601</td>\n",
       "      <td>0.0</td>\n",
       "      <td>817.308707</td>\n",
       "      <td>0.0</td>\n",
       "      <td>0.425162</td>\n",
       "      <td>-65.023800</td>\n",
       "    </tr>\n",
       "  </tbody>\n",
       "</table>\n",
       "</div>"
      ],
      "text/plain": [
       "    MaxFuelLevel  MeanFuelLevel  MedianFuelLevel  MaxSpeed  MeanSpeed  \\\n",
       "1          59.69      38.865458     3.948000e+01     124.2  38.343104   \n",
       "3         277.21     180.773407     1.873600e+02      93.4  19.148629   \n",
       "5          73.07      40.352908     4.063000e+01     124.6  48.209261   \n",
       "19         95.00      29.941259     2.536000e+01      13.8   1.420739   \n",
       "28         60.00      16.825789     1.890044e-13     115.1  36.022691   \n",
       "\n",
       "    MedianSpeed  MeanAbsAcceleration  MedianAbsAcceleration  MeanTachometer  \\\n",
       "1          30.0           160.861672                  108.0     1807.216478   \n",
       "3          14.8           102.152539                   24.0     1032.753226   \n",
       "5          45.9           170.587938                  120.0     1572.068366   \n",
       "19          1.2             8.038214                    6.0     1126.779966   \n",
       "28         29.1            79.277601                    0.0      817.308707   \n",
       "\n",
       "    MedianTachometer  MeanIngection  MedianDecLPH  \n",
       "1             1568.0       0.984815    -12.449061  \n",
       "3              950.0       0.999032    -10.028369  \n",
       "5             1686.0       0.976389    -16.786343  \n",
       "19            1110.0       0.991352     -8.823927  \n",
       "28               0.0       0.425162    -65.023800  "
      ]
     },
     "execution_count": 2,
     "metadata": {},
     "output_type": "execute_result"
    }
   ],
   "source": [
    "X"
   ]
  },
  {
   "cell_type": "markdown",
   "metadata": {},
   "source": [
    "сначала попробуем визуализировать наши данные инструментом t-SNE. это инструмент для визуализации многомерных данных. Он преобразует сходства между точками данных в совместные вероятности и пытается минимизировать расхождение Кульбака-Лейблера между совместными вероятностями низкоразмерного встраивания и многомерных данных. t-SNE имеет функцию стоимости, которая не является выпуклой, то есть при разных инициализациях мы можем получить разные результаты."
   ]
  },
  {
   "cell_type": "code",
   "execution_count": 3,
   "metadata": {},
   "outputs": [
    {
     "data": {
      "text/plain": [
       "<mpl_toolkits.mplot3d.art3d.Path3DCollection at 0x13ed9dc67f0>"
      ]
     },
     "execution_count": 3,
     "metadata": {},
     "output_type": "execute_result"
    },
    {
     "data": {
      "image/png": "[encoded data removed]",
      "text/plain": [
       "<Figure size 432x288 with 1 Axes>"
      ]
     },
     "metadata": {
      "needs_background": "light"
     },
     "output_type": "display_data"
    }
   ],
   "source": [
    "from sklearn.manifold import TSNE\n",
    "X_embedded = TSNE(n_components=3, perplexity=30, learning_rate=100).fit_transform(X)\n",
    "fig = plt.figure()\n",
    "ax = fig.add_subplot(111, projection='3d')\n",
    "ax.scatter(X_embedded[:,0], X_embedded[:,1], X_embedded[:,2])"
   ]
  },
  {
   "cell_type": "markdown",
   "metadata": {},
   "source": [
    "Произведем кластеризации различными методами и построим дендрограммы"
   ]
  },
  {
   "cell_type": "code",
   "execution_count": 4,
   "metadata": {},
   "outputs": [
    {
     "data": {
      "image/png": "[encoded data removed]",
      "text/plain": [
       "<Figure size 432x288 with 1 Axes>"
      ]
     },
     "metadata": {
      "needs_background": "light"
     },
     "output_type": "display_data"
    }
   ],
   "source": [
    "from scipy.cluster.hierarchy import linkage, dendrogram\n",
    "indexes = list(X.index)\n",
    "# считаем за расстояние ближайшие точки двух кластеров\n",
    "Z = linkage(X, 'single', 'euclidean', True)\n",
    "dn = dendrogram(Z, labels=indexes)\n",
    "plt.show()"
   ]
  },
  {
   "cell_type": "code",
   "execution_count": 5,
   "metadata": {},
   "outputs": [
    {
     "data": {
      "image/png": "[encoded data removed]",
      "text/plain": [
       "<Figure size 432x288 with 1 Axes>"
      ]
     },
     "metadata": {
      "needs_background": "light"
     },
     "output_type": "display_data"
    }
   ],
   "source": [
    "Z = linkage(X, 'single', 'euclidean', False)\n",
    "dn = dendrogram(Z, labels=indexes)\n",
    "plt.show()"
   ]
  },
  {
   "cell_type": "code",
   "execution_count": 6,
   "metadata": {},
   "outputs": [
    {
     "data": {
      "image/png": "[encoded data removed]",
      "text/plain": [
       "<Figure size 432x288 with 1 Axes>"
      ]
     },
     "metadata": {
      "needs_background": "light"
     },
     "output_type": "display_data"
    }
   ],
   "source": [
    "Z = linkage(X, 'single', 'cityblock', True)\n",
    "dn = dendrogram(Z, labels=indexes)\n",
    "plt.show()"
   ]
  },
  {
   "cell_type": "code",
   "execution_count": 7,
   "metadata": {},
   "outputs": [
    {
     "data": {
      "image/png": "[encoded data removed]",
      "text/plain": [
       "<Figure size 432x288 with 1 Axes>"
      ]
     },
     "metadata": {
      "needs_background": "light"
     },
     "output_type": "display_data"
    }
   ],
   "source": [
    "# считаем за расстояние самые отдаленные точки кластеров\n",
    "Z = linkage(X, 'complete', 'euclidean', True)\n",
    "dn = dendrogram(Z, labels=indexes)\n",
    "plt.show()"
   ]
  },
  {
   "cell_type": "code",
   "execution_count": 8,
   "metadata": {},
   "outputs": [
    {
     "data": {
      "image/png": "[encoded data removed]",
      "text/plain": [
       "<Figure size 432x288 with 1 Axes>"
      ]
     },
     "metadata": {
      "needs_background": "light"
     },
     "output_type": "display_data"
    }
   ],
   "source": [
    "Z = linkage(X, 'complete', 'sqeuclidean', True)\n",
    "dn = dendrogram(Z, labels=indexes)\n",
    "plt.show()\n",
    "# как и предполагалось, при изменении метрики таким образом просто увеличивается расстояние между отдаленными объектами"
   ]
  },
  {
   "cell_type": "code",
   "execution_count": 9,
   "metadata": {},
   "outputs": [
    {
     "data": {
      "image/png": "[encoded data removed]",
      "text/plain": [
       "<Figure size 432x288 with 1 Axes>"
      ]
     },
     "metadata": {
      "needs_background": "light"
     },
     "output_type": "display_data"
    }
   ],
   "source": [
    "Z = linkage(X, 'weighted', 'euclidean', True)\n",
    "dn = dendrogram(Z, labels=indexes)\n",
    "plt.show()"
   ]
  },
  {
   "cell_type": "code",
   "execution_count": 10,
   "metadata": {},
   "outputs": [
    {
     "data": {
      "image/png": "[encoded data removed]",
      "text/plain": [
       "<Figure size 432x288 with 1 Axes>"
      ]
     },
     "metadata": {
      "needs_background": "light"
     },
     "output_type": "display_data"
    }
   ],
   "source": [
    "Z = linkage(X, 'ward', 'euclidean', True)\n",
    "dn = dendrogram(Z, labels=indexes)\n",
    "plt.show()"
   ]
  },
  {
   "cell_type": "markdown",
   "metadata": {},
   "source": [
    "Итого большинство методов дает один и тот же результат по разделению ТС. Подробнее про алгоритмы метода linkage написано тут https://docs.scipy.org/doc/scipy/reference/generated/scipy.cluster.hierarchy.linkage.html#scipy.cluster.hierarchy.linkage"
   ]
  },
  {
   "cell_type": "markdown",
   "metadata": {},
   "source": [
    "в планах прочитать про  DBSCAN, но мне кажется, что можно оставить и linkage. Правильнее, наверное, будет выделить 3 кластера, но как это описать не с точки зрения \"я так вижу\" мне придумать тяжело. Кстати и при визуализации мы получили тоже такую-же картину. Мне сложно понять, насколько они различны/индентичны с математической стороны\n",
    "\n",
    "это разбиение ТС по типам, т.е. задание 6. "
   ]
  }
 ],
 "metadata": {
  "kernelspec": {
   "display_name": "Python 3",
   "language": "python",
   "name": "python3"
  },
  "language_info": {
   "codemirror_mode": {
    "name": "ipython",
    "version": 3
   },
   "file_extension": ".py",
   "mimetype": "text/x-python",
   "name": "python",
   "nbconvert_exporter": "python",
   "pygments_lexer": "ipython3",
   "version": "3.8.3"
  }
 },
 "nbformat": 4,
 "nbformat_minor": 4
}
